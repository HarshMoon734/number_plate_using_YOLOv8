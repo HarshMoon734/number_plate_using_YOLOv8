{
 "cells": [
  {
   "cell_type": "code",
   "execution_count": 1,
   "id": "24bac889-94a7-4590-8f6c-71578e6454ab",
   "metadata": {},
   "outputs": [],
   "source": [
    "import xml.etree.ElementTree as ET\n",
    "import os\n",
    "import numpy as np\n",
    "import cv2 as cv\n",
    "from PIL import Image"
   ]
  },
  {
   "cell_type": "code",
   "execution_count": 2,
   "id": "500e526d-f3b2-4ad0-a3b1-fb7f8a650766",
   "metadata": {},
   "outputs": [],
   "source": [
    "def parse_annotation(xml_file):\n",
    "    tree = ET.parse(xml_file)\n",
    "    root = tree.getroot()\n",
    "\n",
    "    filename = root.find(\"filename\").text\n",
    "    size = root.find(\"size\")\n",
    "    width = int(size.find(\"width\").text)\n",
    "    height = int(size.find(\"height\").text)\n",
    "    depth = int(size.find(\"depth\").text)\n",
    "\n",
    "    object_data = []\n",
    "    for obj in root.findall(\"object\"):\n",
    "        name = obj.find(\"name\").text\n",
    "        bndbox = obj.find(\"bndbox\")\n",
    "        xmin = int(bndbox.find(\"xmin\").text)\n",
    "        ymin = int(bndbox.find(\"ymin\").text)\n",
    "        xmax = int(bndbox.find(\"xmax\").text)\n",
    "        ymax = int(bndbox.find(\"ymax\").text)\n",
    "        \n",
    "        object_data.append({\n",
    "            \"name\": name,\n",
    "            \"bbox\": (xmin, ymin, xmax, ymax)\n",
    "        })\n",
    "\n",
    "    return filename, object_data[0][\"bbox\"]"
   ]
  },
  {
   "cell_type": "code",
   "execution_count": 5,
   "id": "3ec93013-36b2-431b-b7c7-b65308d5826f",
   "metadata": {},
   "outputs": [
    {
     "name": "stderr",
     "output_type": "stream",
     "text": [
      "Downloading...\n",
      "From (original): https://drive.google.com/uc?id=1bg2diYLGbePF9Ze6zLm7FXQiDB_HoNn0\n",
      "From (redirected): https://drive.google.com/uc?id=1bg2diYLGbePF9Ze6zLm7FXQiDB_HoNn0&confirm=t&uuid=6ee4fb4d-bf3b-4e78-8697-ee66537d790b\n",
      "To: C:\\Users\\Harsh\\revision\\computer_vision\\number_plate\\number_.zip\n",
      "100%|███████████████████████████████████████████████████████████████████████████████| 213M/213M [02:30<00:00, 1.42MB/s]\n"
     ]
    },
    {
     "data": {
      "text/plain": [
       "'number_.zip'"
      ]
     },
     "execution_count": 5,
     "metadata": {},
     "output_type": "execute_result"
    }
   ],
   "source": [
    "import gdown\n",
    "\n",
    "file_id = \"1bg2diYLGbePF9Ze6zLm7FXQiDB_HoNn0\"\n",
    "url = f\"https://drive.google.com/uc?id={file_id}\"\n",
    "output = \"number_.zip\"\n",
    "gdown.download(url, output, quiet=False)"
   ]
  },
  {
   "cell_type": "code",
   "execution_count": 9,
   "id": "0a463fd2-5fe7-4974-baed-55667826b65d",
   "metadata": {},
   "outputs": [
    {
     "name": "stdout",
     "output_type": "stream",
     "text": [
      "Unzipping complete!\n"
     ]
    }
   ],
   "source": [
    "import zipfile\n",
    "import os\n",
    "\n",
    "zip_path = \"number_.zip\"  # Your ZIP file\n",
    "extract_to = os.path.dirname(zip_path)  # Get the same folder where ZIP is located\n",
    "\n",
    "# Open and extract ZIP file\n",
    "with zipfile.ZipFile(zip_path, \"r\") as zip_ref:\n",
    "    zip_ref.extractall(extract_to)\n",
    "\n",
    "print(\"Unzipping complete!\")"
   ]
  },
  {
   "cell_type": "code",
   "execution_count": 10,
   "id": "d43096da-ffc8-4e44-a602-7056b1cc7317",
   "metadata": {},
   "outputs": [
    {
     "name": "stdout",
     "output_type": "stream",
     "text": [
      "['Cars0.xml', 'Cars1.xml', 'Cars10.xml', 'Cars100.xml', 'Cars101.xml', 'Cars102.xml', 'Cars103.xml', 'Cars104.xml', 'Cars105.xml', 'Cars106.xml']\n"
     ]
    }
   ],
   "source": [
    "__dirname = r\"number_\"\n",
    "__dirname_annotation = os.path.join(__dirname, \"annotations\")\n",
    "__dirname_image = os.path.join(__dirname, \"images\")\n",
    "print(os.listdir(__dirname_annotation)[:10])"
   ]
  },
  {
   "cell_type": "code",
   "execution_count": 11,
   "id": "eeccc2d8-ab2c-48c4-a12c-e78b1e116064",
   "metadata": {},
   "outputs": [],
   "source": [
    "file_name = []\n",
    "bbox_array = []\n",
    "\n",
    "for xml in os.listdir(__dirname_annotation):\n",
    "    cur_file = parse_annotation(os.path.join(__dirname_annotation, xml))\n",
    "    file_name.append(cur_file[0])\n",
    "    bbox_array.append(cur_file[1])"
   ]
  },
  {
   "cell_type": "code",
   "execution_count": 5,
   "id": "fa441b69-6451-41c8-897b-ec7471b4500d",
   "metadata": {},
   "outputs": [],
   "source": [
    "file_name = np.array(file_name)\n",
    "bbox_array = np.array(bbox_array)"
   ]
  },
  {
   "cell_type": "code",
   "execution_count": 6,
   "id": "3997e94e-8c9b-4aac-9350-aaefb1d8e436",
   "metadata": {},
   "outputs": [
    {
     "data": {
      "text/plain": [
       "((433,), (433, 4))"
      ]
     },
     "execution_count": 6,
     "metadata": {},
     "output_type": "execute_result"
    }
   ],
   "source": [
    "file_name.shape,bbox_array.shape"
   ]
  },
  {
   "cell_type": "code",
   "execution_count": 7,
   "id": "bd204058-7ad2-42e6-9ca0-8e4587405b75",
   "metadata": {},
   "outputs": [],
   "source": [
    "def draw_number(car_name):\n",
    "    # car_name = \"Cars21.png\"\n",
    "    if os.path.exists(os.path.join(__dirname_image,car_name)) == False:\n",
    "        raise ValueError(\"wrong\")\n",
    "    ind = np.where(file_name == car_name)[0][0]\n",
    "    bbox = bbox_array[ind]\n",
    "    print(bbox)\n",
    "    img = cv.imread(os.path.join(__dirname_image, car_name))\n",
    "    img = img[bbox[1]:bbox[3],bbox[0]:bbox[2]]\n",
    "    cv.imshow(\"some\",img)\n",
    "    cv.waitKey(0)\n",
    "    cv.destroyAllWindows()"
   ]
  },
  {
   "cell_type": "code",
   "execution_count": 9,
   "id": "11fcda84-eb93-41d3-9861-c16c26c6768e",
   "metadata": {},
   "outputs": [
    {
     "name": "stdout",
     "output_type": "stream",
     "text": [
      "[112 114 373 239]\n"
     ]
    }
   ],
   "source": [
    "draw_number(\"Cars6.png\")"
   ]
  },
  {
   "cell_type": "code",
   "execution_count": 10,
   "id": "1828b58c-56a6-4a59-944a-3c8e4727e97a",
   "metadata": {},
   "outputs": [
    {
     "data": {
      "text/plain": [
       "(433, 4)"
      ]
     },
     "execution_count": 10,
     "metadata": {},
     "output_type": "execute_result"
    }
   ],
   "source": [
    "bbox_array.shape"
   ]
  },
  {
   "cell_type": "code",
   "execution_count": 11,
   "id": "a84fac87-7696-4dde-83ae-263bb0d699fe",
   "metadata": {},
   "outputs": [],
   "source": [
    "def convert_bbox_to_yolo(bbox, image_width, image_height):\n",
    "    xmin, ymin, xmax, ymax = bbox\n",
    "    x_center = (xmin + xmax) / 2 / image_width\n",
    "    y_center = (ymin + ymax) / 2 / image_height\n",
    "    width = (xmax - xmin) / image_width\n",
    "    height = (ymax - ymin) / image_height\n",
    "\n",
    "    return x_center, y_center, width, height"
   ]
  },
  {
   "cell_type": "code",
   "execution_count": 12,
   "id": "0671111b-7d02-4421-b87d-ea7469f6c1f9",
   "metadata": {},
   "outputs": [],
   "source": [
    "yolo_bbox = []"
   ]
  },
  {
   "cell_type": "code",
   "execution_count": 13,
   "id": "f2c3cddb-ee4d-4317-b12a-f43c0f616a00",
   "metadata": {},
   "outputs": [],
   "source": [
    "for img in os.listdir(__dirname_image):\n",
    "    cur_img = cv.imread(os.path.join(__dirname_image, img))\n",
    "    width = cur_img.shape[1]\n",
    "    height = cur_img.shape[0]\n",
    "    ind = np.where(file_name == img)[0][0]\n",
    "    bbox = bbox_array[ind]\n",
    "    yolo = convert_bbox_to_yolo(bbox, width, height)\n",
    "    yolo_bbox.append(yolo)"
   ]
  },
  {
   "cell_type": "code",
   "execution_count": 14,
   "id": "0c48ced8-faef-400e-bd0a-e0eb3bd617a1",
   "metadata": {},
   "outputs": [
    {
     "name": "stdout",
     "output_type": "stream",
     "text": [
      "(433, 4)\n"
     ]
    }
   ],
   "source": [
    "yolo_bbox = np.array(yolo_bbox)\n",
    "print(yolo_bbox.shape)"
   ]
  },
  {
   "cell_type": "code",
   "execution_count": 15,
   "id": "f4f63d60-73a7-4484-8a9a-9a2ee88ba64e",
   "metadata": {},
   "outputs": [
    {
     "data": {
      "text/plain": [
       "((433,), (433, 4))"
      ]
     },
     "execution_count": 15,
     "metadata": {},
     "output_type": "execute_result"
    }
   ],
   "source": [
    "file_name.shape,yolo_bbox.shape"
   ]
  },
  {
   "cell_type": "code",
   "execution_count": 16,
   "id": "3615bcd2-a7a2-4005-9f90-555e8146098f",
   "metadata": {},
   "outputs": [],
   "source": [
    "from sklearn.model_selection import train_test_split\n",
    "\n",
    "file_name_train,file_name_val,yolo_bbox_train,yolo_bbox_val = train_test_split(file_name,yolo_bbox,train_size=0.7)"
   ]
  },
  {
   "cell_type": "code",
   "execution_count": 17,
   "id": "d4a949a3-8ba0-4237-8a58-dd6f046723ae",
   "metadata": {},
   "outputs": [
    {
     "data": {
      "text/plain": [
       "(303,)"
      ]
     },
     "execution_count": 17,
     "metadata": {},
     "output_type": "execute_result"
    }
   ],
   "source": [
    "file_name_train.shape"
   ]
  },
  {
   "cell_type": "code",
   "execution_count": 18,
   "id": "c23c4671-3bdb-4aaa-9ce3-321230945937",
   "metadata": {},
   "outputs": [],
   "source": [
    "def put_img_in_dir(car_name, dir_add):\n",
    "    img_add = os.path.join(__dirname_image, car_name)\n",
    "    img = Image.open(img_add)\n",
    "    img.save(os.path.join(dir_add, car_name))"
   ]
  },
  {
   "cell_type": "code",
   "execution_count": 22,
   "id": "22e6d4c6-1e28-4c4b-9272-ada28338ab6f",
   "metadata": {},
   "outputs": [],
   "source": [
    "!mkdir dataset\n",
    "!mkdir dataset\\images\n",
    "!mkdir dataset\\images\\train\n",
    "\n",
    "for img in file_name_train:\n",
    "    put_img_in_dir(img, r\"dataset\\images\\train\")"
   ]
  },
  {
   "cell_type": "code",
   "execution_count": 23,
   "id": "31b0b785-dddc-464a-98af-d58fe1a6d703",
   "metadata": {},
   "outputs": [],
   "source": [
    "!mkdir dataset\\images\\val\n",
    "\n",
    "for img in file_name_val:\n",
    "    put_img_in_dir(img, r\"dataset\\images\\val\")"
   ]
  },
  {
   "cell_type": "code",
   "execution_count": 24,
   "id": "e46ccf42-2962-48bf-b5bf-5f48e17680c9",
   "metadata": {},
   "outputs": [],
   "source": [
    "def put_bbox_in_dir(file_name, yolo_bbox, car_name, dir_add):\n",
    "    ind = np.where(car_name == file_name)[0][0]\n",
    "    y = yolo_bbox[ind]\n",
    "    y = np.insert(y,0,0)\n",
    "    file_text_name = car_name[:-4]+\".txt\"\n",
    "    np.savetxt(os.path.join(dir_add, file_text_name), y.reshape(1,-1), fmt=\"%.6f\", delimiter=\" \")"
   ]
  },
  {
   "cell_type": "code",
   "execution_count": 25,
   "id": "c8ed3afa-43e4-4698-97e0-01996803d25a",
   "metadata": {},
   "outputs": [],
   "source": [
    "!mkdir dataset\\labels\n",
    "!mkdir dataset\\labels\\train\n",
    "\n",
    "for img in file_name_train:\n",
    "    put_bbox_in_dir(file_name_train,yolo_bbox_train,img,r\"dataset\\labels\\train\")"
   ]
  },
  {
   "cell_type": "code",
   "execution_count": 27,
   "id": "119bbbf5-0126-441f-af07-0c3dadca9ead",
   "metadata": {},
   "outputs": [],
   "source": [
    "!mkdir dataset\\labels\\val\n",
    "\n",
    "for img in file_name_val:\n",
    "    put_bbox_in_dir(file_name_val,yolo_bbox_val,img,r\"dataset\\labels\\val\")"
   ]
  },
  {
   "cell_type": "code",
   "execution_count": 84,
   "id": "2f78d1f1-ea2d-4932-88dd-1d2aca2af825",
   "metadata": {},
   "outputs": [],
   "source": [
    "# after this, i made a yaml file in the backend. i am not showing that work to you here because its not that difficult\n",
    "\n",
    "# data.yaml\n",
    "\n",
    "# # Path to dataset (use absolute or relative path)\n",
    "# path: C:/Users/Harsh/revision/computer_vision/number_plate/dataset\n",
    "\n",
    "# # Define dataset locations (relative to \"path\")\n",
    "# train: images/train\n",
    "# val: images/val\n",
    "\n",
    "# # Number of classes\n",
    "# nc: 1 # Change this if you have more classes"
   ]
  },
  {
   "cell_type": "code",
   "execution_count": 29,
   "id": "d4dae60a-034d-40df-ab62-457caab116f4",
   "metadata": {},
   "outputs": [
    {
     "name": "stdout",
     "output_type": "stream",
     "text": [
      "Ultralytics 8.3.75  Python-3.11.7 torch-2.6.0+cpu CPU (12th Gen Intel Core(TM) i7-12650H)\n",
      "\u001b[34m\u001b[1mengine\\trainer: \u001b[0mtask=detect, mode=train, model=yolov8n.pt, data=dataset/data.yaml, epochs=50, time=None, patience=100, batch=16, imgsz=640, save=True, save_period=-1, cache=False, device=None, workers=8, project=None, name=train2, exist_ok=False, pretrained=True, optimizer=auto, verbose=True, seed=0, deterministic=True, single_cls=False, rect=False, cos_lr=False, close_mosaic=10, resume=False, amp=True, fraction=1.0, profile=False, freeze=None, multi_scale=False, overlap_mask=True, mask_ratio=4, dropout=0.0, val=True, split=val, save_json=False, save_hybrid=False, conf=None, iou=0.7, max_det=300, half=False, dnn=False, plots=True, source=None, vid_stride=1, stream_buffer=False, visualize=False, augment=False, agnostic_nms=False, classes=None, retina_masks=False, embed=None, show=False, save_frames=False, save_txt=False, save_conf=False, save_crop=False, show_labels=True, show_conf=True, show_boxes=True, line_width=None, format=torchscript, keras=False, optimize=False, int8=False, dynamic=False, simplify=True, opset=None, workspace=None, nms=False, lr0=0.01, lrf=0.01, momentum=0.937, weight_decay=0.0005, warmup_epochs=3.0, warmup_momentum=0.8, warmup_bias_lr=0.1, box=7.5, cls=0.5, dfl=1.5, pose=12.0, kobj=1.0, nbs=64, hsv_h=0.015, hsv_s=0.7, hsv_v=0.4, degrees=0.0, translate=0.1, scale=0.5, shear=0.0, perspective=0.0, flipud=0.0, fliplr=0.5, bgr=0.0, mosaic=1.0, mixup=0.0, copy_paste=0.0, copy_paste_mode=flip, auto_augment=randaugment, erasing=0.4, crop_fraction=1.0, cfg=None, tracker=botsort.yaml, save_dir=runs\\detect\\train2\n",
      "Overriding model.yaml nc=80 with nc=1\n",
      "\n",
      "                   from  n    params  module                                       arguments                     \n",
      "  0                  -1  1       464  ultralytics.nn.modules.conv.Conv             [3, 16, 3, 2]                 \n",
      "  1                  -1  1      4672  ultralytics.nn.modules.conv.Conv             [16, 32, 3, 2]                \n",
      "  2                  -1  1      7360  ultralytics.nn.modules.block.C2f             [32, 32, 1, True]             \n",
      "  3                  -1  1     18560  ultralytics.nn.modules.conv.Conv             [32, 64, 3, 2]                \n",
      "  4                  -1  2     49664  ultralytics.nn.modules.block.C2f             [64, 64, 2, True]             \n",
      "  5                  -1  1     73984  ultralytics.nn.modules.conv.Conv             [64, 128, 3, 2]               \n",
      "  6                  -1  2    197632  ultralytics.nn.modules.block.C2f             [128, 128, 2, True]           \n",
      "  7                  -1  1    295424  ultralytics.nn.modules.conv.Conv             [128, 256, 3, 2]              \n",
      "  8                  -1  1    460288  ultralytics.nn.modules.block.C2f             [256, 256, 1, True]           \n",
      "  9                  -1  1    164608  ultralytics.nn.modules.block.SPPF            [256, 256, 5]                 \n",
      " 10                  -1  1         0  torch.nn.modules.upsampling.Upsample         [None, 2, 'nearest']          \n",
      " 11             [-1, 6]  1         0  ultralytics.nn.modules.conv.Concat           [1]                           \n",
      " 12                  -1  1    148224  ultralytics.nn.modules.block.C2f             [384, 128, 1]                 \n",
      " 13                  -1  1         0  torch.nn.modules.upsampling.Upsample         [None, 2, 'nearest']          \n",
      " 14             [-1, 4]  1         0  ultralytics.nn.modules.conv.Concat           [1]                           \n",
      " 15                  -1  1     37248  ultralytics.nn.modules.block.C2f             [192, 64, 1]                  \n",
      " 16                  -1  1     36992  ultralytics.nn.modules.conv.Conv             [64, 64, 3, 2]                \n",
      " 17            [-1, 12]  1         0  ultralytics.nn.modules.conv.Concat           [1]                           \n",
      " 18                  -1  1    123648  ultralytics.nn.modules.block.C2f             [192, 128, 1]                 \n",
      " 19                  -1  1    147712  ultralytics.nn.modules.conv.Conv             [128, 128, 3, 2]              \n",
      " 20             [-1, 9]  1         0  ultralytics.nn.modules.conv.Concat           [1]                           \n",
      " 21                  -1  1    493056  ultralytics.nn.modules.block.C2f             [384, 256, 1]                 \n",
      " 22        [15, 18, 21]  1    751507  ultralytics.nn.modules.head.Detect           [1, [64, 128, 256]]           \n",
      "Model summary: 225 layers, 3,011,043 parameters, 3,011,027 gradients, 8.2 GFLOPs\n",
      "\n",
      "Transferred 319/355 items from pretrained weights\n",
      "\u001b[34m\u001b[1mTensorBoard: \u001b[0mStart with 'tensorboard --logdir runs\\detect\\train2', view at http://localhost:6006/\n",
      "Freezing layer 'model.22.dfl.conv.weight'\n"
     ]
    },
    {
     "name": "stderr",
     "output_type": "stream",
     "text": [
      "\u001b[34m\u001b[1mtrain: \u001b[0mScanning C:\\Users\\Harsh\\revision\\computer_vision\\number_plate\\dataset\\labels\\train... 303 images, 0 backgrounds,\u001b[0m"
     ]
    },
    {
     "name": "stdout",
     "output_type": "stream",
     "text": [
      "\u001b[34m\u001b[1mtrain: \u001b[0mNew cache created: C:\\Users\\Harsh\\revision\\computer_vision\\number_plate\\dataset\\labels\\train.cache\n"
     ]
    },
    {
     "name": "stderr",
     "output_type": "stream",
     "text": [
      "\n",
      "\u001b[34m\u001b[1mval: \u001b[0mScanning C:\\Users\\Harsh\\revision\\computer_vision\\number_plate\\dataset\\labels\\val... 130 images, 0 backgrounds, 0 c\u001b[0m"
     ]
    },
    {
     "name": "stdout",
     "output_type": "stream",
     "text": [
      "\u001b[34m\u001b[1mval: \u001b[0mNew cache created: C:\\Users\\Harsh\\revision\\computer_vision\\number_plate\\dataset\\labels\\val.cache\n"
     ]
    },
    {
     "name": "stderr",
     "output_type": "stream",
     "text": [
      "\n"
     ]
    },
    {
     "name": "stdout",
     "output_type": "stream",
     "text": [
      "Plotting labels to runs\\detect\\train2\\labels.jpg... \n",
      "\u001b[34m\u001b[1moptimizer:\u001b[0m 'optimizer=auto' found, ignoring 'lr0=0.01' and 'momentum=0.937' and determining best 'optimizer', 'lr0' and 'momentum' automatically... \n",
      "\u001b[34m\u001b[1moptimizer:\u001b[0m AdamW(lr=0.002, momentum=0.9) with parameter groups 57 weight(decay=0.0), 64 weight(decay=0.0005), 63 bias(decay=0.0)\n",
      "\u001b[34m\u001b[1mTensorBoard: \u001b[0mmodel graph visualization added \n",
      "Image sizes 640 train, 640 val\n",
      "Using 0 dataloader workers\n",
      "Logging results to \u001b[1mruns\\detect\\train2\u001b[0m\n",
      "Starting training for 50 epochs...\n",
      "\n",
      "      Epoch    GPU_mem   box_loss   cls_loss   dfl_loss  Instances       Size\n"
     ]
    },
    {
     "name": "stderr",
     "output_type": "stream",
     "text": [
      "       1/50         0G      1.475      3.211      1.291         35        640: 100%|██████████| 19/19 [01:26<00:00,  4.\n",
      "                 Class     Images  Instances      Box(P          R      mAP50  mAP50-95): 100%|██████████| 5/5 [00:07<0"
     ]
    },
    {
     "name": "stdout",
     "output_type": "stream",
     "text": [
      "                   all        130        130    0.00321      0.962      0.576      0.309\n"
     ]
    },
    {
     "name": "stderr",
     "output_type": "stream",
     "text": [
      "\n"
     ]
    },
    {
     "name": "stdout",
     "output_type": "stream",
     "text": [
      "\n",
      "      Epoch    GPU_mem   box_loss   cls_loss   dfl_loss  Instances       Size\n"
     ]
    },
    {
     "name": "stderr",
     "output_type": "stream",
     "text": [
      "       2/50         0G      1.495      2.039       1.22         36        640: 100%|██████████| 19/19 [00:43<00:00,  2.\n",
      "                 Class     Images  Instances      Box(P          R      mAP50  mAP50-95): 100%|██████████| 5/5 [00:05<0"
     ]
    },
    {
     "name": "stdout",
     "output_type": "stream",
     "text": [
      "                   all        130        130    0.00329      0.969      0.325      0.154\n"
     ]
    },
    {
     "name": "stderr",
     "output_type": "stream",
     "text": [
      "\n"
     ]
    },
    {
     "name": "stdout",
     "output_type": "stream",
     "text": [
      "\n",
      "      Epoch    GPU_mem   box_loss   cls_loss   dfl_loss  Instances       Size\n"
     ]
    },
    {
     "name": "stderr",
     "output_type": "stream",
     "text": [
      "       3/50         0G      1.451       1.85      1.232         33        640: 100%|██████████| 19/19 [00:43<00:00,  2.\n",
      "                 Class     Images  Instances      Box(P          R      mAP50  mAP50-95): 100%|██████████| 5/5 [00:06<0"
     ]
    },
    {
     "name": "stdout",
     "output_type": "stream",
     "text": [
      "                   all        130        130      0.819      0.123      0.496      0.241\n"
     ]
    },
    {
     "name": "stderr",
     "output_type": "stream",
     "text": [
      "\n"
     ]
    },
    {
     "name": "stdout",
     "output_type": "stream",
     "text": [
      "\n",
      "      Epoch    GPU_mem   box_loss   cls_loss   dfl_loss  Instances       Size\n"
     ]
    },
    {
     "name": "stderr",
     "output_type": "stream",
     "text": [
      "       4/50         0G      1.475      1.899       1.28         19        640: 100%|██████████| 19/19 [00:42<00:00,  2.\n",
      "                 Class     Images  Instances      Box(P          R      mAP50  mAP50-95): 100%|██████████| 5/5 [00:06<0"
     ]
    },
    {
     "name": "stdout",
     "output_type": "stream",
     "text": [
      "                   all        130        130    0.00613     0.0154    0.00267     0.0012\n"
     ]
    },
    {
     "name": "stderr",
     "output_type": "stream",
     "text": [
      "\n"
     ]
    },
    {
     "name": "stdout",
     "output_type": "stream",
     "text": [
      "\n",
      "      Epoch    GPU_mem   box_loss   cls_loss   dfl_loss  Instances       Size\n"
     ]
    },
    {
     "name": "stderr",
     "output_type": "stream",
     "text": [
      "       5/50         0G       1.49      1.825      1.278         26        640: 100%|██████████| 19/19 [00:43<00:00,  2.\n",
      "                 Class     Images  Instances      Box(P          R      mAP50  mAP50-95): 100%|██████████| 5/5 [00:05<0"
     ]
    },
    {
     "name": "stdout",
     "output_type": "stream",
     "text": [
      "                   all        130        130      0.554      0.423      0.428      0.203\n"
     ]
    },
    {
     "name": "stderr",
     "output_type": "stream",
     "text": [
      "\n"
     ]
    },
    {
     "name": "stdout",
     "output_type": "stream",
     "text": [
      "\n",
      "      Epoch    GPU_mem   box_loss   cls_loss   dfl_loss  Instances       Size\n"
     ]
    },
    {
     "name": "stderr",
     "output_type": "stream",
     "text": [
      "       6/50         0G      1.487      1.699      1.243         31        640: 100%|██████████| 19/19 [00:43<00:00,  2.\n",
      "                 Class     Images  Instances      Box(P          R      mAP50  mAP50-95): 100%|██████████| 5/5 [00:05<0"
     ]
    },
    {
     "name": "stdout",
     "output_type": "stream",
     "text": [
      "                   all        130        130      0.851      0.723      0.802      0.396\n"
     ]
    },
    {
     "name": "stderr",
     "output_type": "stream",
     "text": [
      "\n"
     ]
    },
    {
     "name": "stdout",
     "output_type": "stream",
     "text": [
      "\n",
      "      Epoch    GPU_mem   box_loss   cls_loss   dfl_loss  Instances       Size\n"
     ]
    },
    {
     "name": "stderr",
     "output_type": "stream",
     "text": [
      "       7/50         0G      1.453      1.521      1.255         29        640: 100%|██████████| 19/19 [00:43<00:00,  2.\n",
      "                 Class     Images  Instances      Box(P          R      mAP50  mAP50-95): 100%|██████████| 5/5 [00:05<0"
     ]
    },
    {
     "name": "stdout",
     "output_type": "stream",
     "text": [
      "                   all        130        130      0.796      0.708      0.703      0.395\n"
     ]
    },
    {
     "name": "stderr",
     "output_type": "stream",
     "text": [
      "\n"
     ]
    },
    {
     "name": "stdout",
     "output_type": "stream",
     "text": [
      "\n",
      "      Epoch    GPU_mem   box_loss   cls_loss   dfl_loss  Instances       Size\n"
     ]
    },
    {
     "name": "stderr",
     "output_type": "stream",
     "text": [
      "       8/50         0G      1.482      1.462      1.269         25        640: 100%|██████████| 19/19 [00:44<00:00,  2.\n",
      "                 Class     Images  Instances      Box(P          R      mAP50  mAP50-95): 100%|██████████| 5/5 [00:05<0"
     ]
    },
    {
     "name": "stdout",
     "output_type": "stream",
     "text": [
      "                   all        130        130      0.533      0.649      0.548      0.262\n"
     ]
    },
    {
     "name": "stderr",
     "output_type": "stream",
     "text": [
      "\n"
     ]
    },
    {
     "name": "stdout",
     "output_type": "stream",
     "text": [
      "\n",
      "      Epoch    GPU_mem   box_loss   cls_loss   dfl_loss  Instances       Size\n"
     ]
    },
    {
     "name": "stderr",
     "output_type": "stream",
     "text": [
      "       9/50         0G      1.432      1.301      1.237         30        640: 100%|██████████| 19/19 [00:44<00:00,  2.\n",
      "                 Class     Images  Instances      Box(P          R      mAP50  mAP50-95): 100%|██████████| 5/5 [00:05<0"
     ]
    },
    {
     "name": "stdout",
     "output_type": "stream",
     "text": [
      "                   all        130        130      0.751      0.654      0.712      0.362\n"
     ]
    },
    {
     "name": "stderr",
     "output_type": "stream",
     "text": [
      "\n"
     ]
    },
    {
     "name": "stdout",
     "output_type": "stream",
     "text": [
      "\n",
      "      Epoch    GPU_mem   box_loss   cls_loss   dfl_loss  Instances       Size\n"
     ]
    },
    {
     "name": "stderr",
     "output_type": "stream",
     "text": [
      "      10/50         0G      1.421      1.353      1.217         20        640: 100%|██████████| 19/19 [00:44<00:00,  2.\n",
      "                 Class     Images  Instances      Box(P          R      mAP50  mAP50-95): 100%|██████████| 5/5 [00:05<0"
     ]
    },
    {
     "name": "stdout",
     "output_type": "stream",
     "text": [
      "                   all        130        130      0.808      0.872      0.921      0.462\n"
     ]
    },
    {
     "name": "stderr",
     "output_type": "stream",
     "text": [
      "\n"
     ]
    },
    {
     "name": "stdout",
     "output_type": "stream",
     "text": [
      "\n",
      "      Epoch    GPU_mem   box_loss   cls_loss   dfl_loss  Instances       Size\n"
     ]
    },
    {
     "name": "stderr",
     "output_type": "stream",
     "text": [
      "      11/50         0G      1.483      1.283       1.26         31        640: 100%|██████████| 19/19 [00:44<00:00,  2.\n",
      "                 Class     Images  Instances      Box(P          R      mAP50  mAP50-95): 100%|██████████| 5/5 [00:05<0"
     ]
    },
    {
     "name": "stdout",
     "output_type": "stream",
     "text": [
      "                   all        130        130      0.957      0.849      0.922      0.491\n"
     ]
    },
    {
     "name": "stderr",
     "output_type": "stream",
     "text": [
      "\n"
     ]
    },
    {
     "name": "stdout",
     "output_type": "stream",
     "text": [
      "\n",
      "      Epoch    GPU_mem   box_loss   cls_loss   dfl_loss  Instances       Size\n"
     ]
    },
    {
     "name": "stderr",
     "output_type": "stream",
     "text": [
      "      12/50         0G      1.452      1.209       1.22         25        640: 100%|██████████| 19/19 [1:54:43<00:00, 3\n",
      "                 Class     Images  Instances      Box(P          R      mAP50  mAP50-95): 100%|██████████| 5/5 [00:05<0"
     ]
    },
    {
     "name": "stdout",
     "output_type": "stream",
     "text": [
      "                   all        130        130      0.873      0.846      0.913      0.484\n"
     ]
    },
    {
     "name": "stderr",
     "output_type": "stream",
     "text": [
      "\n"
     ]
    },
    {
     "name": "stdout",
     "output_type": "stream",
     "text": [
      "\n",
      "      Epoch    GPU_mem   box_loss   cls_loss   dfl_loss  Instances       Size\n"
     ]
    },
    {
     "name": "stderr",
     "output_type": "stream",
     "text": [
      "      13/50         0G      1.386      1.145      1.194         21        640: 100%|██████████| 19/19 [00:40<00:00,  2.\n",
      "                 Class     Images  Instances      Box(P          R      mAP50  mAP50-95): 100%|██████████| 5/5 [00:05<0"
     ]
    },
    {
     "name": "stdout",
     "output_type": "stream",
     "text": [
      "                   all        130        130      0.883      0.874      0.921      0.519\n"
     ]
    },
    {
     "name": "stderr",
     "output_type": "stream",
     "text": [
      "\n"
     ]
    },
    {
     "name": "stdout",
     "output_type": "stream",
     "text": [
      "\n",
      "      Epoch    GPU_mem   box_loss   cls_loss   dfl_loss  Instances       Size\n"
     ]
    },
    {
     "name": "stderr",
     "output_type": "stream",
     "text": [
      "      14/50         0G      1.408      1.155      1.215         28        640: 100%|██████████| 19/19 [00:40<00:00,  2.\n",
      "                 Class     Images  Instances      Box(P          R      mAP50  mAP50-95): 100%|██████████| 5/5 [00:05<0"
     ]
    },
    {
     "name": "stdout",
     "output_type": "stream",
     "text": [
      "                   all        130        130      0.896      0.792      0.907       0.52\n"
     ]
    },
    {
     "name": "stderr",
     "output_type": "stream",
     "text": [
      "\n"
     ]
    },
    {
     "name": "stdout",
     "output_type": "stream",
     "text": [
      "\n",
      "      Epoch    GPU_mem   box_loss   cls_loss   dfl_loss  Instances       Size\n"
     ]
    },
    {
     "name": "stderr",
     "output_type": "stream",
     "text": [
      "      15/50         0G       1.36      1.077      1.208         30        640: 100%|██████████| 19/19 [00:40<00:00,  2.\n",
      "                 Class     Images  Instances      Box(P          R      mAP50  mAP50-95): 100%|██████████| 5/5 [00:05<0"
     ]
    },
    {
     "name": "stdout",
     "output_type": "stream",
     "text": [
      "                   all        130        130      0.838      0.785       0.87      0.505\n"
     ]
    },
    {
     "name": "stderr",
     "output_type": "stream",
     "text": [
      "\n"
     ]
    },
    {
     "name": "stdout",
     "output_type": "stream",
     "text": [
      "\n",
      "      Epoch    GPU_mem   box_loss   cls_loss   dfl_loss  Instances       Size\n"
     ]
    },
    {
     "name": "stderr",
     "output_type": "stream",
     "text": [
      "      16/50         0G      1.373      1.066      1.228         21        640: 100%|██████████| 19/19 [00:40<00:00,  2.\n",
      "                 Class     Images  Instances      Box(P          R      mAP50  mAP50-95): 100%|██████████| 5/5 [00:05<0"
     ]
    },
    {
     "name": "stdout",
     "output_type": "stream",
     "text": [
      "                   all        130        130      0.742      0.863      0.852      0.466\n"
     ]
    },
    {
     "name": "stderr",
     "output_type": "stream",
     "text": [
      "\n"
     ]
    },
    {
     "name": "stdout",
     "output_type": "stream",
     "text": [
      "\n",
      "      Epoch    GPU_mem   box_loss   cls_loss   dfl_loss  Instances       Size\n"
     ]
    },
    {
     "name": "stderr",
     "output_type": "stream",
     "text": [
      "      17/50         0G        1.3      1.011      1.202         31        640: 100%|██████████| 19/19 [00:41<00:00,  2.\n",
      "                 Class     Images  Instances      Box(P          R      mAP50  mAP50-95): 100%|██████████| 5/5 [00:05<0"
     ]
    },
    {
     "name": "stdout",
     "output_type": "stream",
     "text": [
      "                   all        130        130       0.87        0.8      0.902      0.517\n"
     ]
    },
    {
     "name": "stderr",
     "output_type": "stream",
     "text": [
      "\n"
     ]
    },
    {
     "name": "stdout",
     "output_type": "stream",
     "text": [
      "\n",
      "      Epoch    GPU_mem   box_loss   cls_loss   dfl_loss  Instances       Size\n"
     ]
    },
    {
     "name": "stderr",
     "output_type": "stream",
     "text": [
      "      18/50         0G      1.304     0.9968      1.169         43        640: 100%|██████████| 19/19 [00:41<00:00,  2.\n",
      "                 Class     Images  Instances      Box(P          R      mAP50  mAP50-95): 100%|██████████| 5/5 [00:05<0"
     ]
    },
    {
     "name": "stdout",
     "output_type": "stream",
     "text": [
      "                   all        130        130      0.874      0.885      0.932      0.533\n"
     ]
    },
    {
     "name": "stderr",
     "output_type": "stream",
     "text": [
      "\n"
     ]
    },
    {
     "name": "stdout",
     "output_type": "stream",
     "text": [
      "\n",
      "      Epoch    GPU_mem   box_loss   cls_loss   dfl_loss  Instances       Size\n"
     ]
    },
    {
     "name": "stderr",
     "output_type": "stream",
     "text": [
      "      19/50         0G      1.292     0.9559      1.161         31        640: 100%|██████████| 19/19 [00:41<00:00,  2.\n",
      "                 Class     Images  Instances      Box(P          R      mAP50  mAP50-95): 100%|██████████| 5/5 [00:05<0"
     ]
    },
    {
     "name": "stdout",
     "output_type": "stream",
     "text": [
      "                   all        130        130      0.857      0.921      0.922      0.535\n"
     ]
    },
    {
     "name": "stderr",
     "output_type": "stream",
     "text": [
      "\n"
     ]
    },
    {
     "name": "stdout",
     "output_type": "stream",
     "text": [
      "\n",
      "      Epoch    GPU_mem   box_loss   cls_loss   dfl_loss  Instances       Size\n"
     ]
    },
    {
     "name": "stderr",
     "output_type": "stream",
     "text": [
      "      20/50         0G      1.269      0.924      1.152         22        640: 100%|██████████| 19/19 [00:41<00:00,  2.\n",
      "                 Class     Images  Instances      Box(P          R      mAP50  mAP50-95): 100%|██████████| 5/5 [00:05<0"
     ]
    },
    {
     "name": "stdout",
     "output_type": "stream",
     "text": [
      "                   all        130        130      0.826      0.854      0.901      0.492\n"
     ]
    },
    {
     "name": "stderr",
     "output_type": "stream",
     "text": [
      "\n"
     ]
    },
    {
     "name": "stdout",
     "output_type": "stream",
     "text": [
      "\n",
      "      Epoch    GPU_mem   box_loss   cls_loss   dfl_loss  Instances       Size\n"
     ]
    },
    {
     "name": "stderr",
     "output_type": "stream",
     "text": [
      "      21/50         0G      1.276     0.8958      1.186         34        640: 100%|██████████| 19/19 [00:41<00:00,  2.\n",
      "                 Class     Images  Instances      Box(P          R      mAP50  mAP50-95): 100%|██████████| 5/5 [00:05<0"
     ]
    },
    {
     "name": "stdout",
     "output_type": "stream",
     "text": [
      "                   all        130        130       0.84      0.862      0.912      0.511\n"
     ]
    },
    {
     "name": "stderr",
     "output_type": "stream",
     "text": [
      "\n"
     ]
    },
    {
     "name": "stdout",
     "output_type": "stream",
     "text": [
      "\n",
      "      Epoch    GPU_mem   box_loss   cls_loss   dfl_loss  Instances       Size\n"
     ]
    },
    {
     "name": "stderr",
     "output_type": "stream",
     "text": [
      "      22/50         0G      1.217     0.8693      1.146         31        640: 100%|██████████| 19/19 [00:41<00:00,  2.\n",
      "                 Class     Images  Instances      Box(P          R      mAP50  mAP50-95): 100%|██████████| 5/5 [00:05<0"
     ]
    },
    {
     "name": "stdout",
     "output_type": "stream",
     "text": [
      "                   all        130        130      0.889      0.927      0.937      0.563\n"
     ]
    },
    {
     "name": "stderr",
     "output_type": "stream",
     "text": [
      "\n"
     ]
    },
    {
     "name": "stdout",
     "output_type": "stream",
     "text": [
      "\n",
      "      Epoch    GPU_mem   box_loss   cls_loss   dfl_loss  Instances       Size\n"
     ]
    },
    {
     "name": "stderr",
     "output_type": "stream",
     "text": [
      "      23/50         0G      1.256      0.867      1.126         31        640: 100%|██████████| 19/19 [00:41<00:00,  2.\n",
      "                 Class     Images  Instances      Box(P          R      mAP50  mAP50-95): 100%|██████████| 5/5 [00:05<0"
     ]
    },
    {
     "name": "stdout",
     "output_type": "stream",
     "text": [
      "                   all        130        130      0.896      0.858      0.894      0.539\n"
     ]
    },
    {
     "name": "stderr",
     "output_type": "stream",
     "text": [
      "\n"
     ]
    },
    {
     "name": "stdout",
     "output_type": "stream",
     "text": [
      "\n",
      "      Epoch    GPU_mem   box_loss   cls_loss   dfl_loss  Instances       Size\n"
     ]
    },
    {
     "name": "stderr",
     "output_type": "stream",
     "text": [
      "      24/50         0G      1.235     0.8457       1.13         33        640: 100%|██████████| 19/19 [00:41<00:00,  2.\n",
      "                 Class     Images  Instances      Box(P          R      mAP50  mAP50-95): 100%|██████████| 5/5 [00:05<0"
     ]
    },
    {
     "name": "stdout",
     "output_type": "stream",
     "text": [
      "                   all        130        130      0.915      0.892      0.937      0.552\n"
     ]
    },
    {
     "name": "stderr",
     "output_type": "stream",
     "text": [
      "\n"
     ]
    },
    {
     "name": "stdout",
     "output_type": "stream",
     "text": [
      "\n",
      "      Epoch    GPU_mem   box_loss   cls_loss   dfl_loss  Instances       Size\n"
     ]
    },
    {
     "name": "stderr",
     "output_type": "stream",
     "text": [
      "      25/50         0G      1.235     0.7965      1.113         30        640: 100%|██████████| 19/19 [00:41<00:00,  2.\n",
      "                 Class     Images  Instances      Box(P          R      mAP50  mAP50-95): 100%|██████████| 5/5 [00:05<0"
     ]
    },
    {
     "name": "stdout",
     "output_type": "stream",
     "text": [
      "                   all        130        130      0.883      0.862      0.918      0.539\n"
     ]
    },
    {
     "name": "stderr",
     "output_type": "stream",
     "text": [
      "\n"
     ]
    },
    {
     "name": "stdout",
     "output_type": "stream",
     "text": [
      "\n",
      "      Epoch    GPU_mem   box_loss   cls_loss   dfl_loss  Instances       Size\n"
     ]
    },
    {
     "name": "stderr",
     "output_type": "stream",
     "text": [
      "      26/50         0G      1.246     0.8258      1.127         33        640: 100%|██████████| 19/19 [00:41<00:00,  2.\n",
      "                 Class     Images  Instances      Box(P          R      mAP50  mAP50-95): 100%|██████████| 5/5 [00:05<0"
     ]
    },
    {
     "name": "stdout",
     "output_type": "stream",
     "text": [
      "                   all        130        130      0.871      0.946      0.925      0.542\n"
     ]
    },
    {
     "name": "stderr",
     "output_type": "stream",
     "text": [
      "\n"
     ]
    },
    {
     "name": "stdout",
     "output_type": "stream",
     "text": [
      "\n",
      "      Epoch    GPU_mem   box_loss   cls_loss   dfl_loss  Instances       Size\n"
     ]
    },
    {
     "name": "stderr",
     "output_type": "stream",
     "text": [
      "      27/50         0G      1.219     0.8035      1.113         22        640: 100%|██████████| 19/19 [00:42<00:00,  2.\n",
      "                 Class     Images  Instances      Box(P          R      mAP50  mAP50-95): 100%|██████████| 5/5 [00:05<0"
     ]
    },
    {
     "name": "stdout",
     "output_type": "stream",
     "text": [
      "                   all        130        130      0.866      0.915      0.907       0.53\n"
     ]
    },
    {
     "name": "stderr",
     "output_type": "stream",
     "text": [
      "\n"
     ]
    },
    {
     "name": "stdout",
     "output_type": "stream",
     "text": [
      "\n",
      "      Epoch    GPU_mem   box_loss   cls_loss   dfl_loss  Instances       Size\n"
     ]
    },
    {
     "name": "stderr",
     "output_type": "stream",
     "text": [
      "      28/50         0G       1.25     0.8295      1.131         27        640: 100%|██████████| 19/19 [00:41<00:00,  2.\n",
      "                 Class     Images  Instances      Box(P          R      mAP50  mAP50-95): 100%|██████████| 5/5 [00:05<0"
     ]
    },
    {
     "name": "stdout",
     "output_type": "stream",
     "text": [
      "                   all        130        130       0.84       0.89      0.914       0.54\n"
     ]
    },
    {
     "name": "stderr",
     "output_type": "stream",
     "text": [
      "\n"
     ]
    },
    {
     "name": "stdout",
     "output_type": "stream",
     "text": [
      "\n",
      "      Epoch    GPU_mem   box_loss   cls_loss   dfl_loss  Instances       Size\n"
     ]
    },
    {
     "name": "stderr",
     "output_type": "stream",
     "text": [
      "      29/50         0G      1.177     0.7753      1.128         25        640: 100%|██████████| 19/19 [00:42<00:00,  2.\n",
      "                 Class     Images  Instances      Box(P          R      mAP50  mAP50-95): 100%|██████████| 5/5 [00:05<0"
     ]
    },
    {
     "name": "stdout",
     "output_type": "stream",
     "text": [
      "                   all        130        130      0.823      0.964      0.951      0.582\n"
     ]
    },
    {
     "name": "stderr",
     "output_type": "stream",
     "text": [
      "\n"
     ]
    },
    {
     "name": "stdout",
     "output_type": "stream",
     "text": [
      "\n",
      "      Epoch    GPU_mem   box_loss   cls_loss   dfl_loss  Instances       Size\n"
     ]
    },
    {
     "name": "stderr",
     "output_type": "stream",
     "text": [
      "      30/50         0G      1.237     0.7948       1.14         18        640: 100%|██████████| 19/19 [00:44<00:00,  2.\n",
      "                 Class     Images  Instances      Box(P          R      mAP50  mAP50-95): 100%|██████████| 5/5 [00:05<0"
     ]
    },
    {
     "name": "stdout",
     "output_type": "stream",
     "text": [
      "                   all        130        130      0.894      0.912      0.934      0.548\n"
     ]
    },
    {
     "name": "stderr",
     "output_type": "stream",
     "text": [
      "\n"
     ]
    },
    {
     "name": "stdout",
     "output_type": "stream",
     "text": [
      "\n",
      "      Epoch    GPU_mem   box_loss   cls_loss   dfl_loss  Instances       Size\n"
     ]
    },
    {
     "name": "stderr",
     "output_type": "stream",
     "text": [
      "      31/50         0G      1.133     0.7382      1.079         28        640: 100%|██████████| 19/19 [00:41<00:00,  2.\n",
      "                 Class     Images  Instances      Box(P          R      mAP50  mAP50-95): 100%|██████████| 5/5 [00:05<0"
     ]
    },
    {
     "name": "stdout",
     "output_type": "stream",
     "text": [
      "                   all        130        130      0.903      0.915      0.946      0.524\n"
     ]
    },
    {
     "name": "stderr",
     "output_type": "stream",
     "text": [
      "\n"
     ]
    },
    {
     "name": "stdout",
     "output_type": "stream",
     "text": [
      "\n",
      "      Epoch    GPU_mem   box_loss   cls_loss   dfl_loss  Instances       Size\n"
     ]
    },
    {
     "name": "stderr",
     "output_type": "stream",
     "text": [
      "      32/50         0G      1.089     0.7107      1.071         22        640: 100%|██████████| 19/19 [00:41<00:00,  2.\n",
      "                 Class     Images  Instances      Box(P          R      mAP50  mAP50-95): 100%|██████████| 5/5 [00:05<0"
     ]
    },
    {
     "name": "stdout",
     "output_type": "stream",
     "text": [
      "                   all        130        130      0.913      0.888      0.933      0.538\n"
     ]
    },
    {
     "name": "stderr",
     "output_type": "stream",
     "text": [
      "\n"
     ]
    },
    {
     "name": "stdout",
     "output_type": "stream",
     "text": [
      "\n",
      "      Epoch    GPU_mem   box_loss   cls_loss   dfl_loss  Instances       Size\n"
     ]
    },
    {
     "name": "stderr",
     "output_type": "stream",
     "text": [
      "      33/50         0G      1.114     0.7192      1.062         30        640: 100%|██████████| 19/19 [00:41<00:00,  2.\n",
      "                 Class     Images  Instances      Box(P          R      mAP50  mAP50-95): 100%|██████████| 5/5 [00:05<0"
     ]
    },
    {
     "name": "stdout",
     "output_type": "stream",
     "text": [
      "                   all        130        130      0.915      0.892      0.947      0.525\n"
     ]
    },
    {
     "name": "stderr",
     "output_type": "stream",
     "text": [
      "\n"
     ]
    },
    {
     "name": "stdout",
     "output_type": "stream",
     "text": [
      "\n",
      "      Epoch    GPU_mem   box_loss   cls_loss   dfl_loss  Instances       Size\n"
     ]
    },
    {
     "name": "stderr",
     "output_type": "stream",
     "text": [
      "      34/50         0G      1.113     0.7333      1.082         28        640: 100%|██████████| 19/19 [00:41<00:00,  2.\n",
      "                 Class     Images  Instances      Box(P          R      mAP50  mAP50-95): 100%|██████████| 5/5 [00:05<0"
     ]
    },
    {
     "name": "stdout",
     "output_type": "stream",
     "text": [
      "                   all        130        130       0.89       0.93      0.961      0.576\n"
     ]
    },
    {
     "name": "stderr",
     "output_type": "stream",
     "text": [
      "\n"
     ]
    },
    {
     "name": "stdout",
     "output_type": "stream",
     "text": [
      "\n",
      "      Epoch    GPU_mem   box_loss   cls_loss   dfl_loss  Instances       Size\n"
     ]
    },
    {
     "name": "stderr",
     "output_type": "stream",
     "text": [
      "      35/50         0G      1.124     0.7038      1.076         31        640: 100%|██████████| 19/19 [00:41<00:00,  2.\n",
      "                 Class     Images  Instances      Box(P          R      mAP50  mAP50-95): 100%|██████████| 5/5 [00:05<0"
     ]
    },
    {
     "name": "stdout",
     "output_type": "stream",
     "text": [
      "                   all        130        130      0.932      0.892      0.958      0.551\n"
     ]
    },
    {
     "name": "stderr",
     "output_type": "stream",
     "text": [
      "\n"
     ]
    },
    {
     "name": "stdout",
     "output_type": "stream",
     "text": [
      "\n",
      "      Epoch    GPU_mem   box_loss   cls_loss   dfl_loss  Instances       Size\n"
     ]
    },
    {
     "name": "stderr",
     "output_type": "stream",
     "text": [
      "      36/50         0G       1.09     0.7087      1.048         30        640: 100%|██████████| 19/19 [00:42<00:00,  2.\n",
      "                 Class     Images  Instances      Box(P          R      mAP50  mAP50-95): 100%|██████████| 5/5 [00:05<0"
     ]
    },
    {
     "name": "stdout",
     "output_type": "stream",
     "text": [
      "                   all        130        130      0.905      0.875      0.946      0.555\n"
     ]
    },
    {
     "name": "stderr",
     "output_type": "stream",
     "text": [
      "\n"
     ]
    },
    {
     "name": "stdout",
     "output_type": "stream",
     "text": [
      "\n",
      "      Epoch    GPU_mem   box_loss   cls_loss   dfl_loss  Instances       Size\n"
     ]
    },
    {
     "name": "stderr",
     "output_type": "stream",
     "text": [
      "      37/50         0G      1.141     0.6953      1.083         22        640: 100%|██████████| 19/19 [00:41<00:00,  2.\n",
      "                 Class     Images  Instances      Box(P          R      mAP50  mAP50-95): 100%|██████████| 5/5 [00:05<0"
     ]
    },
    {
     "name": "stdout",
     "output_type": "stream",
     "text": [
      "                   all        130        130      0.889       0.92      0.936      0.551\n"
     ]
    },
    {
     "name": "stderr",
     "output_type": "stream",
     "text": [
      "\n"
     ]
    },
    {
     "name": "stdout",
     "output_type": "stream",
     "text": [
      "\n",
      "      Epoch    GPU_mem   box_loss   cls_loss   dfl_loss  Instances       Size\n"
     ]
    },
    {
     "name": "stderr",
     "output_type": "stream",
     "text": [
      "      38/50         0G      1.098      0.695      1.084         32        640: 100%|██████████| 19/19 [00:41<00:00,  2.\n",
      "                 Class     Images  Instances      Box(P          R      mAP50  mAP50-95): 100%|██████████| 5/5 [00:05<0"
     ]
    },
    {
     "name": "stdout",
     "output_type": "stream",
     "text": [
      "                   all        130        130      0.915      0.906      0.916      0.559\n"
     ]
    },
    {
     "name": "stderr",
     "output_type": "stream",
     "text": [
      "\n"
     ]
    },
    {
     "name": "stdout",
     "output_type": "stream",
     "text": [
      "\n",
      "      Epoch    GPU_mem   box_loss   cls_loss   dfl_loss  Instances       Size\n"
     ]
    },
    {
     "name": "stderr",
     "output_type": "stream",
     "text": [
      "      39/50         0G      1.054      0.671      1.053         27        640: 100%|██████████| 19/19 [00:42<00:00,  2.\n",
      "                 Class     Images  Instances      Box(P          R      mAP50  mAP50-95): 100%|██████████| 5/5 [00:05<0"
     ]
    },
    {
     "name": "stdout",
     "output_type": "stream",
     "text": [
      "                   all        130        130      0.915      0.915      0.948      0.568\n"
     ]
    },
    {
     "name": "stderr",
     "output_type": "stream",
     "text": [
      "\n"
     ]
    },
    {
     "name": "stdout",
     "output_type": "stream",
     "text": [
      "\n",
      "      Epoch    GPU_mem   box_loss   cls_loss   dfl_loss  Instances       Size\n"
     ]
    },
    {
     "name": "stderr",
     "output_type": "stream",
     "text": [
      "      40/50         0G      1.067     0.6603      1.048         31        640: 100%|██████████| 19/19 [00:42<00:00,  2.\n",
      "                 Class     Images  Instances      Box(P          R      mAP50  mAP50-95): 100%|██████████| 5/5 [00:05<0"
     ]
    },
    {
     "name": "stdout",
     "output_type": "stream",
     "text": [
      "                   all        130        130      0.914      0.904      0.922      0.561\n"
     ]
    },
    {
     "name": "stderr",
     "output_type": "stream",
     "text": [
      "\n"
     ]
    },
    {
     "name": "stdout",
     "output_type": "stream",
     "text": [
      "Closing dataloader mosaic\n",
      "\n",
      "      Epoch    GPU_mem   box_loss   cls_loss   dfl_loss  Instances       Size\n"
     ]
    },
    {
     "name": "stderr",
     "output_type": "stream",
     "text": [
      "      41/50         0G      1.047     0.6955      1.059         15        640: 100%|██████████| 19/19 [00:44<00:00,  2.\n",
      "                 Class     Images  Instances      Box(P          R      mAP50  mAP50-95): 100%|██████████| 5/5 [00:06<0"
     ]
    },
    {
     "name": "stdout",
     "output_type": "stream",
     "text": [
      "                   all        130        130       0.89      0.936      0.934      0.563\n"
     ]
    },
    {
     "name": "stderr",
     "output_type": "stream",
     "text": [
      "\n"
     ]
    },
    {
     "name": "stdout",
     "output_type": "stream",
     "text": [
      "\n",
      "      Epoch    GPU_mem   box_loss   cls_loss   dfl_loss  Instances       Size\n"
     ]
    },
    {
     "name": "stderr",
     "output_type": "stream",
     "text": [
      "      42/50         0G      1.034     0.6631      1.039         15        640: 100%|██████████| 19/19 [00:43<00:00,  2.\n",
      "                 Class     Images  Instances      Box(P          R      mAP50  mAP50-95): 100%|██████████| 5/5 [00:05<0"
     ]
    },
    {
     "name": "stdout",
     "output_type": "stream",
     "text": [
      "                   all        130        130      0.932      0.915      0.924      0.568\n"
     ]
    },
    {
     "name": "stderr",
     "output_type": "stream",
     "text": [
      "\n"
     ]
    },
    {
     "name": "stdout",
     "output_type": "stream",
     "text": [
      "\n",
      "      Epoch    GPU_mem   box_loss   cls_loss   dfl_loss  Instances       Size\n"
     ]
    },
    {
     "name": "stderr",
     "output_type": "stream",
     "text": [
      "      43/50         0G      1.048     0.6331      1.044         15        640: 100%|██████████| 19/19 [00:43<00:00,  2.\n",
      "                 Class     Images  Instances      Box(P          R      mAP50  mAP50-95): 100%|██████████| 5/5 [00:05<0"
     ]
    },
    {
     "name": "stdout",
     "output_type": "stream",
     "text": [
      "                   all        130        130       0.93       0.92      0.945      0.572\n"
     ]
    },
    {
     "name": "stderr",
     "output_type": "stream",
     "text": [
      "\n"
     ]
    },
    {
     "name": "stdout",
     "output_type": "stream",
     "text": [
      "\n",
      "      Epoch    GPU_mem   box_loss   cls_loss   dfl_loss  Instances       Size\n"
     ]
    },
    {
     "name": "stderr",
     "output_type": "stream",
     "text": [
      "      44/50         0G     0.9785     0.6297      1.027         14        640: 100%|██████████| 19/19 [00:44<00:00,  2.\n",
      "                 Class     Images  Instances      Box(P          R      mAP50  mAP50-95): 100%|██████████| 5/5 [00:05<0"
     ]
    },
    {
     "name": "stdout",
     "output_type": "stream",
     "text": [
      "                   all        130        130      0.911      0.923      0.938      0.573\n"
     ]
    },
    {
     "name": "stderr",
     "output_type": "stream",
     "text": [
      "\n"
     ]
    },
    {
     "name": "stdout",
     "output_type": "stream",
     "text": [
      "\n",
      "      Epoch    GPU_mem   box_loss   cls_loss   dfl_loss  Instances       Size\n"
     ]
    },
    {
     "name": "stderr",
     "output_type": "stream",
     "text": [
      "      45/50         0G     0.9926     0.6102      1.023         14        640: 100%|██████████| 19/19 [00:46<00:00,  2.\n",
      "                 Class     Images  Instances      Box(P          R      mAP50  mAP50-95): 100%|██████████| 5/5 [00:05<0"
     ]
    },
    {
     "name": "stdout",
     "output_type": "stream",
     "text": [
      "                   all        130        130      0.912      0.915      0.942      0.566\n"
     ]
    },
    {
     "name": "stderr",
     "output_type": "stream",
     "text": [
      "\n"
     ]
    },
    {
     "name": "stdout",
     "output_type": "stream",
     "text": [
      "\n",
      "      Epoch    GPU_mem   box_loss   cls_loss   dfl_loss  Instances       Size\n"
     ]
    },
    {
     "name": "stderr",
     "output_type": "stream",
     "text": [
      "      46/50         0G     0.9471     0.5824      1.012         14        640: 100%|██████████| 19/19 [00:49<00:00,  2.\n",
      "                 Class     Images  Instances      Box(P          R      mAP50  mAP50-95): 100%|██████████| 5/5 [00:06<0"
     ]
    },
    {
     "name": "stdout",
     "output_type": "stream",
     "text": [
      "                   all        130        130      0.888      0.912      0.937      0.575\n"
     ]
    },
    {
     "name": "stderr",
     "output_type": "stream",
     "text": [
      "\n"
     ]
    },
    {
     "name": "stdout",
     "output_type": "stream",
     "text": [
      "\n",
      "      Epoch    GPU_mem   box_loss   cls_loss   dfl_loss  Instances       Size\n"
     ]
    },
    {
     "name": "stderr",
     "output_type": "stream",
     "text": [
      "      47/50         0G      0.945     0.5935      1.031         15        640: 100%|██████████| 19/19 [00:46<00:00,  2.\n",
      "                 Class     Images  Instances      Box(P          R      mAP50  mAP50-95): 100%|██████████| 5/5 [00:06<0"
     ]
    },
    {
     "name": "stdout",
     "output_type": "stream",
     "text": [
      "                   all        130        130      0.868        0.9      0.932      0.575\n"
     ]
    },
    {
     "name": "stderr",
     "output_type": "stream",
     "text": [
      "\n"
     ]
    },
    {
     "name": "stdout",
     "output_type": "stream",
     "text": [
      "\n",
      "      Epoch    GPU_mem   box_loss   cls_loss   dfl_loss  Instances       Size\n"
     ]
    },
    {
     "name": "stderr",
     "output_type": "stream",
     "text": [
      "      48/50         0G     0.9286     0.5899      1.003         15        640: 100%|██████████| 19/19 [00:57<00:00,  3.\n",
      "                 Class     Images  Instances      Box(P          R      mAP50  mAP50-95): 100%|██████████| 5/5 [00:06<0"
     ]
    },
    {
     "name": "stdout",
     "output_type": "stream",
     "text": [
      "                   all        130        130      0.866      0.931      0.931      0.565\n"
     ]
    },
    {
     "name": "stderr",
     "output_type": "stream",
     "text": [
      "\n"
     ]
    },
    {
     "name": "stdout",
     "output_type": "stream",
     "text": [
      "\n",
      "      Epoch    GPU_mem   box_loss   cls_loss   dfl_loss  Instances       Size\n"
     ]
    },
    {
     "name": "stderr",
     "output_type": "stream",
     "text": [
      "      49/50         0G     0.9378      0.584      1.009         15        640: 100%|██████████| 19/19 [00:56<00:00,  2.\n",
      "                 Class     Images  Instances      Box(P          R      mAP50  mAP50-95): 100%|██████████| 5/5 [00:07<0"
     ]
    },
    {
     "name": "stdout",
     "output_type": "stream",
     "text": [
      "                   all        130        130      0.883      0.929       0.95      0.563\n"
     ]
    },
    {
     "name": "stderr",
     "output_type": "stream",
     "text": [
      "\n"
     ]
    },
    {
     "name": "stdout",
     "output_type": "stream",
     "text": [
      "\n",
      "      Epoch    GPU_mem   box_loss   cls_loss   dfl_loss  Instances       Size\n"
     ]
    },
    {
     "name": "stderr",
     "output_type": "stream",
     "text": [
      "      50/50         0G     0.8937     0.5653     0.9929         15        640: 100%|██████████| 19/19 [00:56<00:00,  2.\n",
      "                 Class     Images  Instances      Box(P          R      mAP50  mAP50-95): 100%|██████████| 5/5 [00:06<0"
     ]
    },
    {
     "name": "stdout",
     "output_type": "stream",
     "text": [
      "                   all        130        130      0.879      0.931      0.951      0.566\n"
     ]
    },
    {
     "name": "stderr",
     "output_type": "stream",
     "text": [
      "\n"
     ]
    },
    {
     "name": "stdout",
     "output_type": "stream",
     "text": [
      "\n",
      "50 epochs completed in 2.601 hours.\n",
      "Optimizer stripped from runs\\detect\\train2\\weights\\last.pt, 6.2MB\n",
      "Optimizer stripped from runs\\detect\\train2\\weights\\best.pt, 6.2MB\n",
      "\n",
      "Validating runs\\detect\\train2\\weights\\best.pt...\n",
      "Ultralytics 8.3.75  Python-3.11.7 torch-2.6.0+cpu CPU (12th Gen Intel Core(TM) i7-12650H)\n",
      "Model summary (fused): 168 layers, 3,005,843 parameters, 0 gradients, 8.1 GFLOPs\n"
     ]
    },
    {
     "name": "stderr",
     "output_type": "stream",
     "text": [
      "                 Class     Images  Instances      Box(P          R      mAP50  mAP50-95): 100%|██████████| 5/5 [00:06<0\n"
     ]
    },
    {
     "name": "stdout",
     "output_type": "stream",
     "text": [
      "                   all        130        130      0.823      0.964      0.951      0.582\n",
      "Speed: 0.7ms preprocess, 39.0ms inference, 0.0ms loss, 0.6ms postprocess per image\n",
      "Results saved to \u001b[1mruns\\detect\\train2\u001b[0m\n"
     ]
    },
    {
     "data": {
      "text/plain": [
       "ultralytics.utils.metrics.DetMetrics object with attributes:\n",
       "\n",
       "ap_class_index: array([0])\n",
       "box: ultralytics.utils.metrics.Metric object\n",
       "confusion_matrix: <ultralytics.utils.metrics.ConfusionMatrix object at 0x00000179FB4D5010>\n",
       "curves: ['Precision-Recall(B)', 'F1-Confidence(B)', 'Precision-Confidence(B)', 'Recall-Confidence(B)']\n",
       "curves_results: [[array([          0,    0.001001,    0.002002,    0.003003,    0.004004,    0.005005,    0.006006,    0.007007,    0.008008,    0.009009,     0.01001,    0.011011,    0.012012,    0.013013,    0.014014,    0.015015,    0.016016,    0.017017,    0.018018,    0.019019,     0.02002,    0.021021,    0.022022,    0.023023,\n",
       "          0.024024,    0.025025,    0.026026,    0.027027,    0.028028,    0.029029,     0.03003,    0.031031,    0.032032,    0.033033,    0.034034,    0.035035,    0.036036,    0.037037,    0.038038,    0.039039,     0.04004,    0.041041,    0.042042,    0.043043,    0.044044,    0.045045,    0.046046,    0.047047,\n",
       "          0.048048,    0.049049,     0.05005,    0.051051,    0.052052,    0.053053,    0.054054,    0.055055,    0.056056,    0.057057,    0.058058,    0.059059,     0.06006,    0.061061,    0.062062,    0.063063,    0.064064,    0.065065,    0.066066,    0.067067,    0.068068,    0.069069,     0.07007,    0.071071,\n",
       "          0.072072,    0.073073,    0.074074,    0.075075,    0.076076,    0.077077,    0.078078,    0.079079,     0.08008,    0.081081,    0.082082,    0.083083,    0.084084,    0.085085,    0.086086,    0.087087,    0.088088,    0.089089,     0.09009,    0.091091,    0.092092,    0.093093,    0.094094,    0.095095,\n",
       "          0.096096,    0.097097,    0.098098,    0.099099,      0.1001,      0.1011,      0.1021,      0.1031,      0.1041,     0.10511,     0.10611,     0.10711,     0.10811,     0.10911,     0.11011,     0.11111,     0.11211,     0.11311,     0.11411,     0.11512,     0.11612,     0.11712,     0.11812,     0.11912,\n",
       "           0.12012,     0.12112,     0.12212,     0.12312,     0.12412,     0.12513,     0.12613,     0.12713,     0.12813,     0.12913,     0.13013,     0.13113,     0.13213,     0.13313,     0.13413,     0.13514,     0.13614,     0.13714,     0.13814,     0.13914,     0.14014,     0.14114,     0.14214,     0.14314,\n",
       "           0.14414,     0.14515,     0.14615,     0.14715,     0.14815,     0.14915,     0.15015,     0.15115,     0.15215,     0.15315,     0.15415,     0.15516,     0.15616,     0.15716,     0.15816,     0.15916,     0.16016,     0.16116,     0.16216,     0.16316,     0.16416,     0.16517,     0.16617,     0.16717,\n",
       "           0.16817,     0.16917,     0.17017,     0.17117,     0.17217,     0.17317,     0.17417,     0.17518,     0.17618,     0.17718,     0.17818,     0.17918,     0.18018,     0.18118,     0.18218,     0.18318,     0.18418,     0.18519,     0.18619,     0.18719,     0.18819,     0.18919,     0.19019,     0.19119,\n",
       "           0.19219,     0.19319,     0.19419,      0.1952,      0.1962,      0.1972,      0.1982,      0.1992,      0.2002,      0.2012,      0.2022,      0.2032,      0.2042,     0.20521,     0.20621,     0.20721,     0.20821,     0.20921,     0.21021,     0.21121,     0.21221,     0.21321,     0.21421,     0.21522,\n",
       "           0.21622,     0.21722,     0.21822,     0.21922,     0.22022,     0.22122,     0.22222,     0.22322,     0.22422,     0.22523,     0.22623,     0.22723,     0.22823,     0.22923,     0.23023,     0.23123,     0.23223,     0.23323,     0.23423,     0.23524,     0.23624,     0.23724,     0.23824,     0.23924,\n",
       "           0.24024,     0.24124,     0.24224,     0.24324,     0.24424,     0.24525,     0.24625,     0.24725,     0.24825,     0.24925,     0.25025,     0.25125,     0.25225,     0.25325,     0.25425,     0.25526,     0.25626,     0.25726,     0.25826,     0.25926,     0.26026,     0.26126,     0.26226,     0.26326,\n",
       "           0.26426,     0.26527,     0.26627,     0.26727,     0.26827,     0.26927,     0.27027,     0.27127,     0.27227,     0.27327,     0.27427,     0.27528,     0.27628,     0.27728,     0.27828,     0.27928,     0.28028,     0.28128,     0.28228,     0.28328,     0.28428,     0.28529,     0.28629,     0.28729,\n",
       "           0.28829,     0.28929,     0.29029,     0.29129,     0.29229,     0.29329,     0.29429,      0.2953,      0.2963,      0.2973,      0.2983,      0.2993,      0.3003,      0.3013,      0.3023,      0.3033,      0.3043,     0.30531,     0.30631,     0.30731,     0.30831,     0.30931,     0.31031,     0.31131,\n",
       "           0.31231,     0.31331,     0.31431,     0.31532,     0.31632,     0.31732,     0.31832,     0.31932,     0.32032,     0.32132,     0.32232,     0.32332,     0.32432,     0.32533,     0.32633,     0.32733,     0.32833,     0.32933,     0.33033,     0.33133,     0.33233,     0.33333,     0.33433,     0.33534,\n",
       "           0.33634,     0.33734,     0.33834,     0.33934,     0.34034,     0.34134,     0.34234,     0.34334,     0.34434,     0.34535,     0.34635,     0.34735,     0.34835,     0.34935,     0.35035,     0.35135,     0.35235,     0.35335,     0.35435,     0.35536,     0.35636,     0.35736,     0.35836,     0.35936,\n",
       "           0.36036,     0.36136,     0.36236,     0.36336,     0.36436,     0.36537,     0.36637,     0.36737,     0.36837,     0.36937,     0.37037,     0.37137,     0.37237,     0.37337,     0.37437,     0.37538,     0.37638,     0.37738,     0.37838,     0.37938,     0.38038,     0.38138,     0.38238,     0.38338,\n",
       "           0.38438,     0.38539,     0.38639,     0.38739,     0.38839,     0.38939,     0.39039,     0.39139,     0.39239,     0.39339,     0.39439,      0.3954,      0.3964,      0.3974,      0.3984,      0.3994,      0.4004,      0.4014,      0.4024,      0.4034,      0.4044,     0.40541,     0.40641,     0.40741,\n",
       "           0.40841,     0.40941,     0.41041,     0.41141,     0.41241,     0.41341,     0.41441,     0.41542,     0.41642,     0.41742,     0.41842,     0.41942,     0.42042,     0.42142,     0.42242,     0.42342,     0.42442,     0.42543,     0.42643,     0.42743,     0.42843,     0.42943,     0.43043,     0.43143,\n",
       "           0.43243,     0.43343,     0.43443,     0.43544,     0.43644,     0.43744,     0.43844,     0.43944,     0.44044,     0.44144,     0.44244,     0.44344,     0.44444,     0.44545,     0.44645,     0.44745,     0.44845,     0.44945,     0.45045,     0.45145,     0.45245,     0.45345,     0.45445,     0.45546,\n",
       "           0.45646,     0.45746,     0.45846,     0.45946,     0.46046,     0.46146,     0.46246,     0.46346,     0.46446,     0.46547,     0.46647,     0.46747,     0.46847,     0.46947,     0.47047,     0.47147,     0.47247,     0.47347,     0.47447,     0.47548,     0.47648,     0.47748,     0.47848,     0.47948,\n",
       "           0.48048,     0.48148,     0.48248,     0.48348,     0.48448,     0.48549,     0.48649,     0.48749,     0.48849,     0.48949,     0.49049,     0.49149,     0.49249,     0.49349,     0.49449,      0.4955,      0.4965,      0.4975,      0.4985,      0.4995,      0.5005,      0.5015,      0.5025,      0.5035,\n",
       "            0.5045,     0.50551,     0.50651,     0.50751,     0.50851,     0.50951,     0.51051,     0.51151,     0.51251,     0.51351,     0.51451,     0.51552,     0.51652,     0.51752,     0.51852,     0.51952,     0.52052,     0.52152,     0.52252,     0.52352,     0.52452,     0.52553,     0.52653,     0.52753,\n",
       "           0.52853,     0.52953,     0.53053,     0.53153,     0.53253,     0.53353,     0.53453,     0.53554,     0.53654,     0.53754,     0.53854,     0.53954,     0.54054,     0.54154,     0.54254,     0.54354,     0.54454,     0.54555,     0.54655,     0.54755,     0.54855,     0.54955,     0.55055,     0.55155,\n",
       "           0.55255,     0.55355,     0.55455,     0.55556,     0.55656,     0.55756,     0.55856,     0.55956,     0.56056,     0.56156,     0.56256,     0.56356,     0.56456,     0.56557,     0.56657,     0.56757,     0.56857,     0.56957,     0.57057,     0.57157,     0.57257,     0.57357,     0.57457,     0.57558,\n",
       "           0.57658,     0.57758,     0.57858,     0.57958,     0.58058,     0.58158,     0.58258,     0.58358,     0.58458,     0.58559,     0.58659,     0.58759,     0.58859,     0.58959,     0.59059,     0.59159,     0.59259,     0.59359,     0.59459,      0.5956,      0.5966,      0.5976,      0.5986,      0.5996,\n",
       "            0.6006,      0.6016,      0.6026,      0.6036,      0.6046,     0.60561,     0.60661,     0.60761,     0.60861,     0.60961,     0.61061,     0.61161,     0.61261,     0.61361,     0.61461,     0.61562,     0.61662,     0.61762,     0.61862,     0.61962,     0.62062,     0.62162,     0.62262,     0.62362,\n",
       "           0.62462,     0.62563,     0.62663,     0.62763,     0.62863,     0.62963,     0.63063,     0.63163,     0.63263,     0.63363,     0.63463,     0.63564,     0.63664,     0.63764,     0.63864,     0.63964,     0.64064,     0.64164,     0.64264,     0.64364,     0.64464,     0.64565,     0.64665,     0.64765,\n",
       "           0.64865,     0.64965,     0.65065,     0.65165,     0.65265,     0.65365,     0.65465,     0.65566,     0.65666,     0.65766,     0.65866,     0.65966,     0.66066,     0.66166,     0.66266,     0.66366,     0.66466,     0.66567,     0.66667,     0.66767,     0.66867,     0.66967,     0.67067,     0.67167,\n",
       "           0.67267,     0.67367,     0.67467,     0.67568,     0.67668,     0.67768,     0.67868,     0.67968,     0.68068,     0.68168,     0.68268,     0.68368,     0.68468,     0.68569,     0.68669,     0.68769,     0.68869,     0.68969,     0.69069,     0.69169,     0.69269,     0.69369,     0.69469,      0.6957,\n",
       "            0.6967,      0.6977,      0.6987,      0.6997,      0.7007,      0.7017,      0.7027,      0.7037,      0.7047,     0.70571,     0.70671,     0.70771,     0.70871,     0.70971,     0.71071,     0.71171,     0.71271,     0.71371,     0.71471,     0.71572,     0.71672,     0.71772,     0.71872,     0.71972,\n",
       "           0.72072,     0.72172,     0.72272,     0.72372,     0.72472,     0.72573,     0.72673,     0.72773,     0.72873,     0.72973,     0.73073,     0.73173,     0.73273,     0.73373,     0.73473,     0.73574,     0.73674,     0.73774,     0.73874,     0.73974,     0.74074,     0.74174,     0.74274,     0.74374,\n",
       "           0.74474,     0.74575,     0.74675,     0.74775,     0.74875,     0.74975,     0.75075,     0.75175,     0.75275,     0.75375,     0.75475,     0.75576,     0.75676,     0.75776,     0.75876,     0.75976,     0.76076,     0.76176,     0.76276,     0.76376,     0.76476,     0.76577,     0.76677,     0.76777,\n",
       "           0.76877,     0.76977,     0.77077,     0.77177,     0.77277,     0.77377,     0.77477,     0.77578,     0.77678,     0.77778,     0.77878,     0.77978,     0.78078,     0.78178,     0.78278,     0.78378,     0.78478,     0.78579,     0.78679,     0.78779,     0.78879,     0.78979,     0.79079,     0.79179,\n",
       "           0.79279,     0.79379,     0.79479,      0.7958,      0.7968,      0.7978,      0.7988,      0.7998,      0.8008,      0.8018,      0.8028,      0.8038,      0.8048,     0.80581,     0.80681,     0.80781,     0.80881,     0.80981,     0.81081,     0.81181,     0.81281,     0.81381,     0.81481,     0.81582,\n",
       "           0.81682,     0.81782,     0.81882,     0.81982,     0.82082,     0.82182,     0.82282,     0.82382,     0.82482,     0.82583,     0.82683,     0.82783,     0.82883,     0.82983,     0.83083,     0.83183,     0.83283,     0.83383,     0.83483,     0.83584,     0.83684,     0.83784,     0.83884,     0.83984,\n",
       "           0.84084,     0.84184,     0.84284,     0.84384,     0.84484,     0.84585,     0.84685,     0.84785,     0.84885,     0.84985,     0.85085,     0.85185,     0.85285,     0.85385,     0.85485,     0.85586,     0.85686,     0.85786,     0.85886,     0.85986,     0.86086,     0.86186,     0.86286,     0.86386,\n",
       "           0.86486,     0.86587,     0.86687,     0.86787,     0.86887,     0.86987,     0.87087,     0.87187,     0.87287,     0.87387,     0.87487,     0.87588,     0.87688,     0.87788,     0.87888,     0.87988,     0.88088,     0.88188,     0.88288,     0.88388,     0.88488,     0.88589,     0.88689,     0.88789,\n",
       "           0.88889,     0.88989,     0.89089,     0.89189,     0.89289,     0.89389,     0.89489,      0.8959,      0.8969,      0.8979,      0.8989,      0.8999,      0.9009,      0.9019,      0.9029,      0.9039,      0.9049,     0.90591,     0.90691,     0.90791,     0.90891,     0.90991,     0.91091,     0.91191,\n",
       "           0.91291,     0.91391,     0.91491,     0.91592,     0.91692,     0.91792,     0.91892,     0.91992,     0.92092,     0.92192,     0.92292,     0.92392,     0.92492,     0.92593,     0.92693,     0.92793,     0.92893,     0.92993,     0.93093,     0.93193,     0.93293,     0.93393,     0.93493,     0.93594,\n",
       "           0.93694,     0.93794,     0.93894,     0.93994,     0.94094,     0.94194,     0.94294,     0.94394,     0.94494,     0.94595,     0.94695,     0.94795,     0.94895,     0.94995,     0.95095,     0.95195,     0.95295,     0.95395,     0.95495,     0.95596,     0.95696,     0.95796,     0.95896,     0.95996,\n",
       "           0.96096,     0.96196,     0.96296,     0.96396,     0.96496,     0.96597,     0.96697,     0.96797,     0.96897,     0.96997,     0.97097,     0.97197,     0.97297,     0.97397,     0.97497,     0.97598,     0.97698,     0.97798,     0.97898,     0.97998,     0.98098,     0.98198,     0.98298,     0.98398,\n",
       "           0.98498,     0.98599,     0.98699,     0.98799,     0.98899,     0.98999,     0.99099,     0.99199,     0.99299,     0.99399,     0.99499,       0.996,       0.997,       0.998,       0.999,           1]), array([[          1,           1,           1,           1,           1,           1,           1,           1,           1,           1,           1,           1,           1,           1,           1,           1,           1,           1,           1,           1,           1,           1,           1,\n",
       "                  1,           1,           1,           1,           1,           1,           1,           1,           1,           1,           1,           1,           1,           1,           1,           1,           1,           1,           1,           1,           1,           1,           1,\n",
       "                  1,           1,           1,           1,           1,           1,           1,           1,           1,           1,           1,           1,           1,           1,           1,           1,           1,           1,           1,           1,           1,           1,           1,\n",
       "                  1,           1,           1,           1,           1,           1,           1,           1,           1,           1,           1,           1,           1,           1,           1,           1,           1,           1,           1,           1,           1,           1,           1,\n",
       "                  1,           1,           1,           1,           1,           1,           1,           1,           1,           1,           1,           1,           1,           1,           1,           1,           1,           1,           1,           1,           1,           1,           1,\n",
       "                  1,           1,           1,           1,           1,           1,           1,           1,           1,           1,           1,           1,           1,           1,           1,           1,           1,           1,           1,           1,           1,           1,           1,\n",
       "                  1,           1,           1,           1,           1,           1,           1,           1,           1,           1,           1,           1,           1,           1,           1,           1,           1,           1,           1,           1,           1,           1,           1,\n",
       "                  1,           1,           1,           1,           1,           1,           1,           1,           1,           1,           1,           1,           1,           1,           1,           1,           1,           1,           1,           1,           1,           1,           1,\n",
       "                  1,           1,           1,           1,           1,           1,           1,           1,           1,           1,           1,           1,           1,           1,           1,           1,           1,           1,           1,           1,           1,           1,           1,\n",
       "                  1,           1,           1,           1,           1,           1,           1,           1,           1,           1,           1,           1,           1,           1,           1,           1,           1,           1,           1,           1,           1,           1,           1,\n",
       "                  1,           1,           1,           1,           1,           1,           1,           1,           1,           1,           1,           1,           1,           1,           1,           1,           1,           1,           1,           1,           1,           1,           1,\n",
       "                  1,           1,           1,           1,           1,           1,           1,           1,           1,           1,           1,           1,           1,           1,           1,           1,           1,           1,           1,           1,           1,           1,           1,\n",
       "                  1,           1,           1,           1,           1,           1,           1,           1,           1,           1,           1,           1,           1,           1,           1,           1,           1,           1,           1,           1,           1,           1,           1,\n",
       "                  1,           1,           1,           1,           1,           1,           1,           1,           1,           1,           1,           1,           1,           1,           1,           1,           1,           1,           1,           1,           1,           1,           1,\n",
       "                  1,           1,           1,           1,           1,           1,           1,           1,           1,           1,           1,           1,           1,           1,           1,           1,           1,           1,           1,           1,           1,           1,           1,\n",
       "                  1,           1,           1,           1,           1,           1,           1,           1,           1,           1,           1,           1,           1,           1,           1,           1,           1,           1,           1,           1,           1,           1,           1,\n",
       "                  1,           1,           1,           1,           1,           1,           1,           1,           1,           1,           1,           1,           1,           1,           1,           1,           1,           1,           1,           1,           1,           1,           1,\n",
       "                  1,           1,           1,           1,           1,           1,           1,           1,           1,           1,           1,           1,           1,           1,           1,           1,           1,           1,           1,           1,           1,           1,           1,\n",
       "                  1,           1,           1,           1,           1,           1,           1,           1,           1,           1,           1,           1,           1,           1,           1,           1,           1,           1,           1,           1,           1,           1,           1,\n",
       "                  1,           1,           1,           1,           1,           1,           1,           1,           1,           1,           1,           1,           1,           1,           1,           1,           1,           1,           1,           1,           1,           1,           1,\n",
       "                  1,           1,           1,           1,           1,           1,           1,           1,           1,           1,           1,           1,           1,           1,           1,           1,           1,           1,           1,           1,           1,           1,           1,\n",
       "                  1,           1,           1,           1,           1,           1,           1,           1,           1,           1,           1,           1,           1,           1,           1,           1,           1,           1,           1,           1,           1,           1,           1,\n",
       "                  1,           1,           1,           1,           1,           1,           1,           1,           1,     0.98592,     0.98592,     0.98592,     0.98592,     0.98592,     0.98592,     0.98592,     0.98592,     0.98592,     0.98592,     0.98592,     0.98592,     0.98592,     0.98592,\n",
       "            0.98592,     0.98592,     0.98592,     0.98592,     0.98592,     0.98592,     0.98592,     0.98592,     0.98592,     0.97674,     0.97674,     0.97674,     0.97674,     0.97674,     0.97674,     0.97674,     0.97674,     0.97674,     0.97674,     0.97674,     0.97674,     0.97674,     0.97674,\n",
       "            0.97674,     0.97674,     0.97674,     0.97674,     0.97674,     0.97674,     0.97674,     0.97674,     0.97674,     0.97674,     0.97674,     0.97674,     0.97674,     0.97674,     0.97674,     0.97674,     0.97674,     0.97674,     0.97674,     0.97674,     0.97674,     0.97674,     0.97674,\n",
       "            0.97674,     0.97674,     0.97674,     0.97674,     0.97674,     0.97674,     0.97674,     0.97674,     0.97674,     0.97674,     0.97674,     0.97674,     0.97674,     0.97674,     0.97674,     0.97674,     0.97674,     0.97674,     0.97674,     0.97674,     0.97674,     0.97674,     0.97674,\n",
       "            0.97674,     0.97674,     0.97674,     0.97674,     0.97674,     0.97674,     0.97674,     0.97674,     0.97674,     0.97674,     0.97674,     0.97674,     0.97674,     0.97674,     0.97674,     0.97674,     0.97674,     0.97674,     0.97674,     0.97674,     0.97674,     0.97674,     0.97674,\n",
       "            0.97674,     0.97674,     0.97674,     0.97674,     0.97674,     0.97674,     0.97674,     0.97674,     0.97674,     0.97674,     0.97674,     0.97674,     0.97674,     0.97674,     0.97674,     0.97674,     0.97674,     0.97674,     0.97674,     0.97674,     0.97674,     0.97674,     0.97674,\n",
       "            0.97674,     0.97674,     0.96703,     0.96703,     0.96703,     0.96703,     0.96703,     0.96703,     0.96703,     0.96703,     0.96703,     0.96703,     0.96703,     0.96703,     0.96703,     0.96703,     0.96703,     0.96703,     0.96703,     0.96703,     0.96703,     0.96703,     0.96703,\n",
       "            0.96703,     0.96703,     0.96703,     0.96703,     0.96703,     0.96703,     0.96703,     0.96703,     0.96703,     0.96703,     0.95745,     0.95745,     0.95745,     0.95745,     0.95745,     0.95745,     0.95745,     0.95745,     0.95745,     0.95745,     0.95745,     0.95745,     0.95745,\n",
       "            0.95745,     0.95745,     0.94898,     0.94898,     0.94898,     0.94898,     0.94898,     0.94898,     0.94898,     0.94898,     0.94898,     0.94898,     0.94898,     0.94898,     0.94898,     0.94898,     0.94898,     0.94898,     0.94898,     0.94898,     0.94898,     0.94898,     0.94898,\n",
       "            0.94898,     0.94898,     0.93458,     0.93458,     0.93458,     0.93458,     0.93458,     0.93458,     0.93458,     0.93458,     0.93458,     0.93458,     0.93458,     0.93458,     0.93458,     0.93458,     0.93458,     0.93458,     0.93458,     0.93458,     0.93458,     0.93458,     0.93458,\n",
       "            0.93458,     0.93458,     0.93458,     0.93458,     0.93458,     0.93458,     0.93458,     0.93458,     0.93458,     0.93458,     0.93458,     0.93458,     0.93458,     0.93458,     0.93458,     0.93458,     0.93458,     0.93458,     0.93458,     0.93458,     0.93458,     0.93458,     0.93458,\n",
       "            0.93458,     0.93458,     0.93458,     0.93458,     0.93458,     0.93458,     0.93458,     0.93458,     0.93458,     0.93458,     0.92982,     0.92982,     0.92982,     0.92982,     0.92982,     0.92982,     0.92982,     0.92982,     0.92982,     0.92982,     0.92982,     0.92982,     0.92982,\n",
       "            0.92982,     0.92982,     0.92982,     0.92982,     0.92982,     0.92982,     0.92982,     0.92982,     0.92982,     0.92982,     0.92982,     0.92982,     0.92982,     0.92982,     0.92982,     0.92982,     0.92982,     0.92982,     0.92982,     0.92982,     0.92982,     0.92982,     0.92982,\n",
       "            0.92982,     0.92982,     0.92982,     0.92982,     0.92982,     0.92982,     0.92982,     0.92982,     0.92982,     0.92982,     0.90678,     0.90678,     0.90678,     0.90678,     0.90678,     0.90678,     0.90678,     0.90678,     0.90244,     0.90244,     0.90244,     0.90244,     0.90244,\n",
       "            0.90244,     0.90244,     0.90244,     0.90244,     0.90244,     0.90244,     0.90244,     0.90244,     0.90244,     0.90244,     0.90244,     0.90244,     0.90244,     0.90244,     0.90244,     0.90244,     0.90244,     0.90244,     0.90244,     0.90244,     0.90244,     0.90244,     0.90244,\n",
       "            0.90244,     0.90244,     0.88889,     0.88889,     0.88889,     0.88889,     0.88889,     0.88889,     0.88889,     0.88889,     0.88281,     0.88281,     0.88281,     0.88281,     0.88281,     0.88281,     0.88281,     0.88281,     0.86364,     0.86364,     0.86364,     0.86364,     0.86364,\n",
       "            0.86364,     0.86364,     0.86364,     0.85821,     0.85821,     0.85821,     0.85821,     0.85821,     0.85821,     0.85821,     0.85294,     0.85294,     0.85294,     0.85294,     0.85294,     0.85294,     0.85294,     0.85294,     0.84783,     0.84783,     0.84783,     0.84783,     0.84783,\n",
       "            0.84783,     0.84783,     0.84783,     0.84286,     0.84286,     0.84286,     0.84286,     0.84286,     0.84286,     0.84286,     0.83916,     0.83916,     0.83916,     0.83916,     0.83916,     0.83916,     0.83916,     0.83916,     0.83916,     0.83916,     0.83916,     0.83916,     0.83916,\n",
       "            0.83916,     0.83916,     0.83916,     0.83448,     0.83448,     0.83448,     0.83448,     0.83448,     0.83448,     0.83448,     0.83108,     0.83108,     0.83108,     0.83108,     0.83108,     0.83108,     0.83108,     0.83108,     0.83108,     0.83108,     0.83108,     0.83108,     0.83108,\n",
       "            0.83108,     0.83108,     0.83108,     0.82667,     0.82667,     0.82667,     0.82667,     0.82667,     0.82667,     0.82667,     0.82353,     0.82353,     0.82353,     0.82353,     0.82353,     0.82353,     0.82353,     0.82353,     0.82353,     0.82353,     0.82353,     0.82353,     0.82353,\n",
       "            0.82353,     0.82353,     0.82353,     0.73837,     0.73837,     0.73837,     0.73837,     0.73837,     0.73837,     0.73837,     0.63682,     0.63682,     0.63682,     0.63682,     0.63682,     0.63682,     0.63682,     0.63682,     0.58371,     0.58371,     0.58371,     0.58371,     0.58371,\n",
       "            0.58371,     0.58371,     0.58371,     0.40248,     0.40248,     0.40248,     0.40248,     0.40248,     0.40248,     0.40248,           0]]), 'Recall', 'Precision'], [array([          0,    0.001001,    0.002002,    0.003003,    0.004004,    0.005005,    0.006006,    0.007007,    0.008008,    0.009009,     0.01001,    0.011011,    0.012012,    0.013013,    0.014014,    0.015015,    0.016016,    0.017017,    0.018018,    0.019019,     0.02002,    0.021021,    0.022022,    0.023023,\n",
       "          0.024024,    0.025025,    0.026026,    0.027027,    0.028028,    0.029029,     0.03003,    0.031031,    0.032032,    0.033033,    0.034034,    0.035035,    0.036036,    0.037037,    0.038038,    0.039039,     0.04004,    0.041041,    0.042042,    0.043043,    0.044044,    0.045045,    0.046046,    0.047047,\n",
       "          0.048048,    0.049049,     0.05005,    0.051051,    0.052052,    0.053053,    0.054054,    0.055055,    0.056056,    0.057057,    0.058058,    0.059059,     0.06006,    0.061061,    0.062062,    0.063063,    0.064064,    0.065065,    0.066066,    0.067067,    0.068068,    0.069069,     0.07007,    0.071071,\n",
       "          0.072072,    0.073073,    0.074074,    0.075075,    0.076076,    0.077077,    0.078078,    0.079079,     0.08008,    0.081081,    0.082082,    0.083083,    0.084084,    0.085085,    0.086086,    0.087087,    0.088088,    0.089089,     0.09009,    0.091091,    0.092092,    0.093093,    0.094094,    0.095095,\n",
       "          0.096096,    0.097097,    0.098098,    0.099099,      0.1001,      0.1011,      0.1021,      0.1031,      0.1041,     0.10511,     0.10611,     0.10711,     0.10811,     0.10911,     0.11011,     0.11111,     0.11211,     0.11311,     0.11411,     0.11512,     0.11612,     0.11712,     0.11812,     0.11912,\n",
       "           0.12012,     0.12112,     0.12212,     0.12312,     0.12412,     0.12513,     0.12613,     0.12713,     0.12813,     0.12913,     0.13013,     0.13113,     0.13213,     0.13313,     0.13413,     0.13514,     0.13614,     0.13714,     0.13814,     0.13914,     0.14014,     0.14114,     0.14214,     0.14314,\n",
       "           0.14414,     0.14515,     0.14615,     0.14715,     0.14815,     0.14915,     0.15015,     0.15115,     0.15215,     0.15315,     0.15415,     0.15516,     0.15616,     0.15716,     0.15816,     0.15916,     0.16016,     0.16116,     0.16216,     0.16316,     0.16416,     0.16517,     0.16617,     0.16717,\n",
       "           0.16817,     0.16917,     0.17017,     0.17117,     0.17217,     0.17317,     0.17417,     0.17518,     0.17618,     0.17718,     0.17818,     0.17918,     0.18018,     0.18118,     0.18218,     0.18318,     0.18418,     0.18519,     0.18619,     0.18719,     0.18819,     0.18919,     0.19019,     0.19119,\n",
       "           0.19219,     0.19319,     0.19419,      0.1952,      0.1962,      0.1972,      0.1982,      0.1992,      0.2002,      0.2012,      0.2022,      0.2032,      0.2042,     0.20521,     0.20621,     0.20721,     0.20821,     0.20921,     0.21021,     0.21121,     0.21221,     0.21321,     0.21421,     0.21522,\n",
       "           0.21622,     0.21722,     0.21822,     0.21922,     0.22022,     0.22122,     0.22222,     0.22322,     0.22422,     0.22523,     0.22623,     0.22723,     0.22823,     0.22923,     0.23023,     0.23123,     0.23223,     0.23323,     0.23423,     0.23524,     0.23624,     0.23724,     0.23824,     0.23924,\n",
       "           0.24024,     0.24124,     0.24224,     0.24324,     0.24424,     0.24525,     0.24625,     0.24725,     0.24825,     0.24925,     0.25025,     0.25125,     0.25225,     0.25325,     0.25425,     0.25526,     0.25626,     0.25726,     0.25826,     0.25926,     0.26026,     0.26126,     0.26226,     0.26326,\n",
       "           0.26426,     0.26527,     0.26627,     0.26727,     0.26827,     0.26927,     0.27027,     0.27127,     0.27227,     0.27327,     0.27427,     0.27528,     0.27628,     0.27728,     0.27828,     0.27928,     0.28028,     0.28128,     0.28228,     0.28328,     0.28428,     0.28529,     0.28629,     0.28729,\n",
       "           0.28829,     0.28929,     0.29029,     0.29129,     0.29229,     0.29329,     0.29429,      0.2953,      0.2963,      0.2973,      0.2983,      0.2993,      0.3003,      0.3013,      0.3023,      0.3033,      0.3043,     0.30531,     0.30631,     0.30731,     0.30831,     0.30931,     0.31031,     0.31131,\n",
       "           0.31231,     0.31331,     0.31431,     0.31532,     0.31632,     0.31732,     0.31832,     0.31932,     0.32032,     0.32132,     0.32232,     0.32332,     0.32432,     0.32533,     0.32633,     0.32733,     0.32833,     0.32933,     0.33033,     0.33133,     0.33233,     0.33333,     0.33433,     0.33534,\n",
       "           0.33634,     0.33734,     0.33834,     0.33934,     0.34034,     0.34134,     0.34234,     0.34334,     0.34434,     0.34535,     0.34635,     0.34735,     0.34835,     0.34935,     0.35035,     0.35135,     0.35235,     0.35335,     0.35435,     0.35536,     0.35636,     0.35736,     0.35836,     0.35936,\n",
       "           0.36036,     0.36136,     0.36236,     0.36336,     0.36436,     0.36537,     0.36637,     0.36737,     0.36837,     0.36937,     0.37037,     0.37137,     0.37237,     0.37337,     0.37437,     0.37538,     0.37638,     0.37738,     0.37838,     0.37938,     0.38038,     0.38138,     0.38238,     0.38338,\n",
       "           0.38438,     0.38539,     0.38639,     0.38739,     0.38839,     0.38939,     0.39039,     0.39139,     0.39239,     0.39339,     0.39439,      0.3954,      0.3964,      0.3974,      0.3984,      0.3994,      0.4004,      0.4014,      0.4024,      0.4034,      0.4044,     0.40541,     0.40641,     0.40741,\n",
       "           0.40841,     0.40941,     0.41041,     0.41141,     0.41241,     0.41341,     0.41441,     0.41542,     0.41642,     0.41742,     0.41842,     0.41942,     0.42042,     0.42142,     0.42242,     0.42342,     0.42442,     0.42543,     0.42643,     0.42743,     0.42843,     0.42943,     0.43043,     0.43143,\n",
       "           0.43243,     0.43343,     0.43443,     0.43544,     0.43644,     0.43744,     0.43844,     0.43944,     0.44044,     0.44144,     0.44244,     0.44344,     0.44444,     0.44545,     0.44645,     0.44745,     0.44845,     0.44945,     0.45045,     0.45145,     0.45245,     0.45345,     0.45445,     0.45546,\n",
       "           0.45646,     0.45746,     0.45846,     0.45946,     0.46046,     0.46146,     0.46246,     0.46346,     0.46446,     0.46547,     0.46647,     0.46747,     0.46847,     0.46947,     0.47047,     0.47147,     0.47247,     0.47347,     0.47447,     0.47548,     0.47648,     0.47748,     0.47848,     0.47948,\n",
       "           0.48048,     0.48148,     0.48248,     0.48348,     0.48448,     0.48549,     0.48649,     0.48749,     0.48849,     0.48949,     0.49049,     0.49149,     0.49249,     0.49349,     0.49449,      0.4955,      0.4965,      0.4975,      0.4985,      0.4995,      0.5005,      0.5015,      0.5025,      0.5035,\n",
       "            0.5045,     0.50551,     0.50651,     0.50751,     0.50851,     0.50951,     0.51051,     0.51151,     0.51251,     0.51351,     0.51451,     0.51552,     0.51652,     0.51752,     0.51852,     0.51952,     0.52052,     0.52152,     0.52252,     0.52352,     0.52452,     0.52553,     0.52653,     0.52753,\n",
       "           0.52853,     0.52953,     0.53053,     0.53153,     0.53253,     0.53353,     0.53453,     0.53554,     0.53654,     0.53754,     0.53854,     0.53954,     0.54054,     0.54154,     0.54254,     0.54354,     0.54454,     0.54555,     0.54655,     0.54755,     0.54855,     0.54955,     0.55055,     0.55155,\n",
       "           0.55255,     0.55355,     0.55455,     0.55556,     0.55656,     0.55756,     0.55856,     0.55956,     0.56056,     0.56156,     0.56256,     0.56356,     0.56456,     0.56557,     0.56657,     0.56757,     0.56857,     0.56957,     0.57057,     0.57157,     0.57257,     0.57357,     0.57457,     0.57558,\n",
       "           0.57658,     0.57758,     0.57858,     0.57958,     0.58058,     0.58158,     0.58258,     0.58358,     0.58458,     0.58559,     0.58659,     0.58759,     0.58859,     0.58959,     0.59059,     0.59159,     0.59259,     0.59359,     0.59459,      0.5956,      0.5966,      0.5976,      0.5986,      0.5996,\n",
       "            0.6006,      0.6016,      0.6026,      0.6036,      0.6046,     0.60561,     0.60661,     0.60761,     0.60861,     0.60961,     0.61061,     0.61161,     0.61261,     0.61361,     0.61461,     0.61562,     0.61662,     0.61762,     0.61862,     0.61962,     0.62062,     0.62162,     0.62262,     0.62362,\n",
       "           0.62462,     0.62563,     0.62663,     0.62763,     0.62863,     0.62963,     0.63063,     0.63163,     0.63263,     0.63363,     0.63463,     0.63564,     0.63664,     0.63764,     0.63864,     0.63964,     0.64064,     0.64164,     0.64264,     0.64364,     0.64464,     0.64565,     0.64665,     0.64765,\n",
       "           0.64865,     0.64965,     0.65065,     0.65165,     0.65265,     0.65365,     0.65465,     0.65566,     0.65666,     0.65766,     0.65866,     0.65966,     0.66066,     0.66166,     0.66266,     0.66366,     0.66466,     0.66567,     0.66667,     0.66767,     0.66867,     0.66967,     0.67067,     0.67167,\n",
       "           0.67267,     0.67367,     0.67467,     0.67568,     0.67668,     0.67768,     0.67868,     0.67968,     0.68068,     0.68168,     0.68268,     0.68368,     0.68468,     0.68569,     0.68669,     0.68769,     0.68869,     0.68969,     0.69069,     0.69169,     0.69269,     0.69369,     0.69469,      0.6957,\n",
       "            0.6967,      0.6977,      0.6987,      0.6997,      0.7007,      0.7017,      0.7027,      0.7037,      0.7047,     0.70571,     0.70671,     0.70771,     0.70871,     0.70971,     0.71071,     0.71171,     0.71271,     0.71371,     0.71471,     0.71572,     0.71672,     0.71772,     0.71872,     0.71972,\n",
       "           0.72072,     0.72172,     0.72272,     0.72372,     0.72472,     0.72573,     0.72673,     0.72773,     0.72873,     0.72973,     0.73073,     0.73173,     0.73273,     0.73373,     0.73473,     0.73574,     0.73674,     0.73774,     0.73874,     0.73974,     0.74074,     0.74174,     0.74274,     0.74374,\n",
       "           0.74474,     0.74575,     0.74675,     0.74775,     0.74875,     0.74975,     0.75075,     0.75175,     0.75275,     0.75375,     0.75475,     0.75576,     0.75676,     0.75776,     0.75876,     0.75976,     0.76076,     0.76176,     0.76276,     0.76376,     0.76476,     0.76577,     0.76677,     0.76777,\n",
       "           0.76877,     0.76977,     0.77077,     0.77177,     0.77277,     0.77377,     0.77477,     0.77578,     0.77678,     0.77778,     0.77878,     0.77978,     0.78078,     0.78178,     0.78278,     0.78378,     0.78478,     0.78579,     0.78679,     0.78779,     0.78879,     0.78979,     0.79079,     0.79179,\n",
       "           0.79279,     0.79379,     0.79479,      0.7958,      0.7968,      0.7978,      0.7988,      0.7998,      0.8008,      0.8018,      0.8028,      0.8038,      0.8048,     0.80581,     0.80681,     0.80781,     0.80881,     0.80981,     0.81081,     0.81181,     0.81281,     0.81381,     0.81481,     0.81582,\n",
       "           0.81682,     0.81782,     0.81882,     0.81982,     0.82082,     0.82182,     0.82282,     0.82382,     0.82482,     0.82583,     0.82683,     0.82783,     0.82883,     0.82983,     0.83083,     0.83183,     0.83283,     0.83383,     0.83483,     0.83584,     0.83684,     0.83784,     0.83884,     0.83984,\n",
       "           0.84084,     0.84184,     0.84284,     0.84384,     0.84484,     0.84585,     0.84685,     0.84785,     0.84885,     0.84985,     0.85085,     0.85185,     0.85285,     0.85385,     0.85485,     0.85586,     0.85686,     0.85786,     0.85886,     0.85986,     0.86086,     0.86186,     0.86286,     0.86386,\n",
       "           0.86486,     0.86587,     0.86687,     0.86787,     0.86887,     0.86987,     0.87087,     0.87187,     0.87287,     0.87387,     0.87487,     0.87588,     0.87688,     0.87788,     0.87888,     0.87988,     0.88088,     0.88188,     0.88288,     0.88388,     0.88488,     0.88589,     0.88689,     0.88789,\n",
       "           0.88889,     0.88989,     0.89089,     0.89189,     0.89289,     0.89389,     0.89489,      0.8959,      0.8969,      0.8979,      0.8989,      0.8999,      0.9009,      0.9019,      0.9029,      0.9039,      0.9049,     0.90591,     0.90691,     0.90791,     0.90891,     0.90991,     0.91091,     0.91191,\n",
       "           0.91291,     0.91391,     0.91491,     0.91592,     0.91692,     0.91792,     0.91892,     0.91992,     0.92092,     0.92192,     0.92292,     0.92392,     0.92492,     0.92593,     0.92693,     0.92793,     0.92893,     0.92993,     0.93093,     0.93193,     0.93293,     0.93393,     0.93493,     0.93594,\n",
       "           0.93694,     0.93794,     0.93894,     0.93994,     0.94094,     0.94194,     0.94294,     0.94394,     0.94494,     0.94595,     0.94695,     0.94795,     0.94895,     0.94995,     0.95095,     0.95195,     0.95295,     0.95395,     0.95495,     0.95596,     0.95696,     0.95796,     0.95896,     0.95996,\n",
       "           0.96096,     0.96196,     0.96296,     0.96396,     0.96496,     0.96597,     0.96697,     0.96797,     0.96897,     0.96997,     0.97097,     0.97197,     0.97297,     0.97397,     0.97497,     0.97598,     0.97698,     0.97798,     0.97898,     0.97998,     0.98098,     0.98198,     0.98298,     0.98398,\n",
       "           0.98498,     0.98599,     0.98699,     0.98799,     0.98899,     0.98999,     0.99099,     0.99199,     0.99299,     0.99399,     0.99499,       0.996,       0.997,       0.998,       0.999,           1]), array([[   0.058917,    0.059016,     0.20055,     0.26649,     0.31181,     0.35038,     0.37623,     0.40101,     0.42031,     0.43889,      0.4593,     0.47429,      0.4907,     0.51179,     0.52592,     0.53509,     0.54406,     0.55623,     0.56585,     0.57048,     0.57379,     0.58342,     0.58455,\n",
       "            0.58844,     0.59387,     0.60231,     0.60482,     0.60977,     0.61507,     0.61842,     0.62502,     0.62775,     0.63315,     0.64086,     0.65007,     0.65756,     0.66156,     0.66294,     0.66682,     0.66785,     0.67109,     0.67625,     0.67943,     0.68475,     0.68615,     0.69304,\n",
       "             0.6985,       0.704,     0.70925,     0.71032,     0.71261,     0.72077,     0.72171,     0.72265,     0.73183,     0.73343,     0.73432,     0.73451,      0.7316,     0.73182,     0.73224,     0.73266,     0.73308,     0.73349,     0.73604,     0.73682,     0.73759,     0.73893,     0.74009,\n",
       "            0.74067,     0.74124,     0.74182,     0.74319,     0.74568,      0.7473,      0.7485,     0.74978,     0.75112,     0.75267,     0.75572,     0.75657,     0.75744,     0.75874,     0.76211,     0.76283,     0.76355,     0.76438,     0.76594,     0.76783,     0.77019,     0.77195,     0.77326,\n",
       "            0.77263,     0.77175,     0.77087,     0.76998,     0.77003,     0.77052,     0.77101,      0.7715,     0.77199,     0.77546,     0.78159,     0.78402,     0.78514,     0.78624,      0.7878,     0.78904,     0.78963,     0.79022,     0.79081,      0.7915,      0.7926,      0.7937,     0.79711,\n",
       "            0.79837,     0.80393,     0.80416,     0.80439,     0.80462,     0.80484,     0.80507,      0.8053,     0.80553,     0.80575,     0.80598,     0.80621,     0.80913,      0.8097,     0.81027,     0.81084,     0.81141,     0.81177,      0.8121,     0.81242,     0.81275,     0.81308,      0.8134,\n",
       "            0.81373,     0.81405,     0.81656,     0.81721,     0.81773,     0.81824,     0.81876,     0.81927,     0.82021,     0.82123,      0.8222,     0.82299,     0.82379,     0.82459,      0.8268,     0.82768,      0.8281,     0.82852,     0.82894,     0.82936,     0.82978,     0.83031,     0.83108,\n",
       "            0.83185,     0.83262,     0.83853,     0.83913,     0.83972,     0.84032,     0.84092,     0.83873,     0.83826,     0.84075,     0.84875,     0.84952,     0.85029,     0.85106,     0.85203,     0.85311,     0.85419,     0.85581,     0.85722,     0.85768,     0.85813,     0.85859,     0.85904,\n",
       "            0.85949,     0.85995,     0.86127,      0.8629,     0.86347,     0.86395,     0.86444,     0.86493,     0.86541,     0.86589,     0.86727,     0.86884,     0.86972,     0.87054,     0.87135,     0.87224,     0.87333,     0.87442,     0.87505,     0.87517,     0.87528,      0.8754,     0.87551,\n",
       "            0.87563,     0.87574,     0.87586,     0.87597,     0.87609,      0.8762,     0.87632,     0.87643,     0.87655,     0.87666,     0.87678,     0.87689,       0.877,     0.87712,     0.87723,     0.87735,     0.87746,     0.87758,     0.87769,     0.87781,     0.87792,     0.87803,      0.8815,\n",
       "            0.88203,     0.88255,     0.88307,     0.88359,     0.88411,     0.88484,     0.88561,     0.88639,     0.88716,        0.89,     0.89037,     0.89026,     0.89015,     0.89005,     0.88994,     0.88983,     0.88973,     0.88962,     0.88951,      0.8894,      0.8893,     0.88919,     0.88908,\n",
       "            0.88898,     0.88887,     0.88876,     0.88866,     0.88855,     0.88844,     0.88833,     0.88823,     0.88812,     0.88801,     0.88791,      0.8878,     0.88769,     0.88758,     0.88748,     0.88737,     0.88726,     0.88716,     0.88705,     0.88694,     0.88683,     0.88673,     0.88662,\n",
       "            0.88642,     0.88551,     0.88461,      0.8837,     0.88279,     0.88338,     0.88447,     0.88555,     0.88526,     0.88473,     0.88419,     0.88366,     0.88313,     0.88259,     0.88206,     0.88209,     0.88307,     0.88405,     0.88472,     0.88349,     0.88225,     0.88101,     0.88003,\n",
       "            0.87909,     0.87814,     0.87719,     0.87893,     0.87909,     0.87778,     0.87647,     0.87621,     0.87672,     0.87722,     0.87773,     0.87824,     0.87874,     0.87895,     0.87829,     0.87762,     0.87696,      0.8763,     0.87563,     0.87497,     0.87441,     0.87385,     0.87329,\n",
       "            0.87273,     0.87217,     0.87161,     0.87105,     0.87103,     0.87131,      0.8716,     0.87188,     0.87216,     0.87244,     0.87273,     0.87301,     0.87329,     0.87357,     0.87385,     0.87398,     0.87353,     0.87309,     0.87264,      0.8722,     0.87176,     0.87131,     0.87087,\n",
       "            0.87042,     0.86997,     0.87003,      0.8702,     0.87038,     0.87055,     0.87073,      0.8709,     0.87108,     0.87125,     0.87143,      0.8716,     0.87177,     0.87195,     0.87212,      0.8723,     0.87247,     0.87264,     0.87282,     0.87299,     0.87285,     0.87123,      0.8696,\n",
       "            0.86933,     0.87004,     0.87075,     0.87146,     0.87217,     0.87159,     0.87099,     0.87039,     0.86979,     0.86919,     0.86858,     0.86798,      0.8682,      0.8685,      0.8688,      0.8691,      0.8694,      0.8697,        0.87,      0.8703,      0.8706,      0.8709,      0.8712,\n",
       "            0.87072,      0.8702,     0.86968,     0.86917,     0.86865,     0.86813,     0.86761,      0.8671,     0.86803,     0.86969,     0.86998,     0.86961,     0.86924,     0.86888,     0.86851,     0.86814,     0.86777,      0.8674,     0.86703,     0.86666,     0.86629,     0.86593,     0.87403,\n",
       "            0.87581,     0.87496,     0.87411,     0.87326,      0.8724,     0.87164,     0.87252,     0.87339,     0.87426,     0.87496,     0.87468,      0.8744,     0.87412,     0.87384,     0.87356,     0.87327,     0.87299,     0.87271,     0.87243,     0.87215,     0.87187,     0.87159,      0.8713,\n",
       "            0.87102,     0.87074,     0.87076,     0.87114,     0.87151,     0.87189,     0.87226,     0.87264,     0.87301,     0.87338,     0.87376,     0.87747,     0.87732,     0.87717,     0.87703,     0.87688,     0.87673,     0.87659,     0.87644,     0.87629,     0.87614,       0.876,     0.87585,\n",
       "             0.8757,     0.87556,     0.87541,     0.87526,     0.87511,     0.87497,     0.87482,     0.87467,     0.87452,     0.87438,     0.87423,     0.87408,     0.87393,     0.87379,     0.87364,     0.87349,     0.87334,     0.87319,     0.87305,     0.87263,     0.87215,     0.87167,     0.87119,\n",
       "             0.8707,     0.87022,     0.86973,     0.86925,     0.86876,     0.86839,     0.86812,     0.86785,     0.86758,     0.86731,     0.86704,     0.86677,     0.86649,     0.86622,     0.86595,     0.86568,     0.86541,     0.86514,     0.86487,     0.86459,     0.86432,     0.86405,     0.86338,\n",
       "            0.86262,     0.86186,      0.8611,     0.86034,     0.85958,     0.85962,     0.85984,     0.86006,     0.86028,      0.8605,     0.86072,     0.86094,     0.86116,     0.86138,      0.8616,     0.86182,     0.86204,     0.86226,     0.86248,      0.8627,     0.86285,     0.86205,     0.86124,\n",
       "            0.86043,     0.85962,     0.85881,     0.85837,     0.85856,     0.85874,     0.85893,     0.85911,      0.8593,     0.85949,     0.85967,     0.85986,     0.86005,     0.86023,     0.86042,      0.8606,     0.86079,     0.86097,     0.86116,     0.86134,     0.86153,     0.86172,     0.86203,\n",
       "            0.86242,     0.86281,      0.8632,     0.86359,     0.86399,     0.86438,     0.86477,     0.86516,     0.86586,     0.86677,     0.86767,     0.86857,     0.86405,     0.86378,      0.8635,     0.86323,     0.86295,     0.86268,      0.8624,     0.86213,     0.86185,     0.86157,      0.8613,\n",
       "            0.86102,     0.86075,     0.86047,     0.86019,     0.85992,     0.85964,     0.85792,     0.85481,     0.85413,     0.85349,     0.85284,     0.85219,     0.85154,     0.85089,     0.85024,     0.84963,     0.84905,     0.84846,     0.84787,     0.84728,     0.84669,     0.84611,     0.84552,\n",
       "            0.84368,     0.84078,     0.84218,     0.84029,     0.83378,     0.83296,     0.83214,     0.83131,     0.83048,     0.82966,     0.82801,     0.82427,     0.81797,     0.81686,     0.81575,     0.81463,     0.81377,     0.81349,      0.8132,     0.81292,     0.81263,     0.81235,     0.81207,\n",
       "            0.81178,      0.8115,     0.81122,     0.81093,     0.81065,     0.81036,     0.81008,     0.80979,     0.80951,     0.80922,     0.80894,     0.80878,     0.80933,     0.80988,     0.81043,     0.81098,     0.81153,     0.81207,     0.81266,     0.81326,     0.81387,     0.81447,     0.81507,\n",
       "            0.81567,      0.8156,     0.81537,     0.81514,      0.8149,     0.81467,     0.81444,      0.8142,     0.81397,     0.81373,      0.8135,     0.81327,     0.81303,      0.8128,     0.81256,     0.81233,     0.81209,     0.81186,     0.81163,     0.81139,     0.81116,     0.81092,     0.81069,\n",
       "            0.81021,     0.80949,     0.80878,     0.80807,     0.80736,     0.80664,     0.80593,     0.80519,     0.80437,     0.80354,     0.80272,     0.80189,     0.80106,     0.80023,     0.80217,     0.80281,     0.80136,      0.7999,     0.79845,     0.79748,      0.7966,     0.79572,     0.79485,\n",
       "            0.79397,     0.79309,     0.79317,     0.79374,     0.79431,     0.79488,     0.79545,     0.79602,     0.79617,     0.79559,       0.795,     0.79442,     0.79383,     0.79325,     0.79266,     0.79207,     0.79149,     0.79089,     0.78975,     0.78861,     0.78747,     0.78633,     0.78513,\n",
       "            0.78365,     0.78217,     0.78069,     0.77945,     0.77854,     0.77764,     0.77673,     0.77583,     0.77492,     0.77486,     0.77728,     0.77312,     0.76687,     0.76542,     0.76442,     0.76341,      0.7624,     0.76138,     0.76021,     0.75839,     0.75656,     0.75472,     0.75384,\n",
       "            0.75297,     0.75209,     0.75121,     0.75033,     0.74945,     0.74707,     0.73594,     0.73316,     0.73067,     0.72999,     0.72931,     0.72863,     0.72795,     0.72726,     0.72658,     0.72589,     0.72521,     0.72391,     0.71959,     0.70518,     0.70274,     0.70029,     0.69319,\n",
       "            0.69378,     0.69436,     0.69494,     0.69552,      0.6961,     0.69526,     0.69061,     0.68445,     0.68103,     0.67817,     0.67739,     0.67859,     0.67978,     0.67617,     0.66667,      0.6582,     0.65463,      0.6301,     0.62567,     0.62226,     0.61927,     0.61319,     0.59905,\n",
       "            0.59254,     0.58797,     0.58389,     0.57994,      0.5786,     0.57783,     0.57705,     0.57628,     0.57551,     0.57473,     0.57395,     0.57317,      0.5724,     0.57162,     0.55822,     0.55049,     0.53906,     0.53727,     0.53548,     0.53368,     0.53188,     0.51303,     0.48754,\n",
       "            0.48335,     0.47735,     0.45111,     0.44471,     0.43651,     0.40476,     0.40128,     0.39778,     0.39425,     0.39062,     0.38698,       0.374,     0.37192,     0.36984,     0.36776,     0.36567,     0.35897,     0.35171,     0.34676,     0.33209,     0.32811,     0.32412,     0.31655,\n",
       "            0.30891,     0.30338,     0.29941,     0.29695,     0.29448,     0.29201,     0.28953,     0.26061,     0.25383,     0.24939,     0.24494,     0.24218,     0.24046,     0.23874,     0.23702,     0.23529,     0.23356,     0.23182,     0.21897,     0.21731,     0.21565,     0.21399,     0.21233,\n",
       "            0.21067,       0.209,     0.20732,      0.1967,     0.19098,     0.18682,     0.18263,     0.17668,     0.17026,     0.16369,     0.15706,      0.1354,     0.12775,     0.12251,     0.11725,     0.11524,     0.11431,     0.11338,     0.11245,     0.11152,     0.11059,     0.10966,     0.10872,\n",
       "            0.10779,     0.10685,     0.10591,     0.10498,     0.10404,      0.1031,     0.10174,    0.089073,     0.08608,    0.083769,    0.081452,    0.079129,      0.0768,    0.074466,     0.06857,    0.061916,     0.04967,    0.044602,     0.04387,    0.043138,    0.042405,    0.041671,    0.040937,\n",
       "           0.040203,    0.039468,    0.038732,    0.037996,    0.037259,    0.036521,    0.035784,    0.035045,    0.034306,    0.033567,    0.032826,    0.032086,    0.031345,    0.030603,           0,           0,           0,           0,           0,           0,           0,           0,           0,\n",
       "                  0,           0,           0,           0,           0,           0,           0,           0,           0,           0,           0,           0,           0,           0,           0,           0,           0,           0,           0,           0,           0,           0,           0,\n",
       "                  0,           0,           0,           0,           0,           0,           0,           0,           0,           0,           0,           0,           0,           0,           0,           0,           0,           0,           0,           0,           0,           0,           0,\n",
       "                  0,           0,           0,           0,           0,           0,           0,           0,           0,           0,           0,           0,           0,           0,           0,           0,           0,           0,           0,           0,           0,           0,           0,\n",
       "                  0,           0,           0,           0,           0,           0,           0,           0,           0,           0,           0]]), 'Confidence', 'F1'], [array([          0,    0.001001,    0.002002,    0.003003,    0.004004,    0.005005,    0.006006,    0.007007,    0.008008,    0.009009,     0.01001,    0.011011,    0.012012,    0.013013,    0.014014,    0.015015,    0.016016,    0.017017,    0.018018,    0.019019,     0.02002,    0.021021,    0.022022,    0.023023,\n",
       "          0.024024,    0.025025,    0.026026,    0.027027,    0.028028,    0.029029,     0.03003,    0.031031,    0.032032,    0.033033,    0.034034,    0.035035,    0.036036,    0.037037,    0.038038,    0.039039,     0.04004,    0.041041,    0.042042,    0.043043,    0.044044,    0.045045,    0.046046,    0.047047,\n",
       "          0.048048,    0.049049,     0.05005,    0.051051,    0.052052,    0.053053,    0.054054,    0.055055,    0.056056,    0.057057,    0.058058,    0.059059,     0.06006,    0.061061,    0.062062,    0.063063,    0.064064,    0.065065,    0.066066,    0.067067,    0.068068,    0.069069,     0.07007,    0.071071,\n",
       "          0.072072,    0.073073,    0.074074,    0.075075,    0.076076,    0.077077,    0.078078,    0.079079,     0.08008,    0.081081,    0.082082,    0.083083,    0.084084,    0.085085,    0.086086,    0.087087,    0.088088,    0.089089,     0.09009,    0.091091,    0.092092,    0.093093,    0.094094,    0.095095,\n",
       "          0.096096,    0.097097,    0.098098,    0.099099,      0.1001,      0.1011,      0.1021,      0.1031,      0.1041,     0.10511,     0.10611,     0.10711,     0.10811,     0.10911,     0.11011,     0.11111,     0.11211,     0.11311,     0.11411,     0.11512,     0.11612,     0.11712,     0.11812,     0.11912,\n",
       "           0.12012,     0.12112,     0.12212,     0.12312,     0.12412,     0.12513,     0.12613,     0.12713,     0.12813,     0.12913,     0.13013,     0.13113,     0.13213,     0.13313,     0.13413,     0.13514,     0.13614,     0.13714,     0.13814,     0.13914,     0.14014,     0.14114,     0.14214,     0.14314,\n",
       "           0.14414,     0.14515,     0.14615,     0.14715,     0.14815,     0.14915,     0.15015,     0.15115,     0.15215,     0.15315,     0.15415,     0.15516,     0.15616,     0.15716,     0.15816,     0.15916,     0.16016,     0.16116,     0.16216,     0.16316,     0.16416,     0.16517,     0.16617,     0.16717,\n",
       "           0.16817,     0.16917,     0.17017,     0.17117,     0.17217,     0.17317,     0.17417,     0.17518,     0.17618,     0.17718,     0.17818,     0.17918,     0.18018,     0.18118,     0.18218,     0.18318,     0.18418,     0.18519,     0.18619,     0.18719,     0.18819,     0.18919,     0.19019,     0.19119,\n",
       "           0.19219,     0.19319,     0.19419,      0.1952,      0.1962,      0.1972,      0.1982,      0.1992,      0.2002,      0.2012,      0.2022,      0.2032,      0.2042,     0.20521,     0.20621,     0.20721,     0.20821,     0.20921,     0.21021,     0.21121,     0.21221,     0.21321,     0.21421,     0.21522,\n",
       "           0.21622,     0.21722,     0.21822,     0.21922,     0.22022,     0.22122,     0.22222,     0.22322,     0.22422,     0.22523,     0.22623,     0.22723,     0.22823,     0.22923,     0.23023,     0.23123,     0.23223,     0.23323,     0.23423,     0.23524,     0.23624,     0.23724,     0.23824,     0.23924,\n",
       "           0.24024,     0.24124,     0.24224,     0.24324,     0.24424,     0.24525,     0.24625,     0.24725,     0.24825,     0.24925,     0.25025,     0.25125,     0.25225,     0.25325,     0.25425,     0.25526,     0.25626,     0.25726,     0.25826,     0.25926,     0.26026,     0.26126,     0.26226,     0.26326,\n",
       "           0.26426,     0.26527,     0.26627,     0.26727,     0.26827,     0.26927,     0.27027,     0.27127,     0.27227,     0.27327,     0.27427,     0.27528,     0.27628,     0.27728,     0.27828,     0.27928,     0.28028,     0.28128,     0.28228,     0.28328,     0.28428,     0.28529,     0.28629,     0.28729,\n",
       "           0.28829,     0.28929,     0.29029,     0.29129,     0.29229,     0.29329,     0.29429,      0.2953,      0.2963,      0.2973,      0.2983,      0.2993,      0.3003,      0.3013,      0.3023,      0.3033,      0.3043,     0.30531,     0.30631,     0.30731,     0.30831,     0.30931,     0.31031,     0.31131,\n",
       "           0.31231,     0.31331,     0.31431,     0.31532,     0.31632,     0.31732,     0.31832,     0.31932,     0.32032,     0.32132,     0.32232,     0.32332,     0.32432,     0.32533,     0.32633,     0.32733,     0.32833,     0.32933,     0.33033,     0.33133,     0.33233,     0.33333,     0.33433,     0.33534,\n",
       "           0.33634,     0.33734,     0.33834,     0.33934,     0.34034,     0.34134,     0.34234,     0.34334,     0.34434,     0.34535,     0.34635,     0.34735,     0.34835,     0.34935,     0.35035,     0.35135,     0.35235,     0.35335,     0.35435,     0.35536,     0.35636,     0.35736,     0.35836,     0.35936,\n",
       "           0.36036,     0.36136,     0.36236,     0.36336,     0.36436,     0.36537,     0.36637,     0.36737,     0.36837,     0.36937,     0.37037,     0.37137,     0.37237,     0.37337,     0.37437,     0.37538,     0.37638,     0.37738,     0.37838,     0.37938,     0.38038,     0.38138,     0.38238,     0.38338,\n",
       "           0.38438,     0.38539,     0.38639,     0.38739,     0.38839,     0.38939,     0.39039,     0.39139,     0.39239,     0.39339,     0.39439,      0.3954,      0.3964,      0.3974,      0.3984,      0.3994,      0.4004,      0.4014,      0.4024,      0.4034,      0.4044,     0.40541,     0.40641,     0.40741,\n",
       "           0.40841,     0.40941,     0.41041,     0.41141,     0.41241,     0.41341,     0.41441,     0.41542,     0.41642,     0.41742,     0.41842,     0.41942,     0.42042,     0.42142,     0.42242,     0.42342,     0.42442,     0.42543,     0.42643,     0.42743,     0.42843,     0.42943,     0.43043,     0.43143,\n",
       "           0.43243,     0.43343,     0.43443,     0.43544,     0.43644,     0.43744,     0.43844,     0.43944,     0.44044,     0.44144,     0.44244,     0.44344,     0.44444,     0.44545,     0.44645,     0.44745,     0.44845,     0.44945,     0.45045,     0.45145,     0.45245,     0.45345,     0.45445,     0.45546,\n",
       "           0.45646,     0.45746,     0.45846,     0.45946,     0.46046,     0.46146,     0.46246,     0.46346,     0.46446,     0.46547,     0.46647,     0.46747,     0.46847,     0.46947,     0.47047,     0.47147,     0.47247,     0.47347,     0.47447,     0.47548,     0.47648,     0.47748,     0.47848,     0.47948,\n",
       "           0.48048,     0.48148,     0.48248,     0.48348,     0.48448,     0.48549,     0.48649,     0.48749,     0.48849,     0.48949,     0.49049,     0.49149,     0.49249,     0.49349,     0.49449,      0.4955,      0.4965,      0.4975,      0.4985,      0.4995,      0.5005,      0.5015,      0.5025,      0.5035,\n",
       "            0.5045,     0.50551,     0.50651,     0.50751,     0.50851,     0.50951,     0.51051,     0.51151,     0.51251,     0.51351,     0.51451,     0.51552,     0.51652,     0.51752,     0.51852,     0.51952,     0.52052,     0.52152,     0.52252,     0.52352,     0.52452,     0.52553,     0.52653,     0.52753,\n",
       "           0.52853,     0.52953,     0.53053,     0.53153,     0.53253,     0.53353,     0.53453,     0.53554,     0.53654,     0.53754,     0.53854,     0.53954,     0.54054,     0.54154,     0.54254,     0.54354,     0.54454,     0.54555,     0.54655,     0.54755,     0.54855,     0.54955,     0.55055,     0.55155,\n",
       "           0.55255,     0.55355,     0.55455,     0.55556,     0.55656,     0.55756,     0.55856,     0.55956,     0.56056,     0.56156,     0.56256,     0.56356,     0.56456,     0.56557,     0.56657,     0.56757,     0.56857,     0.56957,     0.57057,     0.57157,     0.57257,     0.57357,     0.57457,     0.57558,\n",
       "           0.57658,     0.57758,     0.57858,     0.57958,     0.58058,     0.58158,     0.58258,     0.58358,     0.58458,     0.58559,     0.58659,     0.58759,     0.58859,     0.58959,     0.59059,     0.59159,     0.59259,     0.59359,     0.59459,      0.5956,      0.5966,      0.5976,      0.5986,      0.5996,\n",
       "            0.6006,      0.6016,      0.6026,      0.6036,      0.6046,     0.60561,     0.60661,     0.60761,     0.60861,     0.60961,     0.61061,     0.61161,     0.61261,     0.61361,     0.61461,     0.61562,     0.61662,     0.61762,     0.61862,     0.61962,     0.62062,     0.62162,     0.62262,     0.62362,\n",
       "           0.62462,     0.62563,     0.62663,     0.62763,     0.62863,     0.62963,     0.63063,     0.63163,     0.63263,     0.63363,     0.63463,     0.63564,     0.63664,     0.63764,     0.63864,     0.63964,     0.64064,     0.64164,     0.64264,     0.64364,     0.64464,     0.64565,     0.64665,     0.64765,\n",
       "           0.64865,     0.64965,     0.65065,     0.65165,     0.65265,     0.65365,     0.65465,     0.65566,     0.65666,     0.65766,     0.65866,     0.65966,     0.66066,     0.66166,     0.66266,     0.66366,     0.66466,     0.66567,     0.66667,     0.66767,     0.66867,     0.66967,     0.67067,     0.67167,\n",
       "           0.67267,     0.67367,     0.67467,     0.67568,     0.67668,     0.67768,     0.67868,     0.67968,     0.68068,     0.68168,     0.68268,     0.68368,     0.68468,     0.68569,     0.68669,     0.68769,     0.68869,     0.68969,     0.69069,     0.69169,     0.69269,     0.69369,     0.69469,      0.6957,\n",
       "            0.6967,      0.6977,      0.6987,      0.6997,      0.7007,      0.7017,      0.7027,      0.7037,      0.7047,     0.70571,     0.70671,     0.70771,     0.70871,     0.70971,     0.71071,     0.71171,     0.71271,     0.71371,     0.71471,     0.71572,     0.71672,     0.71772,     0.71872,     0.71972,\n",
       "           0.72072,     0.72172,     0.72272,     0.72372,     0.72472,     0.72573,     0.72673,     0.72773,     0.72873,     0.72973,     0.73073,     0.73173,     0.73273,     0.73373,     0.73473,     0.73574,     0.73674,     0.73774,     0.73874,     0.73974,     0.74074,     0.74174,     0.74274,     0.74374,\n",
       "           0.74474,     0.74575,     0.74675,     0.74775,     0.74875,     0.74975,     0.75075,     0.75175,     0.75275,     0.75375,     0.75475,     0.75576,     0.75676,     0.75776,     0.75876,     0.75976,     0.76076,     0.76176,     0.76276,     0.76376,     0.76476,     0.76577,     0.76677,     0.76777,\n",
       "           0.76877,     0.76977,     0.77077,     0.77177,     0.77277,     0.77377,     0.77477,     0.77578,     0.77678,     0.77778,     0.77878,     0.77978,     0.78078,     0.78178,     0.78278,     0.78378,     0.78478,     0.78579,     0.78679,     0.78779,     0.78879,     0.78979,     0.79079,     0.79179,\n",
       "           0.79279,     0.79379,     0.79479,      0.7958,      0.7968,      0.7978,      0.7988,      0.7998,      0.8008,      0.8018,      0.8028,      0.8038,      0.8048,     0.80581,     0.80681,     0.80781,     0.80881,     0.80981,     0.81081,     0.81181,     0.81281,     0.81381,     0.81481,     0.81582,\n",
       "           0.81682,     0.81782,     0.81882,     0.81982,     0.82082,     0.82182,     0.82282,     0.82382,     0.82482,     0.82583,     0.82683,     0.82783,     0.82883,     0.82983,     0.83083,     0.83183,     0.83283,     0.83383,     0.83483,     0.83584,     0.83684,     0.83784,     0.83884,     0.83984,\n",
       "           0.84084,     0.84184,     0.84284,     0.84384,     0.84484,     0.84585,     0.84685,     0.84785,     0.84885,     0.84985,     0.85085,     0.85185,     0.85285,     0.85385,     0.85485,     0.85586,     0.85686,     0.85786,     0.85886,     0.85986,     0.86086,     0.86186,     0.86286,     0.86386,\n",
       "           0.86486,     0.86587,     0.86687,     0.86787,     0.86887,     0.86987,     0.87087,     0.87187,     0.87287,     0.87387,     0.87487,     0.87588,     0.87688,     0.87788,     0.87888,     0.87988,     0.88088,     0.88188,     0.88288,     0.88388,     0.88488,     0.88589,     0.88689,     0.88789,\n",
       "           0.88889,     0.88989,     0.89089,     0.89189,     0.89289,     0.89389,     0.89489,      0.8959,      0.8969,      0.8979,      0.8989,      0.8999,      0.9009,      0.9019,      0.9029,      0.9039,      0.9049,     0.90591,     0.90691,     0.90791,     0.90891,     0.90991,     0.91091,     0.91191,\n",
       "           0.91291,     0.91391,     0.91491,     0.91592,     0.91692,     0.91792,     0.91892,     0.91992,     0.92092,     0.92192,     0.92292,     0.92392,     0.92492,     0.92593,     0.92693,     0.92793,     0.92893,     0.92993,     0.93093,     0.93193,     0.93293,     0.93393,     0.93493,     0.93594,\n",
       "           0.93694,     0.93794,     0.93894,     0.93994,     0.94094,     0.94194,     0.94294,     0.94394,     0.94494,     0.94595,     0.94695,     0.94795,     0.94895,     0.94995,     0.95095,     0.95195,     0.95295,     0.95395,     0.95495,     0.95596,     0.95696,     0.95796,     0.95896,     0.95996,\n",
       "           0.96096,     0.96196,     0.96296,     0.96396,     0.96496,     0.96597,     0.96697,     0.96797,     0.96897,     0.96997,     0.97097,     0.97197,     0.97297,     0.97397,     0.97497,     0.97598,     0.97698,     0.97798,     0.97898,     0.97998,     0.98098,     0.98198,     0.98298,     0.98398,\n",
       "           0.98498,     0.98599,     0.98699,     0.98799,     0.98899,     0.98999,     0.99099,     0.99199,     0.99299,     0.99399,     0.99499,       0.996,       0.997,       0.998,       0.999,           1]), array([[   0.030353,    0.030405,     0.11145,     0.15373,      0.1847,      0.2124,      0.2317,     0.25079,     0.26607,     0.28114,     0.29811,     0.31087,     0.32512,      0.3439,     0.35678,     0.36527,     0.37368,     0.38527,     0.39455,     0.39907,     0.40358,     0.41317,     0.41431,\n",
       "            0.41823,     0.42373,     0.43238,     0.43497,     0.44011,     0.44565,     0.44918,     0.45618,     0.45909,     0.46489,     0.47325,     0.48336,     0.49169,     0.49618,     0.49774,     0.50212,     0.50329,     0.50697,     0.51289,     0.51655,     0.52273,     0.52436,     0.53246,\n",
       "            0.53893,     0.54551,     0.55183,     0.55313,     0.55592,     0.56591,     0.56707,     0.56823,     0.57967,     0.58168,      0.5828,     0.58343,     0.58191,     0.58232,     0.58285,     0.58338,     0.58391,     0.58444,     0.58768,     0.58867,     0.58966,     0.59137,     0.59286,\n",
       "             0.5936,     0.59434,     0.59508,     0.59685,     0.60006,     0.60217,     0.60372,     0.60539,     0.60715,     0.60917,     0.61318,      0.6143,     0.61544,     0.61715,     0.62163,     0.62259,     0.62355,     0.62467,     0.62674,     0.62928,     0.63246,     0.63483,     0.63661,\n",
       "            0.63643,       0.636,     0.63557,     0.63514,     0.63545,     0.63612,     0.63679,     0.63745,     0.63812,     0.64288,     0.65135,     0.65474,     0.65629,     0.65784,     0.66002,     0.66176,     0.66259,     0.66342,     0.66426,     0.66523,     0.66679,     0.66834,     0.67321,\n",
       "              0.675,     0.68299,     0.68332,     0.68365,     0.68398,     0.68431,     0.68464,     0.68496,     0.68529,     0.68562,     0.68595,     0.68628,     0.69053,     0.69136,     0.69219,     0.69302,     0.69385,     0.69439,     0.69486,     0.69534,     0.69582,     0.69629,     0.69677,\n",
       "            0.69725,     0.69772,     0.70142,     0.70238,     0.70314,     0.70391,     0.70467,     0.70543,     0.70683,     0.70834,     0.70978,     0.71097,     0.71216,     0.71335,     0.71668,       0.718,     0.71863,     0.71926,     0.71989,     0.72052,     0.72116,     0.72195,     0.72313,\n",
       "             0.7243,     0.72547,     0.73448,      0.7354,     0.73632,     0.73723,     0.73815,     0.73745,     0.73848,     0.74234,     0.75491,     0.75613,     0.75735,     0.75858,     0.76011,     0.76184,     0.76357,     0.76615,     0.76842,     0.76916,     0.76989,     0.77062,     0.77135,\n",
       "            0.77208,     0.77281,     0.77494,      0.7776,     0.77851,     0.77931,      0.7801,     0.78089,     0.78168,     0.78247,     0.78472,     0.78729,     0.78874,     0.79008,     0.79143,     0.79289,      0.7947,     0.79651,     0.79756,     0.79775,     0.79794,     0.79813,     0.79832,\n",
       "            0.79851,      0.7987,      0.7989,     0.79909,     0.79928,     0.79947,     0.79966,     0.79985,     0.80004,     0.80023,     0.80042,     0.80061,     0.80081,       0.801,     0.80119,     0.80138,     0.80157,     0.80176,     0.80195,     0.80214,     0.80233,     0.80252,     0.80834,\n",
       "            0.80922,      0.8101,     0.81098,     0.81186,     0.81274,     0.81397,     0.81528,     0.81659,      0.8179,     0.82275,      0.8235,     0.82347,     0.82344,     0.82341,     0.82338,     0.82334,     0.82331,     0.82328,     0.82325,     0.82322,     0.82319,     0.82315,     0.82312,\n",
       "            0.82309,     0.82306,     0.82303,       0.823,     0.82297,     0.82293,      0.8229,     0.82287,     0.82284,     0.82281,     0.82278,     0.82274,     0.82271,     0.82268,     0.82265,     0.82262,     0.82259,     0.82255,     0.82252,     0.82249,     0.82246,     0.82243,      0.8224,\n",
       "            0.82234,     0.82207,      0.8218,     0.82153,     0.82126,     0.82261,     0.82449,     0.82638,     0.82653,     0.82638,     0.82622,     0.82607,     0.82591,     0.82576,      0.8256,     0.82615,     0.82787,     0.82959,     0.83103,     0.83068,     0.83033,     0.82997,     0.82969,\n",
       "            0.82942,     0.82915,     0.82888,     0.83256,     0.83423,     0.83386,     0.83349,     0.83387,     0.83479,     0.83571,     0.83663,     0.83755,     0.83848,     0.83911,     0.83893,     0.83875,     0.83857,     0.83838,      0.8382,     0.83802,     0.83787,     0.83771,     0.83756,\n",
       "             0.8374,     0.83725,     0.83709,     0.83694,     0.83721,     0.83774,     0.83826,     0.83878,     0.83931,     0.83983,     0.84035,     0.84088,      0.8414,     0.84193,     0.84245,     0.84283,     0.84271,     0.84259,     0.84247,     0.84235,     0.84223,     0.84211,     0.84199,\n",
       "            0.84187,     0.84175,     0.84199,     0.84232,     0.84265,     0.84297,      0.8433,     0.84363,     0.84395,     0.84428,     0.84461,     0.84494,     0.84526,     0.84559,     0.84592,     0.84625,     0.84657,      0.8469,     0.84723,     0.84756,     0.84775,     0.84732,     0.84689,\n",
       "             0.8475,     0.84885,     0.85021,     0.85156,     0.85291,     0.85279,     0.85264,     0.85248,     0.85233,     0.85217,     0.85202,     0.85187,     0.85238,     0.85296,     0.85354,     0.85412,      0.8547,     0.85528,     0.85586,     0.85644,     0.85702,      0.8576,     0.85819,\n",
       "            0.85809,     0.85796,     0.85783,      0.8577,     0.85757,     0.85744,     0.85731,     0.85719,     0.85931,     0.86258,     0.86358,     0.86349,      0.8634,     0.86331,     0.86322,     0.86313,     0.86304,     0.86296,     0.86287,     0.86278,     0.86269,      0.8626,     0.87889,\n",
       "            0.88278,      0.8826,     0.88242,     0.88224,     0.88206,     0.88199,     0.88378,     0.88557,     0.88736,     0.88888,     0.88882,     0.88877,     0.88871,     0.88865,      0.8886,     0.88854,     0.88848,     0.88843,     0.88837,     0.88831,     0.88826,      0.8882,     0.88814,\n",
       "            0.88809,     0.88803,     0.88836,     0.88915,     0.88993,     0.89071,     0.89149,     0.89227,     0.89305,     0.89383,     0.89462,     0.90244,     0.90241,     0.90239,     0.90236,     0.90233,     0.90231,     0.90228,     0.90225,     0.90223,      0.9022,     0.90217,     0.90215,\n",
       "            0.90212,     0.90209,     0.90207,     0.90204,     0.90202,     0.90199,     0.90196,     0.90194,     0.90191,     0.90188,     0.90186,     0.90183,      0.9018,     0.90178,     0.90175,     0.90172,      0.9017,     0.90167,     0.90164,     0.90157,     0.90148,     0.90139,     0.90131,\n",
       "            0.90122,     0.90113,     0.90104,     0.90096,     0.90087,      0.9008,     0.90075,      0.9007,     0.90065,      0.9006,     0.90055,      0.9005,     0.90045,     0.90041,     0.90036,     0.90031,     0.90026,     0.90021,     0.90016,     0.90011,     0.90006,     0.90001,     0.89989,\n",
       "            0.89975,     0.89961,     0.89947,     0.89933,     0.89919,     0.89955,     0.90004,     0.90052,     0.90101,     0.90149,     0.90197,     0.90246,     0.90294,     0.90342,     0.90391,     0.90439,     0.90488,     0.90536,     0.90584,     0.90633,     0.90677,     0.90663,     0.90649,\n",
       "            0.90635,     0.90621,     0.90607,     0.90614,     0.90655,     0.90697,     0.90739,      0.9078,     0.90822,     0.90863,     0.90905,     0.90947,     0.90988,      0.9103,     0.91071,     0.91113,     0.91155,     0.91196,     0.91238,      0.9128,     0.91321,     0.91363,     0.91433,\n",
       "            0.91521,      0.9161,     0.91698,     0.91786,     0.91875,     0.91963,     0.92052,      0.9214,     0.92301,     0.92506,     0.92712,     0.92918,     0.92918,     0.92915,     0.92911,     0.92907,     0.92904,       0.929,     0.92896,     0.92892,     0.92889,     0.92885,     0.92881,\n",
       "            0.92878,     0.92874,      0.9287,     0.92866,     0.92863,     0.92859,     0.92836,     0.92793,     0.92784,     0.92775,     0.92766,     0.92757,     0.92748,     0.92739,     0.92731,     0.92722,     0.92714,     0.92706,     0.92698,      0.9269,     0.92681,     0.92673,     0.92665,\n",
       "            0.92639,     0.92701,     0.93436,     0.93413,      0.9333,     0.93319,     0.93309,     0.93298,     0.93287,     0.93277,     0.93256,     0.93207,     0.93124,     0.93109,     0.93094,      0.9308,     0.93068,     0.93064,     0.93061,     0.93057,     0.93053,     0.93049,     0.93045,\n",
       "            0.93041,     0.93038,     0.93034,      0.9303,     0.93026,     0.93022,     0.93019,     0.93015,     0.93011,     0.93007,     0.93003,     0.93022,     0.93168,     0.93314,      0.9346,     0.93606,     0.93752,     0.93898,     0.94055,     0.94217,      0.9438,     0.94542,     0.94704,\n",
       "            0.94866,     0.94896,     0.94894,     0.94891,     0.94889,     0.94887,     0.94884,     0.94882,      0.9488,     0.94877,     0.94875,     0.94872,      0.9487,     0.94868,     0.94865,     0.94863,     0.94861,     0.94858,     0.94856,     0.94854,     0.94851,     0.94849,     0.94847,\n",
       "            0.94842,     0.94834,     0.94827,      0.9482,     0.94812,     0.94805,     0.94798,      0.9479,     0.94782,     0.94773,     0.94765,     0.94756,     0.94748,     0.94739,     0.95347,     0.95738,     0.95726,     0.95713,     0.95701,     0.95693,     0.95685,     0.95677,      0.9567,\n",
       "            0.95662,     0.95655,     0.95763,      0.9593,     0.96096,     0.96263,      0.9643,     0.96596,     0.96702,     0.96698,     0.96694,      0.9669,     0.96686,     0.96682,     0.96678,     0.96674,     0.96671,     0.96667,     0.96659,     0.96651,     0.96643,     0.96636,     0.96627,\n",
       "            0.96617,     0.96607,     0.96597,     0.96588,     0.96582,     0.96576,     0.96569,     0.96563,     0.96557,     0.96761,     0.97672,     0.97652,     0.97622,     0.97614,     0.97609,     0.97604,     0.97599,     0.97594,     0.97589,     0.97579,      0.9757,     0.97561,     0.97557,\n",
       "            0.97552,     0.97548,     0.97543,     0.97539,     0.97534,     0.97522,     0.97463,     0.97449,     0.97435,     0.97432,     0.97428,     0.97424,     0.97421,     0.97417,     0.97413,     0.97409,     0.97406,     0.97399,     0.97375,     0.97293,     0.97279,     0.97265,      0.9727,\n",
       "            0.97501,     0.97731,     0.97962,     0.98193,     0.98424,     0.98588,     0.98573,     0.98554,     0.98543,     0.98534,     0.98792,     0.99305,     0.99817,           1,           1,           1,           1,           1,           1,           1,           1,           1,           1,\n",
       "                  1,           1,           1,           1,           1,           1,           1,           1,           1,           1,           1,           1,           1,           1,           1,           1,           1,           1,           1,           1,           1,           1,           1,\n",
       "                  1,           1,           1,           1,           1,           1,           1,           1,           1,           1,           1,           1,           1,           1,           1,           1,           1,           1,           1,           1,           1,           1,           1,\n",
       "                  1,           1,           1,           1,           1,           1,           1,           1,           1,           1,           1,           1,           1,           1,           1,           1,           1,           1,           1,           1,           1,           1,           1,\n",
       "                  1,           1,           1,           1,           1,           1,           1,           1,           1,           1,           1,           1,           1,           1,           1,           1,           1,           1,           1,           1,           1,           1,           1,\n",
       "                  1,           1,           1,           1,           1,           1,           1,           1,           1,           1,           1,           1,           1,           1,           1,           1,           1,           1,           1,           1,           1,           1,           1,\n",
       "                  1,           1,           1,           1,           1,           1,           1,           1,           1,           1,           1,           1,           1,           1,           1,           1,           1,           1,           1,           1,           1,           1,           1,\n",
       "                  1,           1,           1,           1,           1,           1,           1,           1,           1,           1,           1,           1,           1,           1,           1,           1,           1,           1,           1,           1,           1,           1,           1,\n",
       "                  1,           1,           1,           1,           1,           1,           1,           1,           1,           1,           1,           1,           1,           1,           1,           1,           1,           1,           1,           1,           1,           1,           1,\n",
       "                  1,           1,           1,           1,           1,           1,           1,           1,           1,           1,           1,           1,           1,           1,           1,           1,           1,           1,           1,           1,           1,           1,           1,\n",
       "                  1,           1,           1,           1,           1,           1,           1,           1,           1,           1,           1]]), 'Confidence', 'Precision'], [array([          0,    0.001001,    0.002002,    0.003003,    0.004004,    0.005005,    0.006006,    0.007007,    0.008008,    0.009009,     0.01001,    0.011011,    0.012012,    0.013013,    0.014014,    0.015015,    0.016016,    0.017017,    0.018018,    0.019019,     0.02002,    0.021021,    0.022022,    0.023023,\n",
       "          0.024024,    0.025025,    0.026026,    0.027027,    0.028028,    0.029029,     0.03003,    0.031031,    0.032032,    0.033033,    0.034034,    0.035035,    0.036036,    0.037037,    0.038038,    0.039039,     0.04004,    0.041041,    0.042042,    0.043043,    0.044044,    0.045045,    0.046046,    0.047047,\n",
       "          0.048048,    0.049049,     0.05005,    0.051051,    0.052052,    0.053053,    0.054054,    0.055055,    0.056056,    0.057057,    0.058058,    0.059059,     0.06006,    0.061061,    0.062062,    0.063063,    0.064064,    0.065065,    0.066066,    0.067067,    0.068068,    0.069069,     0.07007,    0.071071,\n",
       "          0.072072,    0.073073,    0.074074,    0.075075,    0.076076,    0.077077,    0.078078,    0.079079,     0.08008,    0.081081,    0.082082,    0.083083,    0.084084,    0.085085,    0.086086,    0.087087,    0.088088,    0.089089,     0.09009,    0.091091,    0.092092,    0.093093,    0.094094,    0.095095,\n",
       "          0.096096,    0.097097,    0.098098,    0.099099,      0.1001,      0.1011,      0.1021,      0.1031,      0.1041,     0.10511,     0.10611,     0.10711,     0.10811,     0.10911,     0.11011,     0.11111,     0.11211,     0.11311,     0.11411,     0.11512,     0.11612,     0.11712,     0.11812,     0.11912,\n",
       "           0.12012,     0.12112,     0.12212,     0.12312,     0.12412,     0.12513,     0.12613,     0.12713,     0.12813,     0.12913,     0.13013,     0.13113,     0.13213,     0.13313,     0.13413,     0.13514,     0.13614,     0.13714,     0.13814,     0.13914,     0.14014,     0.14114,     0.14214,     0.14314,\n",
       "           0.14414,     0.14515,     0.14615,     0.14715,     0.14815,     0.14915,     0.15015,     0.15115,     0.15215,     0.15315,     0.15415,     0.15516,     0.15616,     0.15716,     0.15816,     0.15916,     0.16016,     0.16116,     0.16216,     0.16316,     0.16416,     0.16517,     0.16617,     0.16717,\n",
       "           0.16817,     0.16917,     0.17017,     0.17117,     0.17217,     0.17317,     0.17417,     0.17518,     0.17618,     0.17718,     0.17818,     0.17918,     0.18018,     0.18118,     0.18218,     0.18318,     0.18418,     0.18519,     0.18619,     0.18719,     0.18819,     0.18919,     0.19019,     0.19119,\n",
       "           0.19219,     0.19319,     0.19419,      0.1952,      0.1962,      0.1972,      0.1982,      0.1992,      0.2002,      0.2012,      0.2022,      0.2032,      0.2042,     0.20521,     0.20621,     0.20721,     0.20821,     0.20921,     0.21021,     0.21121,     0.21221,     0.21321,     0.21421,     0.21522,\n",
       "           0.21622,     0.21722,     0.21822,     0.21922,     0.22022,     0.22122,     0.22222,     0.22322,     0.22422,     0.22523,     0.22623,     0.22723,     0.22823,     0.22923,     0.23023,     0.23123,     0.23223,     0.23323,     0.23423,     0.23524,     0.23624,     0.23724,     0.23824,     0.23924,\n",
       "           0.24024,     0.24124,     0.24224,     0.24324,     0.24424,     0.24525,     0.24625,     0.24725,     0.24825,     0.24925,     0.25025,     0.25125,     0.25225,     0.25325,     0.25425,     0.25526,     0.25626,     0.25726,     0.25826,     0.25926,     0.26026,     0.26126,     0.26226,     0.26326,\n",
       "           0.26426,     0.26527,     0.26627,     0.26727,     0.26827,     0.26927,     0.27027,     0.27127,     0.27227,     0.27327,     0.27427,     0.27528,     0.27628,     0.27728,     0.27828,     0.27928,     0.28028,     0.28128,     0.28228,     0.28328,     0.28428,     0.28529,     0.28629,     0.28729,\n",
       "           0.28829,     0.28929,     0.29029,     0.29129,     0.29229,     0.29329,     0.29429,      0.2953,      0.2963,      0.2973,      0.2983,      0.2993,      0.3003,      0.3013,      0.3023,      0.3033,      0.3043,     0.30531,     0.30631,     0.30731,     0.30831,     0.30931,     0.31031,     0.31131,\n",
       "           0.31231,     0.31331,     0.31431,     0.31532,     0.31632,     0.31732,     0.31832,     0.31932,     0.32032,     0.32132,     0.32232,     0.32332,     0.32432,     0.32533,     0.32633,     0.32733,     0.32833,     0.32933,     0.33033,     0.33133,     0.33233,     0.33333,     0.33433,     0.33534,\n",
       "           0.33634,     0.33734,     0.33834,     0.33934,     0.34034,     0.34134,     0.34234,     0.34334,     0.34434,     0.34535,     0.34635,     0.34735,     0.34835,     0.34935,     0.35035,     0.35135,     0.35235,     0.35335,     0.35435,     0.35536,     0.35636,     0.35736,     0.35836,     0.35936,\n",
       "           0.36036,     0.36136,     0.36236,     0.36336,     0.36436,     0.36537,     0.36637,     0.36737,     0.36837,     0.36937,     0.37037,     0.37137,     0.37237,     0.37337,     0.37437,     0.37538,     0.37638,     0.37738,     0.37838,     0.37938,     0.38038,     0.38138,     0.38238,     0.38338,\n",
       "           0.38438,     0.38539,     0.38639,     0.38739,     0.38839,     0.38939,     0.39039,     0.39139,     0.39239,     0.39339,     0.39439,      0.3954,      0.3964,      0.3974,      0.3984,      0.3994,      0.4004,      0.4014,      0.4024,      0.4034,      0.4044,     0.40541,     0.40641,     0.40741,\n",
       "           0.40841,     0.40941,     0.41041,     0.41141,     0.41241,     0.41341,     0.41441,     0.41542,     0.41642,     0.41742,     0.41842,     0.41942,     0.42042,     0.42142,     0.42242,     0.42342,     0.42442,     0.42543,     0.42643,     0.42743,     0.42843,     0.42943,     0.43043,     0.43143,\n",
       "           0.43243,     0.43343,     0.43443,     0.43544,     0.43644,     0.43744,     0.43844,     0.43944,     0.44044,     0.44144,     0.44244,     0.44344,     0.44444,     0.44545,     0.44645,     0.44745,     0.44845,     0.44945,     0.45045,     0.45145,     0.45245,     0.45345,     0.45445,     0.45546,\n",
       "           0.45646,     0.45746,     0.45846,     0.45946,     0.46046,     0.46146,     0.46246,     0.46346,     0.46446,     0.46547,     0.46647,     0.46747,     0.46847,     0.46947,     0.47047,     0.47147,     0.47247,     0.47347,     0.47447,     0.47548,     0.47648,     0.47748,     0.47848,     0.47948,\n",
       "           0.48048,     0.48148,     0.48248,     0.48348,     0.48448,     0.48549,     0.48649,     0.48749,     0.48849,     0.48949,     0.49049,     0.49149,     0.49249,     0.49349,     0.49449,      0.4955,      0.4965,      0.4975,      0.4985,      0.4995,      0.5005,      0.5015,      0.5025,      0.5035,\n",
       "            0.5045,     0.50551,     0.50651,     0.50751,     0.50851,     0.50951,     0.51051,     0.51151,     0.51251,     0.51351,     0.51451,     0.51552,     0.51652,     0.51752,     0.51852,     0.51952,     0.52052,     0.52152,     0.52252,     0.52352,     0.52452,     0.52553,     0.52653,     0.52753,\n",
       "           0.52853,     0.52953,     0.53053,     0.53153,     0.53253,     0.53353,     0.53453,     0.53554,     0.53654,     0.53754,     0.53854,     0.53954,     0.54054,     0.54154,     0.54254,     0.54354,     0.54454,     0.54555,     0.54655,     0.54755,     0.54855,     0.54955,     0.55055,     0.55155,\n",
       "           0.55255,     0.55355,     0.55455,     0.55556,     0.55656,     0.55756,     0.55856,     0.55956,     0.56056,     0.56156,     0.56256,     0.56356,     0.56456,     0.56557,     0.56657,     0.56757,     0.56857,     0.56957,     0.57057,     0.57157,     0.57257,     0.57357,     0.57457,     0.57558,\n",
       "           0.57658,     0.57758,     0.57858,     0.57958,     0.58058,     0.58158,     0.58258,     0.58358,     0.58458,     0.58559,     0.58659,     0.58759,     0.58859,     0.58959,     0.59059,     0.59159,     0.59259,     0.59359,     0.59459,      0.5956,      0.5966,      0.5976,      0.5986,      0.5996,\n",
       "            0.6006,      0.6016,      0.6026,      0.6036,      0.6046,     0.60561,     0.60661,     0.60761,     0.60861,     0.60961,     0.61061,     0.61161,     0.61261,     0.61361,     0.61461,     0.61562,     0.61662,     0.61762,     0.61862,     0.61962,     0.62062,     0.62162,     0.62262,     0.62362,\n",
       "           0.62462,     0.62563,     0.62663,     0.62763,     0.62863,     0.62963,     0.63063,     0.63163,     0.63263,     0.63363,     0.63463,     0.63564,     0.63664,     0.63764,     0.63864,     0.63964,     0.64064,     0.64164,     0.64264,     0.64364,     0.64464,     0.64565,     0.64665,     0.64765,\n",
       "           0.64865,     0.64965,     0.65065,     0.65165,     0.65265,     0.65365,     0.65465,     0.65566,     0.65666,     0.65766,     0.65866,     0.65966,     0.66066,     0.66166,     0.66266,     0.66366,     0.66466,     0.66567,     0.66667,     0.66767,     0.66867,     0.66967,     0.67067,     0.67167,\n",
       "           0.67267,     0.67367,     0.67467,     0.67568,     0.67668,     0.67768,     0.67868,     0.67968,     0.68068,     0.68168,     0.68268,     0.68368,     0.68468,     0.68569,     0.68669,     0.68769,     0.68869,     0.68969,     0.69069,     0.69169,     0.69269,     0.69369,     0.69469,      0.6957,\n",
       "            0.6967,      0.6977,      0.6987,      0.6997,      0.7007,      0.7017,      0.7027,      0.7037,      0.7047,     0.70571,     0.70671,     0.70771,     0.70871,     0.70971,     0.71071,     0.71171,     0.71271,     0.71371,     0.71471,     0.71572,     0.71672,     0.71772,     0.71872,     0.71972,\n",
       "           0.72072,     0.72172,     0.72272,     0.72372,     0.72472,     0.72573,     0.72673,     0.72773,     0.72873,     0.72973,     0.73073,     0.73173,     0.73273,     0.73373,     0.73473,     0.73574,     0.73674,     0.73774,     0.73874,     0.73974,     0.74074,     0.74174,     0.74274,     0.74374,\n",
       "           0.74474,     0.74575,     0.74675,     0.74775,     0.74875,     0.74975,     0.75075,     0.75175,     0.75275,     0.75375,     0.75475,     0.75576,     0.75676,     0.75776,     0.75876,     0.75976,     0.76076,     0.76176,     0.76276,     0.76376,     0.76476,     0.76577,     0.76677,     0.76777,\n",
       "           0.76877,     0.76977,     0.77077,     0.77177,     0.77277,     0.77377,     0.77477,     0.77578,     0.77678,     0.77778,     0.77878,     0.77978,     0.78078,     0.78178,     0.78278,     0.78378,     0.78478,     0.78579,     0.78679,     0.78779,     0.78879,     0.78979,     0.79079,     0.79179,\n",
       "           0.79279,     0.79379,     0.79479,      0.7958,      0.7968,      0.7978,      0.7988,      0.7998,      0.8008,      0.8018,      0.8028,      0.8038,      0.8048,     0.80581,     0.80681,     0.80781,     0.80881,     0.80981,     0.81081,     0.81181,     0.81281,     0.81381,     0.81481,     0.81582,\n",
       "           0.81682,     0.81782,     0.81882,     0.81982,     0.82082,     0.82182,     0.82282,     0.82382,     0.82482,     0.82583,     0.82683,     0.82783,     0.82883,     0.82983,     0.83083,     0.83183,     0.83283,     0.83383,     0.83483,     0.83584,     0.83684,     0.83784,     0.83884,     0.83984,\n",
       "           0.84084,     0.84184,     0.84284,     0.84384,     0.84484,     0.84585,     0.84685,     0.84785,     0.84885,     0.84985,     0.85085,     0.85185,     0.85285,     0.85385,     0.85485,     0.85586,     0.85686,     0.85786,     0.85886,     0.85986,     0.86086,     0.86186,     0.86286,     0.86386,\n",
       "           0.86486,     0.86587,     0.86687,     0.86787,     0.86887,     0.86987,     0.87087,     0.87187,     0.87287,     0.87387,     0.87487,     0.87588,     0.87688,     0.87788,     0.87888,     0.87988,     0.88088,     0.88188,     0.88288,     0.88388,     0.88488,     0.88589,     0.88689,     0.88789,\n",
       "           0.88889,     0.88989,     0.89089,     0.89189,     0.89289,     0.89389,     0.89489,      0.8959,      0.8969,      0.8979,      0.8989,      0.8999,      0.9009,      0.9019,      0.9029,      0.9039,      0.9049,     0.90591,     0.90691,     0.90791,     0.90891,     0.90991,     0.91091,     0.91191,\n",
       "           0.91291,     0.91391,     0.91491,     0.91592,     0.91692,     0.91792,     0.91892,     0.91992,     0.92092,     0.92192,     0.92292,     0.92392,     0.92492,     0.92593,     0.92693,     0.92793,     0.92893,     0.92993,     0.93093,     0.93193,     0.93293,     0.93393,     0.93493,     0.93594,\n",
       "           0.93694,     0.93794,     0.93894,     0.93994,     0.94094,     0.94194,     0.94294,     0.94394,     0.94494,     0.94595,     0.94695,     0.94795,     0.94895,     0.94995,     0.95095,     0.95195,     0.95295,     0.95395,     0.95495,     0.95596,     0.95696,     0.95796,     0.95896,     0.95996,\n",
       "           0.96096,     0.96196,     0.96296,     0.96396,     0.96496,     0.96597,     0.96697,     0.96797,     0.96897,     0.96997,     0.97097,     0.97197,     0.97297,     0.97397,     0.97497,     0.97598,     0.97698,     0.97798,     0.97898,     0.97998,     0.98098,     0.98198,     0.98298,     0.98398,\n",
       "           0.98498,     0.98599,     0.98699,     0.98799,     0.98899,     0.98999,     0.99099,     0.99199,     0.99299,     0.99399,     0.99499,       0.996,       0.997,       0.998,       0.999,           1]), array([[          1,           1,           1,           1,           1,           1,           1,           1,           1,           1,           1,           1,           1,           1,           1,           1,           1,           1,           1,           1,     0.99231,     0.99231,     0.99231,\n",
       "            0.99231,     0.99231,     0.99231,     0.99231,     0.99231,     0.99231,     0.99231,     0.99231,     0.99231,     0.99231,     0.99231,     0.99231,     0.99231,     0.99231,     0.99231,     0.99231,     0.99231,     0.99231,     0.99231,     0.99231,     0.99231,     0.99231,     0.99231,\n",
       "            0.99231,     0.99231,     0.99231,     0.99231,     0.99231,     0.99231,     0.99231,     0.99231,     0.99231,     0.99231,     0.99231,     0.99117,     0.98499,     0.98462,     0.98462,     0.98462,     0.98462,     0.98462,     0.98462,     0.98462,     0.98462,     0.98462,     0.98462,\n",
       "            0.98462,     0.98462,     0.98462,     0.98462,     0.98462,     0.98462,     0.98462,     0.98462,     0.98462,     0.98462,     0.98462,     0.98462,     0.98462,     0.98462,     0.98462,     0.98462,     0.98462,     0.98462,     0.98462,     0.98462,     0.98462,     0.98462,     0.98462,\n",
       "              0.983,     0.98117,     0.97934,     0.97752,     0.97692,     0.97692,     0.97692,     0.97692,     0.97692,     0.97692,     0.97692,     0.97692,     0.97692,     0.97692,     0.97692,     0.97692,     0.97692,     0.97692,     0.97692,     0.97692,     0.97692,     0.97692,     0.97692,\n",
       "            0.97692,     0.97692,     0.97692,     0.97692,     0.97692,     0.97692,     0.97692,     0.97692,     0.97692,     0.97692,     0.97692,     0.97692,     0.97692,     0.97692,     0.97692,     0.97692,     0.97692,     0.97692,     0.97692,     0.97692,     0.97692,     0.97692,     0.97692,\n",
       "            0.97692,     0.97692,     0.97692,     0.97692,     0.97692,     0.97692,     0.97692,     0.97692,     0.97692,     0.97692,     0.97692,     0.97692,     0.97692,     0.97692,     0.97692,     0.97692,     0.97692,     0.97692,     0.97692,     0.97692,     0.97692,     0.97692,     0.97692,\n",
       "            0.97692,     0.97692,     0.97692,     0.97692,     0.97692,     0.97692,     0.97692,     0.97227,     0.96923,     0.96923,     0.96923,     0.96923,     0.96923,     0.96923,     0.96923,     0.96923,     0.96923,     0.96923,     0.96923,     0.96923,     0.96923,     0.96923,     0.96923,\n",
       "            0.96923,     0.96923,     0.96923,     0.96923,     0.96923,     0.96923,     0.96923,     0.96923,     0.96923,     0.96923,     0.96923,     0.96923,     0.96923,     0.96923,     0.96923,     0.96923,     0.96923,     0.96923,     0.96923,     0.96923,     0.96923,     0.96923,     0.96923,\n",
       "            0.96923,     0.96923,     0.96923,     0.96923,     0.96923,     0.96923,     0.96923,     0.96923,     0.96923,     0.96923,     0.96923,     0.96923,     0.96923,     0.96923,     0.96923,     0.96923,     0.96923,     0.96923,     0.96923,     0.96923,     0.96923,     0.96923,     0.96923,\n",
       "            0.96923,     0.96923,     0.96923,     0.96923,     0.96923,     0.96923,     0.96923,     0.96923,     0.96923,     0.96923,     0.96905,     0.96884,     0.96863,     0.96842,     0.96821,       0.968,     0.96779,     0.96758,     0.96738,     0.96717,     0.96696,     0.96675,     0.96654,\n",
       "            0.96633,     0.96612,     0.96591,      0.9657,     0.96549,     0.96528,     0.96507,     0.96486,     0.96465,     0.96444,     0.96424,     0.96403,     0.96382,     0.96361,      0.9634,     0.96319,     0.96298,     0.96277,     0.96256,     0.96235,     0.96214,     0.96193,     0.96172,\n",
       "            0.96134,     0.95957,     0.95781,     0.95605,     0.95429,     0.95385,     0.95385,     0.95385,     0.95297,     0.95194,     0.95092,     0.94989,     0.94886,     0.94783,      0.9468,     0.94615,     0.94615,     0.94615,     0.94583,     0.94347,      0.9411,     0.93874,     0.93688,\n",
       "            0.93508,     0.93329,     0.93149,     0.93077,     0.92905,     0.92658,     0.92412,     0.92308,     0.92308,     0.92308,     0.92308,     0.92308,     0.92308,     0.92276,     0.92152,     0.92028,     0.91904,      0.9178,     0.91656,     0.91533,     0.91429,     0.91326,     0.91222,\n",
       "            0.91118,     0.91014,     0.90911,     0.90807,     0.90769,     0.90769,     0.90769,     0.90769,     0.90769,     0.90769,     0.90769,     0.90769,     0.90769,     0.90769,     0.90769,     0.90751,     0.90669,     0.90588,     0.90506,     0.90424,     0.90343,     0.90261,     0.90179,\n",
       "            0.90097,     0.90016,         0.9,         0.9,         0.9,         0.9,         0.9,         0.9,         0.9,         0.9,         0.9,         0.9,         0.9,         0.9,         0.9,         0.9,         0.9,         0.9,         0.9,         0.9,     0.89948,     0.89652,     0.89355,\n",
       "            0.89231,     0.89231,     0.89231,     0.89231,     0.89231,     0.89124,     0.89015,     0.88907,     0.88798,     0.88689,      0.8858,     0.88471,     0.88462,     0.88462,     0.88462,     0.88462,     0.88462,     0.88462,     0.88462,     0.88462,     0.88462,     0.88462,     0.88462,\n",
       "            0.88373,      0.8828,     0.88187,     0.88094,     0.88002,     0.87909,     0.87816,     0.87724,     0.87692,     0.87692,     0.87648,     0.87582,     0.87517,     0.87451,     0.87386,      0.8732,     0.87255,     0.87189,     0.87124,     0.87058,     0.86993,     0.86927,     0.86923,\n",
       "            0.86896,     0.86746,     0.86596,     0.86446,     0.86296,     0.86154,     0.86154,     0.86154,     0.86154,     0.86147,     0.86098,     0.86049,        0.86,      0.8595,     0.85901,     0.85852,     0.85803,     0.85754,     0.85705,     0.85656,     0.85607,     0.85558,     0.85509,\n",
       "             0.8546,     0.85411,     0.85385,     0.85385,     0.85385,     0.85385,     0.85385,     0.85385,     0.85385,     0.85385,     0.85385,     0.85384,     0.85359,     0.85333,     0.85308,     0.85282,     0.85257,     0.85232,     0.85206,     0.85181,     0.85155,      0.8513,     0.85104,\n",
       "            0.85079,     0.85053,     0.85028,     0.85002,     0.84977,     0.84952,     0.84926,     0.84901,     0.84875,      0.8485,     0.84824,     0.84799,     0.84773,     0.84748,     0.84722,     0.84697,     0.84672,     0.84646,     0.84621,      0.8455,     0.84467,     0.84384,     0.84301,\n",
       "            0.84218,     0.84135,     0.84053,      0.8397,     0.83887,     0.83823,     0.83777,     0.83731,     0.83685,     0.83638,     0.83592,     0.83546,       0.835,     0.83454,     0.83408,     0.83362,     0.83316,      0.8327,     0.83224,     0.83178,     0.83132,     0.83086,     0.82973,\n",
       "            0.82844,     0.82716,     0.82588,     0.82459,     0.82331,     0.82308,     0.82308,     0.82308,     0.82308,     0.82308,     0.82308,     0.82308,     0.82308,     0.82308,     0.82308,     0.82308,     0.82308,     0.82308,     0.82308,     0.82308,     0.82299,     0.82164,     0.82029,\n",
       "            0.81894,     0.81759,     0.81624,     0.81538,     0.81538,     0.81538,     0.81538,     0.81538,     0.81538,     0.81538,     0.81538,     0.81538,     0.81538,     0.81538,     0.81538,     0.81538,     0.81538,     0.81538,     0.81538,     0.81538,     0.81538,     0.81538,     0.81538,\n",
       "            0.81538,     0.81538,     0.81538,     0.81538,     0.81538,     0.81538,     0.81538,     0.81538,     0.81538,     0.81538,     0.81538,     0.81538,     0.80745,       0.807,     0.80655,      0.8061,     0.80565,     0.80519,     0.80474,     0.80429,     0.80384,     0.80338,     0.80293,\n",
       "            0.80248,     0.80203,     0.80158,     0.80112,     0.80067,     0.80022,     0.79741,     0.79238,     0.79128,     0.79023,     0.78919,     0.78814,     0.78709,     0.78605,       0.785,     0.78402,     0.78308,     0.78214,      0.7812,     0.78026,     0.77932,     0.77839,     0.77745,\n",
       "            0.77453,     0.76923,     0.76655,     0.76358,     0.75345,     0.75217,      0.7509,     0.74962,     0.74835,     0.74707,     0.74454,     0.73882,     0.72926,     0.72759,     0.72592,     0.72425,     0.72295,     0.72253,      0.7221,     0.72168,     0.72125,     0.72083,     0.72041,\n",
       "            0.71998,     0.71956,     0.71914,     0.71871,     0.71829,     0.71786,     0.71744,     0.71702,     0.71659,     0.71617,     0.71574,     0.71538,     0.71538,     0.71538,     0.71538,     0.71538,     0.71538,     0.71538,     0.71538,     0.71538,     0.71538,     0.71538,     0.71538,\n",
       "            0.71538,     0.71511,     0.71476,     0.71442,     0.71407,     0.71373,     0.71338,     0.71304,     0.71269,     0.71235,       0.712,     0.71166,     0.71131,     0.71097,     0.71062,     0.71028,     0.70993,     0.70959,     0.70924,     0.70889,     0.70855,      0.7082,     0.70786,\n",
       "            0.70715,     0.70611,     0.70507,     0.70403,     0.70298,     0.70194,      0.7009,     0.69983,     0.69863,     0.69743,     0.69624,     0.69504,     0.69384,     0.69264,     0.69231,     0.69121,     0.68913,     0.68704,     0.68496,     0.68358,     0.68233,     0.68108,     0.67983,\n",
       "            0.67859,     0.67734,     0.67692,     0.67692,     0.67692,     0.67692,     0.67692,     0.67692,     0.67663,      0.6758,     0.67498,     0.67416,     0.67333,     0.67251,     0.67169,     0.67086,     0.67004,      0.6692,     0.66761,     0.66602,     0.66443,     0.66284,     0.66117,\n",
       "            0.65913,     0.65709,     0.65505,     0.65334,      0.6521,     0.65086,     0.64962,     0.64838,     0.64714,     0.64615,     0.64548,     0.63984,     0.63145,     0.62953,     0.62819,     0.62684,      0.6255,     0.62416,     0.62262,     0.62021,      0.6178,     0.61539,     0.61424,\n",
       "             0.6131,     0.61195,     0.61081,     0.60966,     0.60852,     0.60544,     0.59116,     0.58764,     0.58449,     0.58364,     0.58278,     0.58192,     0.58106,     0.58021,     0.57935,     0.57849,     0.57764,     0.57602,     0.57065,       0.553,     0.55004,     0.54709,     0.53846,\n",
       "            0.53846,     0.53846,     0.53846,     0.53846,     0.53846,     0.53697,     0.53148,     0.52427,      0.5203,       0.517,     0.51538,     0.51538,     0.51538,     0.51077,         0.5,     0.49053,     0.48658,     0.45997,     0.45526,     0.45165,     0.44851,     0.44216,      0.4276,\n",
       "              0.421,      0.4164,     0.41232,     0.40839,     0.40706,      0.4063,     0.40554,     0.40477,     0.40401,     0.40324,     0.40248,     0.40171,     0.40095,     0.40018,     0.38718,     0.37977,     0.36898,     0.36731,     0.36564,     0.36396,     0.36229,     0.34501,     0.32235,\n",
       "            0.31869,      0.3135,     0.29125,     0.28593,     0.27919,     0.25373,       0.251,     0.24827,     0.24553,     0.24272,     0.23991,     0.23001,     0.22844,     0.22688,     0.22531,     0.22374,     0.21875,     0.21338,     0.20975,     0.19911,     0.19625,      0.1934,     0.18804,\n",
       "            0.18267,     0.17882,     0.17606,     0.17436,     0.17266,     0.17097,     0.16927,     0.14983,     0.14536,     0.14246,     0.13956,     0.13777,     0.13666,     0.13555,     0.13444,     0.13333,     0.13222,     0.13111,     0.12294,      0.1219,     0.12086,     0.11982,     0.11878,\n",
       "            0.11773,     0.11669,     0.11565,     0.10907,     0.10557,     0.10303,     0.10049,    0.096901,    0.093052,    0.089143,     0.08522,    0.072617,    0.068233,    0.065253,    0.062274,    0.061145,    0.060622,    0.060099,    0.059577,    0.059054,    0.058531,    0.058009,    0.057486,\n",
       "           0.056964,    0.056441,    0.055918,    0.055396,    0.054873,     0.05435,    0.053598,    0.046613,    0.044976,    0.043715,    0.042455,    0.041194,    0.039933,    0.038673,    0.035502,    0.031947,    0.025467,     0.02281,    0.022427,    0.022044,    0.021662,    0.021279,    0.020896,\n",
       "           0.020514,    0.020131,    0.019748,    0.019366,    0.018983,      0.0186,    0.018218,    0.017835,    0.017452,     0.01707,    0.016687,    0.016304,    0.015922,    0.015539,           0,           0,           0,           0,           0,           0,           0,           0,           0,\n",
       "                  0,           0,           0,           0,           0,           0,           0,           0,           0,           0,           0,           0,           0,           0,           0,           0,           0,           0,           0,           0,           0,           0,           0,\n",
       "                  0,           0,           0,           0,           0,           0,           0,           0,           0,           0,           0,           0,           0,           0,           0,           0,           0,           0,           0,           0,           0,           0,           0,\n",
       "                  0,           0,           0,           0,           0,           0,           0,           0,           0,           0,           0,           0,           0,           0,           0,           0,           0,           0,           0,           0,           0,           0,           0,\n",
       "                  0,           0,           0,           0,           0,           0,           0,           0,           0,           0,           0]]), 'Confidence', 'Recall']]\n",
       "fitness: 0.6188613818404378\n",
       "keys: ['metrics/precision(B)', 'metrics/recall(B)', 'metrics/mAP50(B)', 'metrics/mAP50-95(B)']\n",
       "maps: array([    0.58193])\n",
       "names: {0: 'class_0'}\n",
       "plot: True\n",
       "results_dict: {'metrics/precision(B)': 0.8227122872452646, 'metrics/recall(B)': 0.9638167954917023, 'metrics/mAP50(B)': 0.9512559801588044, 'metrics/mAP50-95(B)': 0.5819286486939526, 'fitness': 0.6188613818404378}\n",
       "save_dir: WindowsPath('runs/detect/train2')\n",
       "speed: {'preprocess': 0.7074369234032929, 'inference': 38.950242307216214, 'loss': 4.00003045797348e-05, 'postprocess': 0.5877138464711607}\n",
       "task: 'detect'"
      ]
     },
     "execution_count": 29,
     "metadata": {},
     "output_type": "execute_result"
    }
   ],
   "source": [
    "from ultralytics import YOLO\n",
    "\n",
    "model = YOLO(\"yolov8n.pt\")\n",
    "\n",
    "model.train(data=r\"dataset/data.yaml\", epochs=50, imgsz=640, batch=16)\n"
   ]
  },
  {
   "cell_type": "code",
   "execution_count": 32,
   "id": "37b0d09d-107d-44e9-bff6-97138c8a686e",
   "metadata": {},
   "outputs": [
    {
     "name": "stdout",
     "output_type": "stream",
     "text": [
      "Model loaded successfully!\n"
     ]
    }
   ],
   "source": [
    "from ultralytics import YOLO\n",
    "\n",
    "# Load the trained model\n",
    "model_path = r\"runs\\detect\\train2\\weights\\best.pt\"\n",
    "model = YOLO(model_path)  # Load the trained model\n",
    "\n",
    "print(\"Model loaded successfully!\")\n"
   ]
  },
  {
   "cell_type": "code",
   "execution_count": 33,
   "id": "a582d81a-f009-45cb-b8ec-670539bbbf04",
   "metadata": {},
   "outputs": [],
   "source": [
    "def get_bounding_box(model,car_img_add):\n",
    "    result = model(car_img_add)\n",
    "    xmin, ymin, xmax, ymax = 0,0,0,0\n",
    "\n",
    "    bounding_box = []\n",
    "    \n",
    "    for r in result:\n",
    "        for box in r.boxes:\n",
    "            # Convert to integer coordinates\n",
    "            xmin, ymin, xmax, ymax = map(int, box.xyxy[0])\n",
    "            bounding_box.append([xmin,ymin,xmax,ymax])\n",
    "\n",
    "    return bounding_box"
   ]
  },
  {
   "cell_type": "code",
   "execution_count": 36,
   "id": "30ecce73-58c3-49f5-8024-cce62cbc9957",
   "metadata": {},
   "outputs": [],
   "source": [
    "# now, trying this model out on a traffic surveillance footage."
   ]
  },
  {
   "cell_type": "code",
   "execution_count": 74,
   "id": "26a3116a-29af-4b2a-84bf-2bef5e1b6c08",
   "metadata": {},
   "outputs": [
    {
     "data": {
      "text/plain": [
       "True"
      ]
     },
     "execution_count": 74,
     "metadata": {},
     "output_type": "execute_result"
    }
   ],
   "source": [
    "video = r\"cars.mp4\"\n",
    "os.path.exists(video)"
   ]
  },
  {
   "cell_type": "code",
   "execution_count": 79,
   "id": "a5c54310-144f-41bb-b4a6-78323a728111",
   "metadata": {},
   "outputs": [
    {
     "name": "stdout",
     "output_type": "stream",
     "text": [
      "781, 123 , 816 , 139\n",
      "777, 127 , 814 , 144\n",
      "241, 311 , 292 , 330\n",
      "776, 129 , 816 , 145\n",
      "774, 136 , 812 , 152\n",
      "239, 311 , 291 , 331\n",
      "773, 137 , 811 , 155\n",
      "772, 139 , 811 , 156\n",
      "771, 140 , 812 , 157\n",
      "770, 144 , 809 , 162\n",
      "770, 147 , 806 , 164\n",
      "763, 151 , 804 , 167\n",
      "241, 311 , 292 , 330\n",
      "761, 151 , 805 , 168\n",
      "764, 154 , 801 , 172\n",
      "763, 156 , 800 , 174\n",
      "759, 159 , 799 , 175\n",
      "758, 162 , 796 , 178\n",
      "754, 162 , 797 , 180\n",
      "312, 57 , 943 , 540\n",
      "753, 165 , 796 , 183\n",
      "753, 167 , 793 , 185\n",
      "322, 58 , 945 , 540\n",
      "751, 170 , 788 , 187\n",
      "336, 58 , 945 , 540\n",
      "747, 173 , 789 , 190\n",
      "744, 175 , 786 , 192\n",
      "743, 176 , 787 , 193\n",
      "744, 179 , 783 , 198\n",
      "740, 183 , 782 , 199\n",
      "739, 186 , 779 , 203\n",
      "735, 187 , 779 , 204\n",
      "734, 190 , 776 , 208\n",
      "733, 192 , 774 , 210\n",
      "730, 196 , 771 , 212\n",
      "726, 198 , 769 , 215\n",
      "724, 199 , 770 , 217\n",
      "723, 204 , 765 , 222\n",
      "721, 207 , 762 , 224\n",
      "719, 210 , 760 , 226\n",
      "714, 211 , 760 , 229\n",
      "717, 215 , 757 , 234\n",
      "711, 217 , 753 , 235\n",
      "709, 220 , 752 , 238\n",
      "704, 223 , 750 , 240\n",
      "704, 225 , 749 , 244\n",
      "702, 229 , 745 , 246\n",
      "699, 232 , 740 , 250\n",
      "695, 235 , 739 , 252\n",
      "694, 238 , 737 , 257\n",
      "689, 241 , 735 , 260\n",
      "686, 246 , 730 , 262\n",
      "683, 248 , 727 , 267\n",
      "682, 250 , 726 , 270\n",
      "678, 256 , 723 , 273\n",
      "673, 259 , 721 , 277\n",
      "673, 262 , 716 , 282\n",
      "667, 268 , 713 , 285\n",
      "663, 270 , 712 , 288\n",
      "662, 273 , 708 , 292\n",
      "657, 278 , 704 , 295\n",
      "653, 282 , 701 , 300\n",
      "650, 284 , 699 , 305\n",
      "647, 290 , 693 , 308\n",
      "641, 293 , 690 , 312\n",
      "638, 295 , 687 , 317\n",
      "636, 302 , 680 , 320\n",
      "629, 306 , 679 , 324\n",
      "626, 310 , 675 , 329\n",
      "621, 315 , 668 , 334\n",
      "617, 318 , 666 , 337\n",
      "614, 323 , 663 , 342\n",
      "608, 328 , 655 , 346\n",
      "602, 331 , 652 , 353\n",
      "599, 336 , 648 , 357\n",
      "242, 312 , 292 , 330\n",
      "593, 342 , 642 , 361\n",
      "590, 345 , 640 , 366\n",
      "583, 351 , 632 , 371\n",
      "576, 355 , 628 , 377\n",
      "573, 360 , 620 , 380\n",
      "566, 366 , 618 , 386\n",
      "560, 370 , 610 , 391\n",
      "552, 376 , 605 , 396\n",
      "549, 381 , 599 , 403\n",
      "542, 388 , 594 , 407\n",
      "537, 392 , 588 , 413\n",
      "531, 400 , 582 , 419\n",
      "525, 404 , 574 , 426\n",
      "516, 411 , 568 , 432\n",
      "242, 312 , 292 , 330\n",
      "510, 417 , 561 , 438\n",
      "242, 312 , 292 , 330\n",
      "501, 424 , 555 , 444\n",
      "242, 312 , 292 , 330\n",
      "494, 430 , 547 , 451\n",
      "242, 312 , 292 , 330\n",
      "486, 437 , 541 , 456\n",
      "242, 312 , 292 , 330\n",
      "482, 443 , 535 , 463\n",
      "471, 449 , 526 , 472\n",
      "242, 312 , 292 , 330\n",
      "457, 463 , 510 , 486\n",
      "439, 477 , 497 , 499\n",
      "432, 485 , 486 , 505\n",
      "416, 500 , 472 , 522\n",
      "406, 507 , 463 , 529\n",
      "242, 311 , 292 , 330\n",
      "242, 311 , 292 , 330\n",
      "242, 311 , 292 , 330\n",
      "242, 311 , 292 , 330\n",
      "242, 311 , 292 , 330\n",
      "242, 311 , 292 , 330\n",
      "242, 311 , 292 , 330\n",
      "242, 311 , 292 , 330\n",
      "242, 311 , 292 , 330\n",
      "242, 311 , 292 , 330\n",
      "344, 57 , 949 , 533\n",
      "242, 311 , 292 , 330\n",
      "286, 57 , 951 , 534\n",
      "242, 311 , 292 , 330\n",
      "252, 56 , 952 , 534\n",
      "242, 311 , 292 , 330\n",
      "198, 55 , 952 , 537\n",
      "257, 56 , 955 , 535\n",
      "242, 311 , 292 , 330\n",
      "223, 56 , 954 , 537\n",
      "242, 311 , 292 , 330\n",
      "242, 311 , 292 , 329\n",
      "337, 22 , 955 , 503\n",
      "242, 311 , 292 , 330\n",
      "356, 23 , 956 , 505\n",
      "242, 311 , 292 , 330\n",
      "394, 23 , 956 , 505\n",
      "218, 56 , 954 , 537\n",
      "242, 311 , 292 , 330\n",
      "225, 56 , 955 , 538\n",
      "407, 24 , 956 , 505\n",
      "242, 311 , 292 , 330\n",
      "250, 56 , 955 , 537\n",
      "417, 24 , 956 , 505\n",
      "261, 56 , 955 , 537\n",
      "408, 24 , 957 , 505\n",
      "242, 311 , 292 , 330\n",
      "297, 56 , 955 , 537\n",
      "242, 311 , 292 , 330\n",
      "424, 25 , 957 , 506\n",
      "242, 311 , 292 , 330\n",
      "387, 20 , 958 , 505\n",
      "242, 311 , 292 , 330\n",
      "392, 21 , 958 , 504\n",
      "242, 311 , 292 , 330\n",
      "394, 22 , 958 , 503\n",
      "242, 311 , 292 , 330\n",
      "243, 105 , 949 , 540\n",
      "406, 21 , 958 , 503\n",
      "242, 311 , 292 , 330\n",
      "402, 23 , 958 , 503\n",
      "242, 311 , 292 , 330\n",
      "403, 25 , 958 , 503\n",
      "242, 311 , 292 , 330\n",
      "405, 25 , 958 , 503\n",
      "242, 311 , 292 , 330\n",
      "407, 23 , 959 , 503\n",
      "242, 311 , 292 , 330\n",
      "927, 69 , 958 , 88\n",
      "395, 25 , 958 , 503\n",
      "242, 311 , 292 , 330\n",
      "398, 23 , 958 , 503\n",
      "242, 311 , 292 , 330\n",
      "388, 17 , 958 , 503\n",
      "242, 311 , 292 , 330\n",
      "391, 18 , 958 , 503\n",
      "904, 80 , 933 , 95\n",
      "391, 16 , 957 , 503\n",
      "242, 311 , 292 , 330\n",
      "899, 81 , 931 , 96\n",
      "389, 17 , 955 , 503\n",
      "892, 83 , 928 , 100\n",
      "392, 14 , 956 , 503\n",
      "242, 311 , 292 , 330\n",
      "888, 85 , 921 , 102\n",
      "387, 13 , 957 , 503\n",
      "883, 88 , 918 , 104\n",
      "879, 92 , 910 , 107\n",
      "868, 96 , 903 , 114\n",
      "842, 113 , 877 , 128\n",
      "834, 119 , 871 , 136\n",
      "830, 120 , 866 , 138\n",
      "831, 125 , 862 , 141\n",
      "820, 131 , 858 , 149\n",
      "819, 133 , 853 , 150\n",
      "816, 138 , 850 , 154\n",
      "808, 140 , 850 , 156\n",
      "808, 142 , 843 , 161\n",
      "805, 144 , 841 , 162\n",
      "424, 9 , 957 , 509\n",
      "426, 10 , 959 , 507\n",
      "802, 149 , 838 , 164\n",
      "425, 9 , 959 , 507\n",
      "794, 154 , 833 , 172\n",
      "793, 156 , 830 , 174\n",
      "408, 9 , 959 , 505\n",
      "789, 162 , 827 , 179\n",
      "411, 9 , 959 , 505\n",
      "784, 164 , 826 , 180\n",
      "781, 168 , 823 , 187\n",
      "421, 10 , 960 , 507\n",
      "782, 173 , 818 , 190\n",
      "772, 176 , 816 , 192\n",
      "776, 180 , 813 , 198\n",
      "770, 181 , 811 , 200\n",
      "767, 187 , 807 , 204\n",
      "762, 190 , 805 , 209\n",
      "760, 192 , 804 , 212\n",
      "756, 198 , 799 , 216\n",
      "756, 202 , 796 , 221\n",
      "750, 204 , 794 , 223\n",
      "748, 210 , 790 , 228\n",
      "743, 213 , 787 , 232\n",
      "741, 215 , 786 , 235\n",
      "737, 221 , 780 , 239\n",
      "732, 225 , 779 , 243\n",
      "239, 311 , 292 , 331\n",
      "731, 227 , 776 , 247\n",
      "724, 234 , 768 , 252\n",
      "239, 311 , 292 , 331\n",
      "723, 238 , 769 , 258\n",
      "718, 241 , 764 , 261\n",
      "241, 311 , 292 , 329\n",
      "713, 247 , 761 , 265\n",
      "241, 311 , 292 , 329\n",
      "713, 251 , 758 , 270\n",
      "709, 257 , 752 , 275\n",
      "700, 260 , 749 , 281\n",
      "241, 311 , 292 , 329\n",
      "699, 264 , 746 , 286\n",
      "694, 270 , 741 , 289\n",
      "241, 311 , 292 , 329\n",
      "692, 275 , 738 , 294\n",
      "241, 311 , 292 , 329\n",
      "687, 280 , 734 , 300\n",
      "241, 311 , 292 , 329\n",
      "679, 284 , 729 , 305\n",
      "242, 311 , 292 , 329\n",
      "677, 288 , 727 , 309\n",
      "242, 311 , 292 , 329\n",
      "674, 294 , 724 , 316\n",
      "242, 311 , 292 , 329\n",
      "671, 299 , 716 , 320\n",
      "242, 311 , 292 , 329\n",
      "666, 307 , 713 , 325\n",
      "242, 311 , 292 , 329\n",
      "662, 310 , 710 , 332\n",
      "242, 311 , 292 , 329\n",
      "653, 317 , 704 , 337\n",
      "242, 311 , 292 , 329\n",
      "650, 322 , 701 , 342\n",
      "242, 311 , 292 , 329\n",
      "646, 327 , 695 , 347\n",
      "242, 311 , 292 , 329\n",
      "643, 331 , 692 , 354\n",
      "242, 311 , 292 , 329\n",
      "638, 338 , 686 , 359\n",
      "241, 311 , 292 , 329\n",
      "632, 343 , 683 , 366\n",
      "241, 311 , 292 , 329\n",
      "627, 351 , 678 , 371\n",
      "241, 311 , 292 , 329\n",
      "624, 356 , 675 , 378\n",
      "241, 311 , 292 , 329\n",
      "618, 362 , 668 , 384\n",
      "242, 311 , 292 , 329\n",
      "241, 311 , 292 , 330\n",
      "607, 374 , 660 , 396\n",
      "241, 311 , 292 , 330\n",
      "601, 380 , 655 , 403\n",
      "241, 311 , 292 , 330\n",
      "595, 387 , 650 , 409\n",
      "241, 311 , 292 , 330\n",
      "593, 395 , 645 , 417\n",
      "241, 311 , 292 , 330\n",
      "584, 401 , 641 , 423\n",
      "581, 407 , 634 , 430\n",
      "574, 414 , 632 , 437\n",
      "571, 421 , 624 , 444\n",
      "565, 427 , 620 , 452\n",
      "241, 311 , 292 , 330\n",
      "555, 435 , 614 , 457\n",
      "552, 443 , 608 , 465\n",
      "241, 311 , 292 , 329\n",
      "545, 451 , 603 , 475\n",
      "241, 311 , 292 , 330\n",
      "541, 459 , 595 , 480\n",
      "240, 311 , 292 , 330\n",
      "502, 476 , 610 , 514\n",
      "506, 478 , 580 , 509\n",
      "502, 478 , 609 , 516\n",
      "241, 311 , 291 , 330\n",
      "505, 481 , 570 , 514\n",
      "502, 510 , 563 , 529\n",
      "242, 311 , 292 , 330\n",
      "501, 518 , 557 , 537\n",
      "242, 311 , 292 , 330\n",
      "242, 311 , 292 , 330\n",
      "242, 311 , 292 , 330\n",
      "242, 311 , 292 , 330\n",
      "242, 311 , 292 , 330\n",
      "242, 311 , 292 , 330\n",
      "242, 311 , 292 , 330\n",
      "241, 311 , 292 , 330\n",
      "241, 311 , 292 , 330\n",
      "241, 311 , 292 , 330\n",
      "241, 311 , 292 , 330\n",
      "241, 311 , 292 , 330\n",
      "241, 311 , 292 , 330\n",
      "241, 311 , 292 , 330\n",
      "240, 311 , 291 , 331\n",
      "240, 311 , 291 , 331\n",
      "241, 311 , 292 , 330\n",
      "241, 311 , 292 , 330\n",
      "241, 311 , 292 , 330\n",
      "241, 311 , 292 , 330\n",
      "241, 311 , 292 , 330\n",
      "241, 311 , 292 , 330\n",
      "241, 311 , 292 , 330\n",
      "241, 311 , 292 , 330\n",
      "241, 311 , 292 , 330\n",
      "241, 311 , 292 , 330\n",
      "241, 311 , 292 , 330\n",
      "241, 311 , 292 , 330\n",
      "241, 311 , 292 , 330\n",
      "241, 311 , 292 , 330\n",
      "241, 311 , 292 , 330\n",
      "241, 311 , 292 , 330\n",
      "241, 311 , 292 , 330\n",
      "241, 311 , 292 , 330\n",
      "241, 311 , 292 , 330\n",
      "241, 311 , 292 , 330\n",
      "241, 311 , 292 , 330\n",
      "241, 311 , 292 , 330\n",
      "240, 311 , 291 , 329\n",
      "240, 311 , 291 , 330\n",
      "241, 311 , 291 , 329\n",
      "240, 311 , 291 , 329\n",
      "241, 311 , 291 , 329\n",
      "238, 311 , 291 , 331\n",
      "238, 311 , 291 , 331\n",
      "238, 311 , 291 , 331\n",
      "238, 311 , 291 , 331\n",
      "238, 311 , 291 , 331\n",
      "238, 311 , 291 , 331\n",
      "238, 311 , 291 , 331\n",
      "238, 311 , 291 , 331\n",
      "238, 311 , 291 , 331\n",
      "238, 311 , 291 , 331\n",
      "238, 311 , 291 , 331\n",
      "238, 311 , 291 , 331\n",
      "238, 311 , 291 , 331\n",
      "238, 311 , 291 , 331\n",
      "238, 311 , 291 , 331\n",
      "238, 311 , 291 , 331\n",
      "238, 311 , 291 , 331\n",
      "238, 311 , 291 , 331\n",
      "238, 311 , 291 , 331\n",
      "238, 311 , 291 , 331\n",
      "238, 311 , 291 , 331\n",
      "238, 311 , 291 , 331\n",
      "238, 311 , 291 , 331\n",
      "238, 311 , 291 , 331\n",
      "238, 311 , 291 , 331\n",
      "238, 311 , 291 , 331\n",
      "238, 311 , 291 , 331\n",
      "238, 311 , 290 , 331\n",
      "240, 311 , 291 , 330\n",
      "240, 311 , 291 , 330\n",
      "240, 311 , 291 , 330\n",
      "240, 311 , 291 , 330\n",
      "240, 311 , 291 , 330\n",
      "240, 311 , 291 , 330\n",
      "238, 311 , 290 , 331\n",
      "238, 311 , 290 , 331\n",
      "238, 311 , 290 , 331\n",
      "421, 49 , 953 , 512\n",
      "422, 49 , 953 , 513\n",
      "237, 311 , 291 , 332\n",
      "422, 48 , 953 , 514\n",
      "237, 311 , 291 , 332\n",
      "237, 311 , 290 , 331\n",
      "389, 31 , 956 , 494\n",
      "237, 311 , 290 , 331\n",
      "237, 311 , 290 , 331\n",
      "388, 33 , 955 , 493\n",
      "396, 33 , 956 , 493\n",
      "237, 311 , 291 , 331\n",
      "237, 311 , 291 , 331\n",
      "396, 34 , 956 , 492\n",
      "238, 311 , 290 , 331\n",
      "397, 34 , 955 , 492\n",
      "238, 311 , 290 , 331\n",
      "398, 34 , 955 , 492\n",
      "238, 311 , 290 , 331\n",
      "398, 34 , 955 , 492\n",
      "238, 311 , 290 , 331\n",
      "238, 311 , 290 , 331\n",
      "238, 311 , 290 , 331\n",
      "240, 311 , 291 , 330\n",
      "439, 0 , 955 , 458\n",
      "240, 311 , 291 , 330\n",
      "438, 0 , 955 , 459\n",
      "240, 311 , 291 , 330\n",
      "441, 0 , 956 , 459\n",
      "240, 311 , 291 , 330\n",
      "443, 0 , 956 , 459\n",
      "240, 311 , 291 , 330\n",
      "442, 0 , 956 , 459\n",
      "240, 311 , 291 , 330\n",
      "374, 25 , 956 , 492\n",
      "240, 311 , 291 , 330\n",
      "240, 311 , 291 , 330\n",
      "371, 28 , 955 , 492\n",
      "240, 311 , 291 , 330\n",
      "241, 311 , 291 , 330\n",
      "239, 311 , 291 , 331\n",
      "239, 311 , 291 , 331\n",
      "238, 311 , 291 , 331\n",
      "238, 311 , 291 , 331\n",
      "241, 312 , 291 , 330\n",
      "241, 312 , 291 , 330\n",
      "843, 86 , 879 , 104\n",
      "241, 312 , 291 , 330\n",
      "839, 92 , 882 , 109\n",
      "240, 312 , 291 , 330\n",
      "241, 312 , 292 , 331\n",
      "241, 312 , 292 , 331\n",
      "241, 312 , 291 , 330\n",
      "241, 312 , 292 , 331\n",
      "241, 312 , 292 , 330\n",
      "241, 312 , 291 , 330\n",
      "241, 312 , 292 , 331\n",
      "772, 234 , 811 , 251\n",
      "767, 239 , 811 , 259\n",
      "241, 311 , 292 , 330\n",
      "762, 250 , 808 , 268\n",
      "241, 311 , 292 , 330\n",
      "758, 258 , 803 , 276\n",
      "755, 268 , 797 , 289\n",
      "242, 311 , 292 , 330\n",
      "750, 276 , 795 , 295\n",
      "744, 287 , 790 , 307\n",
      "241, 311 , 292 , 330\n",
      "739, 299 , 787 , 319\n",
      "240, 311 , 291 , 331\n",
      "734, 310 , 783 , 332\n",
      "242, 311 , 292 , 330\n",
      "728, 322 , 779 , 342\n",
      "242, 311 , 292 , 330\n",
      "242, 311 , 292 , 330\n",
      "726, 334 , 773 , 354\n",
      "242, 311 , 292 , 330\n",
      "716, 358 , 761 , 379\n",
      "242, 311 , 292 , 330\n",
      "705, 371 , 757 , 393\n",
      "699, 383 , 750 , 407\n",
      "242, 311 , 292 , 330\n",
      "692, 395 , 745 , 421\n",
      "687, 410 , 739 , 432\n",
      "678, 425 , 731 , 450\n",
      "241, 312 , 292 , 331\n",
      "671, 437 , 727 , 466\n",
      "667, 455 , 719 , 479\n",
      "238, 311 , 292 , 332\n",
      "239, 311 , 292 , 331\n",
      "239, 311 , 291 , 332\n",
      "239, 311 , 292 , 332\n",
      "240, 311 , 291 , 331\n",
      "241, 312 , 292 , 331\n",
      "238, 311 , 291 , 332\n",
      "238, 311 , 291 , 332\n",
      "241, 312 , 292 , 331\n",
      "400, 10 , 954 , 502\n",
      "241, 312 , 292 , 332\n",
      "420, 0 , 956 , 468\n",
      "399, 9 , 955 , 502\n",
      "237, 311 , 291 , 332\n",
      "403, 12 , 956 , 502\n",
      "396, 11 , 955 , 502\n",
      "396, 12 , 955 , 502\n",
      "237, 311 , 291 , 333\n",
      "397, 12 , 955 , 502\n",
      "237, 311 , 291 , 333\n",
      "395, 17 , 954 , 502\n",
      "395, 18 , 954 , 502\n",
      "393, 15 , 954 , 502\n",
      "389, 13 , 954 , 502\n",
      "379, 11 , 956 , 503\n",
      "240, 311 , 292 , 333\n",
      "716, 45 , 760 , 71\n",
      "406, 8 , 955 , 505\n",
      "409, 9 , 954 , 505\n",
      "237, 311 , 291 , 332\n",
      "239, 311 , 291 , 331\n",
      "239, 311 , 291 , 331\n",
      "917, 36 , 957 , 54\n",
      "239, 311 , 291 , 332\n",
      "692, 82 , 739 , 112\n",
      "239, 311 , 291 , 331\n",
      "239, 311 , 291 , 332\n",
      "239, 311 , 291 , 332\n",
      "687, 94 , 734 , 122\n",
      "239, 311 , 291 , 331\n",
      "914, 51 , 949 , 69\n",
      "913, 52 , 947 , 70\n",
      "240, 312 , 293 , 332\n",
      "909, 64 , 943 , 79\n",
      "669, 121 , 721 , 149\n",
      "239, 311 , 291 , 331\n",
      "906, 72 , 940 , 90\n",
      "904, 74 , 937 , 91\n",
      "903, 79 , 936 , 95\n",
      "657, 142 , 709 , 174\n",
      "902, 80 , 937 , 96\n",
      "901, 85 , 933 , 102\n",
      "362, 61 , 947 , 540\n",
      "896, 88 , 935 , 104\n",
      "895, 92 , 932 , 108\n",
      "640, 167 , 691 , 198\n",
      "893, 96 , 933 , 114\n",
      "892, 99 , 931 , 116\n",
      "890, 103 , 928 , 120\n",
      "633, 176 , 686 , 206\n",
      "889, 109 , 927 , 126\n",
      "890, 116 , 923 , 131\n",
      "241, 312 , 293 , 331\n",
      "886, 117 , 925 , 133\n",
      "242, 311 , 292 , 330\n",
      "882, 122 , 924 , 139\n",
      "240, 311 , 291 , 331\n",
      "880, 127 , 922 , 144\n",
      "242, 312 , 293 , 330\n",
      "606, 220 , 660 , 246\n",
      "242, 311 , 292 , 330\n",
      "879, 134 , 918 , 152\n",
      "601, 216 , 659 , 250\n",
      "242, 311 , 292 , 330\n",
      "878, 138 , 918 , 156\n",
      "600, 231 , 654 , 253\n",
      "242, 311 , 292 , 330\n",
      "242, 312 , 292 , 330\n",
      "878, 145 , 914 , 162\n",
      "591, 228 , 648 , 263\n",
      "876, 147 , 913 , 165\n",
      "242, 311 , 292 , 330\n",
      "870, 153 , 913 , 169\n",
      "239, 311 , 291 , 331\n",
      "241, 311 , 292 , 330\n",
      "578, 256 , 634 , 282\n",
      "572, 250 , 630 , 289\n",
      "241, 311 , 291 , 330\n",
      "240, 311 , 291 , 330\n",
      "240, 311 , 291 , 330\n",
      "242, 311 , 291 , 330\n",
      "558, 279 , 617 , 308\n",
      "862, 176 , 904 , 193\n",
      "552, 273 , 613 , 313\n",
      "861, 179 , 903 , 198\n",
      "241, 311 , 291 , 330\n",
      "858, 184 , 901 , 203\n",
      "241, 312 , 292 , 330\n",
      "543, 302 , 601 , 326\n",
      "240, 311 , 291 , 331\n",
      "855, 194 , 899 , 212\n",
      "240, 311 , 291 , 331\n",
      "853, 198 , 898 , 217\n",
      "530, 316 , 591 , 337\n",
      "240, 311 , 291 , 331\n",
      "526, 320 , 584 , 348\n",
      "852, 205 , 896 , 223\n",
      "240, 311 , 291 , 331\n",
      "851, 211 , 893 , 227\n",
      "519, 331 , 580 , 351\n",
      "240, 311 , 291 , 331\n",
      "513, 334 , 573 , 360\n",
      "846, 219 , 892 , 238\n",
      "240, 311 , 291 , 331\n",
      "845, 225 , 890 , 244\n",
      "240, 311 , 291 , 331\n",
      "843, 230 , 889 , 248\n",
      "493, 358 , 556 , 383\n",
      "840, 236 , 885 , 252\n",
      "488, 368 , 548 , 393\n",
      "239, 311 , 291 , 331\n",
      "480, 374 , 544 , 399\n",
      "837, 240 , 883 , 259\n",
      "834, 245 , 882 , 264\n",
      "475, 381 , 534 , 407\n",
      "836, 249 , 880 , 269\n",
      "457, 400 , 520 , 422\n",
      "832, 258 , 879 , 276\n",
      "831, 265 , 878 , 283\n",
      "451, 407 , 511 , 431\n",
      "827, 272 , 875 , 290\n",
      "443, 417 , 507 , 443\n",
      "825, 278 , 872 , 295\n",
      "433, 427 , 500 , 457\n",
      "822, 285 , 871 , 305\n",
      "428, 437 , 492 , 459\n",
      "819, 292 , 869 , 312\n",
      "419, 446 , 482 , 468\n",
      "818, 297 , 868 , 318\n",
      "408, 454 , 476 , 481\n",
      "816, 306 , 864 , 325\n",
      "401, 465 , 468 , 493\n",
      "394, 477 , 460 , 502\n",
      "812, 313 , 860 , 332\n",
      "382, 487 , 453 , 515\n",
      "810, 321 , 860 , 342\n",
      "808, 329 , 858 , 348\n",
      "372, 499 , 441 , 525\n",
      "805, 336 , 856 , 356\n",
      "361, 508 , 431 , 534\n",
      "239, 311 , 292 , 332\n",
      "799, 344 , 855 , 367\n",
      "352, 521 , 418 , 540\n",
      "239, 311 , 292 , 332\n",
      "798, 353 , 850 , 372\n",
      "239, 311 , 292 , 332\n",
      "797, 362 , 850 , 383\n",
      "239, 311 , 292 , 332\n",
      "795, 371 , 847 , 391\n",
      "239, 311 , 292 , 332\n",
      "793, 380 , 845 , 403\n",
      "239, 311 , 292 , 332\n",
      "787, 388 , 844 , 409\n",
      "239, 311 , 292 , 332\n",
      "787, 399 , 839 , 419\n",
      "239, 311 , 293 , 331\n",
      "783, 410 , 836 , 430\n",
      "241, 311 , 293 , 330\n",
      "782, 419 , 835 , 439\n",
      "242, 311 , 293 , 331\n",
      "777, 429 , 833 , 450\n",
      "241, 311 , 293 , 331\n",
      "774, 439 , 830 , 462\n",
      "241, 311 , 293 , 331\n",
      "771, 450 , 826 , 473\n",
      "241, 311 , 293 , 331\n",
      "242, 311 , 293 , 331\n",
      "242, 311 , 293 , 331\n",
      "698, 53 , 736 , 70\n",
      "242, 311 , 293 , 331\n",
      "242, 311 , 293 , 331\n",
      "753, 513 , 811 , 534\n",
      "242, 311 , 293 , 331\n",
      "242, 311 , 293 , 331\n",
      "746, 525 , 809 , 540\n",
      "242, 311 , 293 , 331\n",
      "242, 311 , 293 , 331\n",
      "242, 311 , 293 , 331\n",
      "242, 311 , 293 , 331\n",
      "242, 311 , 293 , 331\n",
      "242, 311 , 293 , 331\n",
      "242, 311 , 293 , 331\n",
      "242, 312 , 293 , 331\n",
      "242, 311 , 293 , 331\n",
      "687, 88 , 729 , 103\n",
      "242, 311 , 293 , 331\n",
      "242, 311 , 293 , 330\n",
      "242, 311 , 293 , 330\n",
      "242, 311 , 293 , 330\n",
      "242, 311 , 293 , 330\n",
      "242, 311 , 293 , 330\n",
      "242, 311 , 293 , 330\n",
      "242, 311 , 293 , 330\n",
      "242, 311 , 293 , 330\n",
      "242, 311 , 293 , 330\n",
      "242, 311 , 293 , 330\n",
      "242, 311 , 293 , 330\n",
      "242, 311 , 293 , 330\n",
      "242, 311 , 292 , 330\n",
      "675, 136 , 720 , 152\n",
      "242, 311 , 292 , 330\n",
      "242, 311 , 292 , 330\n",
      "242, 311 , 292 , 330\n",
      "242, 311 , 292 , 330\n",
      "242, 311 , 292 , 330\n",
      "242, 311 , 292 , 330\n",
      "443, 13 , 941 , 518\n",
      "438, 13 , 948 , 518\n",
      "242, 311 , 292 , 330\n",
      "430, 15 , 953 , 515\n",
      "242, 311 , 292 , 330\n",
      "430, 14 , 953 , 515\n",
      "242, 311 , 292 , 330\n",
      "421, 13 , 956 , 515\n",
      "242, 311 , 292 , 330\n",
      "242, 311 , 292 , 330\n",
      "664, 178 , 714 , 198\n",
      "665, 183 , 711 , 201\n",
      "242, 311 , 292 , 330\n",
      "660, 187 , 710 , 205\n",
      "659, 193 , 707 , 210\n",
      "661, 201 , 703 , 216\n",
      "655, 203 , 701 , 222\n",
      "242, 311 , 292 , 330\n",
      "657, 208 , 701 , 226\n",
      "242, 311 , 292 , 330\n",
      "242, 311 , 292 , 330\n",
      "649, 216 , 699 , 236\n",
      "242, 311 , 292 , 330\n",
      "648, 224 , 695 , 240\n",
      "240, 311 , 291 , 331\n",
      "642, 227 , 692 , 246\n",
      "240, 311 , 291 , 331\n",
      "643, 233 , 689 , 251\n",
      "240, 311 , 291 , 331\n",
      "641, 235 , 690 , 258\n",
      "240, 311 , 291 , 331\n",
      "640, 244 , 687 , 262\n",
      "242, 311 , 292 , 330\n",
      "636, 248 , 686 , 268\n",
      "242, 311 , 292 , 330\n",
      "632, 256 , 681 , 273\n",
      "242, 311 , 292 , 330\n",
      "629, 260 , 678 , 282\n",
      "242, 311 , 292 , 330\n",
      "628, 268 , 675 , 287\n",
      "242, 311 , 292 , 330\n",
      "618, 273 , 674 , 294\n",
      "242, 311 , 292 , 330\n",
      "617, 280 , 667 , 300\n",
      "242, 311 , 292 , 330\n",
      "613, 286 , 665 , 307\n",
      "242, 311 , 292 , 330\n",
      "612, 294 , 661 , 313\n",
      "240, 311 , 292 , 331\n",
      "606, 300 , 656 , 320\n",
      "240, 311 , 292 , 331\n",
      "240, 311 , 292 , 331\n",
      "598, 307 , 653 , 329\n",
      "593, 315 , 649 , 336\n",
      "240, 311 , 292 , 331\n",
      "594, 323 , 643 , 344\n",
      "240, 311 , 292 , 331\n",
      "586, 330 , 642 , 351\n",
      "240, 311 , 292 , 331\n",
      "583, 339 , 634 , 359\n",
      "240, 311 , 292 , 331\n",
      "579, 346 , 630 , 367\n",
      "571, 354 , 627 , 378\n",
      "240, 311 , 292 , 331\n",
      "568, 364 , 619 , 384\n",
      "240, 311 , 292 , 331\n",
      "562, 371 , 617 , 392\n",
      "240, 311 , 292 , 331\n",
      "555, 381 , 609 , 402\n",
      "240, 311 , 292 , 331\n",
      "544, 389 , 605 , 410\n",
      "240, 311 , 292 , 331\n",
      "542, 399 , 597 , 420\n",
      "536, 407 , 593 , 429\n",
      "530, 417 , 587 , 439\n",
      "524, 428 , 579 , 451\n",
      "516, 439 , 572 , 459\n",
      "504, 450 , 566 , 470\n",
      "242, 311 , 292 , 330\n",
      "243, 312 , 292 , 330\n",
      "243, 312 , 292 , 330\n",
      "242, 312 , 292 , 330\n",
      "466, 505 , 527 , 529\n",
      "243, 312 , 292 , 330\n",
      "460, 519 , 519 , 540\n",
      "242, 312 , 292 , 330\n",
      "242, 311 , 292 , 330\n",
      "242, 312 , 292 , 330\n",
      "242, 312 , 292 , 330\n",
      "242, 311 , 292 , 330\n",
      "242, 311 , 292 , 330\n",
      "242, 311 , 292 , 330\n",
      "242, 311 , 292 , 330\n",
      "242, 311 , 292 , 330\n",
      "242, 311 , 292 , 330\n",
      "242, 311 , 292 , 330\n",
      "242, 311 , 292 , 330\n",
      "242, 311 , 292 , 330\n",
      "242, 311 , 292 , 330\n",
      "242, 311 , 292 , 330\n",
      "242, 311 , 292 , 330\n",
      "242, 311 , 292 , 330\n",
      "242, 311 , 292 , 330\n",
      "242, 311 , 292 , 330\n",
      "242, 311 , 292 , 330\n",
      "242, 311 , 292 , 330\n",
      "242, 311 , 292 , 330\n",
      "242, 311 , 292 , 330\n",
      "242, 311 , 292 , 330\n",
      "242, 311 , 292 , 330\n"
     ]
    }
   ],
   "source": [
    "vid = cv.VideoCapture(video)\n",
    "while vid.isOpened():\n",
    "    ret, frame = vid.read()\n",
    "    if not ret:  # Break the loop if video ends\n",
    "            break\n",
    "\n",
    "    result = model.predict(frame, verbose = False)\n",
    "    frame = cv.resize(frame, (frame.shape[1]//2,frame.shape[0]//2))\n",
    "    for r in result:\n",
    "        for box in r.boxes:\n",
    "            # Convert to integer coordinates\n",
    "            xmin, ymin, xmax, ymax = map(int, box.xyxy[0])\n",
    "            xmin, ymin, xmax, ymax = xmin // 2, ymin // 2, xmax // 2, ymax // 2\n",
    "            cv.rectangle(frame, (xmin, ymin), (xmax, ymax), (0, 255, 0), 2)\n",
    "            print(f\"{xmin}, {ymin} , {xmax} , {ymax}\")\n",
    "    cv.imshow(\"some\",frame)\n",
    "    if cv.waitKey(20) & 0xFF == ord('q'):\n",
    "            break\n",
    "\n",
    "vid.release()\n",
    "cv.destroyAllWindows()"
   ]
  },
  {
   "cell_type": "code",
   "execution_count": 71,
   "id": "08c51ab4-1e26-47e1-90a9-49c6b72b3654",
   "metadata": {},
   "outputs": [],
   "source": [
    "cv.destroyAllWindows()"
   ]
  },
  {
   "cell_type": "code",
   "execution_count": null,
   "id": "f3a8798f-9429-4c18-b5e5-f84e2530f35a",
   "metadata": {},
   "outputs": [],
   "source": []
  }
 ],
 "metadata": {
  "kernelspec": {
   "display_name": "Python 3 (ipykernel)",
   "language": "python",
   "name": "python3"
  },
  "language_info": {
   "codemirror_mode": {
    "name": "ipython",
    "version": 3
   },
   "file_extension": ".py",
   "mimetype": "text/x-python",
   "name": "python",
   "nbconvert_exporter": "python",
   "pygments_lexer": "ipython3",
   "version": "3.11.7"
  }
 },
 "nbformat": 4,
 "nbformat_minor": 5
}
